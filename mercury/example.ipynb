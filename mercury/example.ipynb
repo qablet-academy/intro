{
 "cells": [
  {
   "cell_type": "code",
   "execution_count": null,
   "metadata": {},
   "outputs": [],
   "source": [
    "import mercury as mr # for widgets\n",
    "from matplotlib import pyplot as plt # for chart\n",
    "from qablet_contracts.rate.swaption import swaption_timetable # for swaption timetable\n",
    "import numpy as np"
   ]
  },
  {
   "cell_type": "code",
   "execution_count": null,
   "metadata": {},
   "outputs": [
    {
     "data": {
      "application/mercury+json": {
       "allow_download": true,
       "code_uid": "App.0.40.25.1-rand655beab3",
       "continuous_update": true,
       "description": "Samples app in Mercury",
       "full_screen": true,
       "model_id": "mercury-app",
       "notify": "{}",
       "output": "app",
       "schedule": "",
       "show_code": false,
       "show_prompt": false,
       "show_sidebar": true,
       "static_notebook": false,
       "stop_on_error": false,
       "title": "Hello in Mercury!",
       "widget": "App"
      },
      "text/html": [
       "<h3>Mercury Application</h3><small>This output won't appear in the web app.</small>"
      ],
      "text/plain": [
       "mercury.App"
      ]
     },
     "metadata": {},
     "output_type": "display_data"
    }
   ],
   "source": [
    "app = mr.App(title=\"Hello in Mercury!\", description=\"Samples app in Mercury\")"
   ]
  },
  {
   "cell_type": "code",
   "execution_count": null,
   "metadata": {},
   "outputs": [
    {
     "data": {
      "application/mercury+json": {
       "code_uid": "Slider.0.40.36.1-rand45c6d1e5",
       "disabled": false,
       "hidden": false,
       "label": "Fixed Rate (%)",
       "max": 10,
       "min": 0,
       "model_id": "54adbad366f24ea282f0495883b02bf2",
       "step": 1,
       "url_key": "",
       "value": 3,
       "widget": "Slider"
      },
      "application/vnd.jupyter.widget-view+json": {
       "model_id": "54adbad366f24ea282f0495883b02bf2",
       "version_major": 2,
       "version_minor": 0
      },
      "text/plain": [
       "mercury.Slider"
      ]
     },
     "metadata": {},
     "output_type": "display_data"
    },
    {
     "data": {
      "application/mercury+json": {
       "code_uid": "Slider.0.40.36.2-rand77eaca7f",
       "disabled": false,
       "hidden": false,
       "label": "Start in (days)",
       "max": 180,
       "min": 0,
       "model_id": "5e7f2f48b41a4c25afafea0e562f36f0",
       "step": 1,
       "url_key": "",
       "value": 30,
       "widget": "Slider"
      },
      "application/vnd.jupyter.widget-view+json": {
       "model_id": "5e7f2f48b41a4c25afafea0e562f36f0",
       "version_major": 2,
       "version_minor": 0
      },
      "text/plain": [
       "mercury.Slider"
      ]
     },
     "metadata": {},
     "output_type": "display_data"
    },
    {
     "data": {
      "application/mercury+json": {
       "choices": [
        "1",
        "2",
        "5",
        "10"
       ],
       "code_uid": "Select.0.40.16.3-rand1f1b24a8",
       "disabled": false,
       "hidden": false,
       "label": "Select color",
       "model_id": "0b79692b3b4f4a0b8f529c4db0e91844",
       "url_key": "",
       "value": "2",
       "widget": "Select"
      },
      "application/vnd.jupyter.widget-view+json": {
       "model_id": "0b79692b3b4f4a0b8f529c4db0e91844",
       "version_major": 2,
       "version_minor": 0
      },
      "text/plain": [
       "mercury.Select"
      ]
     },
     "metadata": {},
     "output_type": "display_data"
    },
    {
     "data": {
      "application/mercury+json": {
       "choices": [
        "1",
        "2",
        "4"
       ],
       "code_uid": "Select.0.40.16.4-rand23fab7bf",
       "disabled": false,
       "hidden": false,
       "label": "Payments per year",
       "model_id": "970f4648ae43445286e366e3b4005789",
       "url_key": "",
       "value": "4",
       "widget": "Select"
      },
      "application/vnd.jupyter.widget-view+json": {
       "model_id": "970f4648ae43445286e366e3b4005789",
       "version_major": 2,
       "version_minor": 0
      },
      "text/plain": [
       "mercury.Select"
      ]
     },
     "metadata": {},
     "output_type": "display_data"
    }
   ],
   "source": [
    "fixed_rate = mr.Slider(label=\"Fixed Rate (%)\", value=3, min=0, max=10).value / 100\n",
    "start = mr.Slider(label=\"Start in (days)\", value=30, min=0, max=180).value / 365\n",
    "maturity = mr.Select(label=\"Maturity (Years)\", value=\"2\", choices=[\"1\", \"2\", \"5\", \"10\"]).value\n",
    "freq = mr.Select(label=\"Payments per year\", value=\"4\", choices=[\"1\", \"2\", \"4\"]).value"
   ]
  },
  {
   "cell_type": "code",
   "execution_count": null,
   "metadata": {},
   "outputs": [
    {
     "name": "stdout",
     "output_type": "stream",
     "text": [
      "   track      time op  quantity  unit\n",
      "0   .opt  0.082192  >      1.00  .swp\n",
      "1   .swp  0.082192  +      1.00   USD\n",
      "2   .swp  0.332192  +     -1.75   USD\n",
      "3   .swp  0.332192  +      1.00   USD\n",
      "4   .swp  0.582192  +     -1.75   USD\n",
      "5   .swp  0.582192  +      1.00   USD\n",
      "6   .swp  0.832192  +     -1.75   USD\n",
      "7   .swp  0.832192  +      1.00   USD\n",
      "8   .swp  1.082192  +     -1.75   USD\n",
      "9   .swp  1.082192  +      1.00   USD\n",
      "10  .swp  1.332192  +     -1.75   USD\n",
      "11  .swp  1.332192  +      1.00   USD\n",
      "12  .swp  1.582192  +     -1.75   USD\n",
      "13  .swp  1.582192  +      1.00   USD\n",
      "14  .swp  1.832192  +     -1.75   USD\n",
      "15  .swp  1.832192  +      1.00   USD\n",
      "16  .swp  2.082192  +     -1.75   USD\n"
     ]
    }
   ],
   "source": [
    "num_periods = int(maturity) * int(freq)\n",
    "periods = start + np.linspace(0, int(maturity), num = num_periods + 1)\n",
    "swo_timetable = swaption_timetable(\"USD\", periods, strike_rate=fixed_rate)\n",
    "print(swo_timetable[\"events\"].to_pandas())"
   ]
  }
 ],
 "metadata": {
  "kernelspec": {
   "display_name": ".venv",
   "language": "python",
   "name": "python3"
  },
  "language_info": {
   "codemirror_mode": {
    "name": "ipython",
    "version": 3
   },
   "file_extension": ".py",
   "mimetype": "text/x-python",
   "name": "python",
   "nbconvert_exporter": "python",
   "pygments_lexer": "ipython3"
  }
 },
 "nbformat": 4,
 "nbformat_minor": 2
}
