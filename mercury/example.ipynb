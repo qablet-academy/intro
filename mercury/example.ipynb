{
 "cells": [
  {
   "cell_type": "code",
   "execution_count": null,
   "metadata": {},
   "outputs": [],
   "source": [
    "import mercury as mr\n",
    "import numpy as np\n",
    "# contracts\n",
    "from qablet_contracts.rate.swaption import swaption_timetable, bermuda_swaption_timetable\n",
    "from qablet_contracts.bond.zero import zcb_timetable, zbp_timetable\n",
    "from qablet_contracts.bond.fixed import fixed_bond_timetable\n",
    "# models\n",
    "from qablet.hullwhite.fd import HWFDModel\n",
    "from qablet.base.fixed import FixedModel"
   ]
  },
  {
   "cell_type": "code",
   "execution_count": null,
   "metadata": {},
   "outputs": [
    {
     "data": {
      "application/mercury+json": {
       "allow_download": false,
       "code_uid": "App.0.40.25.2-randa515e810",
       "continuous_update": true,
       "description": "Samples app in Mercury",
       "full_screen": true,
       "model_id": "mercury-app",
       "notify": "{}",
       "output": "app",
       "schedule": "",
       "show_code": false,
       "show_prompt": false,
       "show_sidebar": true,
       "static_notebook": false,
       "stop_on_error": false,
       "title": "Qablet: Rate Instruments",
       "widget": "App"
      },
      "text/html": [
       "<h3>Mercury Application</h3><small>This output won't appear in the web app.</small>"
      ],
      "text/plain": [
       "mercury.App"
      ]
     },
     "metadata": {},
     "output_type": "display_data"
    }
   ],
   "source": [
    "# Create Mercury App\n",
    "app = mr.App(\n",
    "    title=\"Qablet: Rate Instruments\",\n",
    "    description=\"Samples app in Mercury\",\n",
    "    allow_download=False,\n",
    ")"
   ]
  },
  {
   "cell_type": "code",
   "execution_count": null,
   "metadata": {},
   "outputs": [
    {
     "data": {
      "application/mercury+json": {
       "choices": [
        "Zero Bond",
        "Zero Bond Put",
        "Fixed Bond",
        "Vanilla Swaption",
        "Bermuda Swaption"
       ],
       "code_uid": "Select.0.40.16.2-rand06dc58f0",
       "disabled": false,
       "hidden": false,
       "label": "Type of Instrument",
       "model_id": "ab6b16f625c74f2d935fcf16eaf56aef",
       "url_key": "",
       "value": "Zero Bond",
       "widget": "Select"
      },
      "application/vnd.jupyter.widget-view+json": {
       "model_id": "ab6b16f625c74f2d935fcf16eaf56aef",
       "version_major": 2,
       "version_minor": 0
      },
      "text/plain": [
       "mercury.Select"
      ]
     },
     "metadata": {},
     "output_type": "display_data"
    },
    {
     "data": {
      "application/mercury+json": {
       "code_uid": "Note.0.40.16.5-rand06ffbad5",
       "model_id": "Note.0.40.16.5-rand06ffbad5",
       "value": "**Instrument Terms**",
       "widget": "Note"
      },
      "text/markdown": [
       "**Instrument Terms**"
      ],
      "text/plain": [
       "mercury.Note"
      ]
     },
     "metadata": {},
     "output_type": "display_data"
    },
    {
     "data": {
      "application/mercury+json": {
       "choices": [
        "1",
        "2",
        "5",
        "10"
       ],
       "code_uid": "Select.0.40.16.8-randa9530993",
       "disabled": false,
       "hidden": false,
       "label": "Maturity (Years)",
       "model_id": "ec54113f40764d2c9998f080d517e94b",
       "url_key": "",
       "value": "2",
       "widget": "Select"
      },
      "application/vnd.jupyter.widget-view+json": {
       "model_id": "ec54113f40764d2c9998f080d517e94b",
       "version_major": 2,
       "version_minor": 0
      },
      "text/plain": [
       "mercury.Select"
      ]
     },
     "metadata": {},
     "output_type": "display_data"
    }
   ],
   "source": [
    "# Select Instrument type and create timetable\n",
    "inst_type = mr.Select(label=\"Type of Instrument\", value=\"Zero Bond\",\n",
    "                      choices=[\"Zero Bond\", \"Zero Bond Put\", \"Fixed Bond\", \"Vanilla Swaption\", \"Bermuda Swaption\" ]).value\n",
    "\n",
    "_ = mr.Note(text=\"**Instrument Terms**\")\n",
    "\n",
    "if inst_type == \"Zero Bond\":\n",
    "    maturity = mr.Select(label=\"Maturity (Years)\", value=\"2\", choices=[\"1\", \"2\", \"5\", \"10\"]).value\n",
    "    timetable = zcb_timetable(\"USD\", float(maturity))\n",
    "\n",
    "elif inst_type == \"Zero Bond Put\":\n",
    "    opt_maturity_str = mr.Select(label=\"Option Maturity (Years)\",\n",
    "                            value=\"1\",\n",
    "                            choices=[\"1\", \"2\", \"5\"]).value\n",
    "    opt_maturity = int(opt_maturity_str)\n",
    "    maturity_val = str(opt_maturity + 1)\n",
    "    maturity_choices=[str(x + opt_maturity) for x in [1, 2, 5]]\n",
    "    bond_maturity = mr.Select(label=\"Bond Maturity (Years)\",\n",
    "                            value=maturity_val,\n",
    "                            choices=maturity_choices).value\n",
    "    strike = mr.Slider(label=\"Strike (%)\", value=95, min=10, max=200).value / 100\n",
    "    timetable = zbp_timetable(\"USD\", float(opt_maturity), float(bond_maturity), strike)\n",
    "\n",
    "elif inst_type == \"Fixed Bond\":\n",
    "    freq = mr.Select(label=\"Payments per year\", value=\"4\", choices=[\"1\", \"2\", \"4\"]).value\n",
    "    fixed_rate = mr.Slider(label=\"Fixed Rate (%)\", value=3, min=0, max=10).value / 100\n",
    "    maturity = mr.Select(label=\"Maturity (Years)\", value=\"2\", choices=[\"1\", \"2\", \"5\", \"10\"]).value\n",
    "    timetable = fixed_bond_timetable(\"USD\", fixed_rate, float(maturity), int(freq))\n",
    "\n",
    "elif inst_type in [\"Vanilla Swaption\", \"Bermuda Swaption\"]:\n",
    "    fixed_rate = mr.Slider(label=\"Fixed Rate (%)\", value=3, min=0, max=10).value / 100\n",
    "    start = mr.Slider(label=\"Start in (days)\", value=30, min=0, max=180).value / 365\n",
    "    maturity = mr.Select(label=\"Maturity (Years)\", value=\"2\", choices=[\"1\", \"2\", \"5\", \"10\"]).value\n",
    "    freq = mr.Select(label=\"Payments per year\", value=\"4\", choices=[\"1\", \"2\", \"4\"]).value\n",
    "\n",
    "    num_periods = int(maturity) * int(freq)\n",
    "    periods = start + np.linspace(0, int(maturity), num = num_periods + 1)\n",
    "\n",
    "    if inst_type == \"Vanilla Swaption\":\n",
    "        timetable = swaption_timetable(\"USD\", periods, strike_rate=fixed_rate)\n",
    "    else:\n",
    "        timetable = bermuda_swaption_timetable(\"USD\", periods, strike_rate=fixed_rate)\n"
   ]
  },
  {
   "cell_type": "markdown",
   "metadata": {},
   "source": [
    "## TimeTable"
   ]
  },
  {
   "cell_type": "code",
   "execution_count": null,
   "metadata": {},
   "outputs": [
    {
     "name": "stdout",
     "output_type": "stream",
     "text": [
      "  track  time op  quantity unit\n",
      "0         2.0  +       1.0  USD\n"
     ]
    }
   ],
   "source": [
    "\n",
    "print(timetable[\"events\"].to_pandas()) # Display Timetable"
   ]
  },
  {
   "cell_type": "code",
   "execution_count": null,
   "metadata": {},
   "outputs": [
    {
     "data": {
      "application/mercury+json": {
       "code_uid": "Note.0.40.16.2-rand12101a9a",
       "model_id": "Note.0.40.16.2-rand12101a9a",
       "value": "**Model**",
       "widget": "Note"
      },
      "text/markdown": [
       "**Model**"
      ],
      "text/plain": [
       "mercury.Note"
      ]
     },
     "metadata": {},
     "output_type": "display_data"
    },
    {
     "data": {
      "application/mercury+json": {
       "choices": [
        "Hull-White FD",
        "Fixed"
       ],
       "code_uid": "Select.0.40.16.5-randd87567ff",
       "disabled": false,
       "hidden": false,
       "label": "Model",
       "model_id": "760b438c7e4e4ce9b2bbdaf62858f3fb",
       "url_key": "",
       "value": "Hull-White FD",
       "widget": "Select"
      },
      "application/vnd.jupyter.widget-view+json": {
       "model_id": "760b438c7e4e4ce9b2bbdaf62858f3fb",
       "version_major": 2,
       "version_minor": 0
      },
      "text/plain": [
       "mercury.Select"
      ]
     },
     "metadata": {},
     "output_type": "display_data"
    }
   ],
   "source": [
    "# Select Model and model parameters\n",
    "_ = mr.Note(text=\"**Model**\")\n",
    "\n",
    "# Choose model\n",
    "model_type = mr.Select(label=\"Model\", value=\"Hull-White FD\",\n",
    "                      choices=[\"Hull-White FD\", \"Fixed\"]).value"
   ]
  },
  {
   "cell_type": "code",
   "execution_count": null,
   "metadata": {},
   "outputs": [
    {
     "data": {
      "application/mercury+json": {
       "code_uid": "Slider.0.40.36.2-rand4dfed0ec",
       "disabled": false,
       "hidden": false,
       "label": "Discount Rate (%)",
       "max": 10,
       "min": 0,
       "model_id": "cc71fb8669414ca09b80d5db264555c6",
       "step": 1,
       "url_key": "",
       "value": 3,
       "widget": "Slider"
      },
      "application/vnd.jupyter.widget-view+json": {
       "model_id": "cc71fb8669414ca09b80d5db264555c6",
       "version_major": 2,
       "version_minor": 0
      },
      "text/plain": [
       "mercury.Slider"
      ]
     },
     "metadata": {},
     "output_type": "display_data"
    }
   ],
   "source": [
    "# Edit Discount rates (flat).\n",
    "rate = mr.Slider(label=\"Discount Rate (%)\", value=3, min=0, max=10).value / 100\n",
    "\n",
    "times = np.array([0.0, 11])\n",
    "rates = np.array([rate, rate])\n",
    "discount_data = (\"ZERO_RATES\", np.column_stack((times, rates)))"
   ]
  },
  {
   "cell_type": "code",
   "execution_count": null,
   "metadata": {},
   "outputs": [
    {
     "data": {
      "application/mercury+json": {
       "code_uid": "Slider.0.40.36.4-rand30dedce6",
       "disabled": false,
       "hidden": false,
       "label": "Mean Reversion (%)",
       "max": 30,
       "min": 0,
       "model_id": "b40eb38b1f874d15a3893215a8590532",
       "step": 1,
       "url_key": "",
       "value": 10,
       "widget": "Slider"
      },
      "application/vnd.jupyter.widget-view+json": {
       "model_id": "b40eb38b1f874d15a3893215a8590532",
       "version_major": 2,
       "version_minor": 0
      },
      "text/plain": [
       "mercury.Slider"
      ]
     },
     "metadata": {},
     "output_type": "display_data"
    },
    {
     "data": {
      "application/mercury+json": {
       "code_uid": "Slider.0.40.36.5-randf740c20b",
       "disabled": false,
       "hidden": false,
       "label": "Rate Volatility(%)",
       "max": 30,
       "min": 0,
       "model_id": "57aa06ef361e4e388208cf749ed27d95",
       "step": 1,
       "url_key": "",
       "value": 3,
       "widget": "Slider"
      },
      "application/vnd.jupyter.widget-view+json": {
       "model_id": "57aa06ef361e4e388208cf749ed27d95",
       "version_major": 2,
       "version_minor": 0
      },
      "text/plain": [
       "mercury.Slider"
      ]
     },
     "metadata": {},
     "output_type": "display_data"
    }
   ],
   "source": [
    "\n",
    "if model_type == \"Hull-White FD\":\n",
    "    model = HWFDModel()\n",
    "\n",
    "    mean_rev = mr.Slider(label=\"Mean Reversion (%)\", value=10, min=0, max=30).value / 100\n",
    "    vol = mr.Slider(label=\"Rate Volatility(%)\", value=3, min=0, max=30).value / 100\n",
    "    dataset = {\n",
    "        \"BASE\": \"USD\",\n",
    "        \"ASSETS\": {\"USD\": discount_data},\n",
    "        \"FD\": {\n",
    "            \"TIMESTEP\": 1 / 500,\n",
    "            \"MAX_X\": 0.10,\n",
    "            \"N_X\": 1000,\n",
    "        },\n",
    "        \"HW\": {\n",
    "            \"MEANREV\": mean_rev,\n",
    "            \"VOL\": vol,\n",
    "        },\n",
    "    }\n",
    "else:\n",
    "    model = FixedModel()\n",
    "    dataset = {\n",
    "        \"BASE\": \"USD\",\n",
    "        \"ASSETS\": {\"USD\": discount_data},\n",
    "    }\n"
   ]
  },
  {
   "cell_type": "code",
   "execution_count": null,
   "metadata": {},
   "outputs": [
    {
     "data": {
      "text/html": [
       "\n",
       "<div style=\"text-align: center; width: 100%; border: 1px solid lightgray; margin-right: 0px; margin-top: 15px; padding-top: 40px; padding-bottom: 30px; background: white; border-radius:5px\">\n",
       "  <span style=\"font-size: 4em; color: black; font-family: monospace; \">0.9418</span>\n",
       "  \n",
       "  <span style=\"font-size: 2em; color: gray; display: block; padding-top: 20px; font-family: monospace; line-height: 1.3em;\">Price</span>\n",
       "</div>\n",
       "  "
      ],
      "text/plain": [
       "<widgets.numberbox.NumberBox at 0x27f008aba90>"
      ]
     },
     "execution_count": null,
     "metadata": {},
     "output_type": "execute_result"
    }
   ],
   "source": [
    "# Calculate Price\n",
    "price, _ = model.price(timetable, dataset)\n",
    "mr.NumberBox(data=round(price, 4), title=\"Price\")\n"
   ]
  }
 ],
 "metadata": {
  "kernelspec": {
   "display_name": ".venv",
   "language": "python",
   "name": "python3"
  },
  "language_info": {
   "codemirror_mode": {
    "name": "ipython",
    "version": 3
   },
   "file_extension": ".py",
   "mimetype": "text/x-python",
   "name": "python",
   "nbconvert_exporter": "python",
   "pygments_lexer": "ipython3"
  }
 },
 "nbformat": 4,
 "nbformat_minor": 2
}
