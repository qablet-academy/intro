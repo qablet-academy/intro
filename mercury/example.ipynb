{
 "cells": [
  {
   "cell_type": "code",
   "execution_count": null,
   "metadata": {},
   "outputs": [],
   "source": [
    "import mercury as mr # for widgets\n",
    "from matplotlib import pyplot as plt # for chart\n",
    "from qablet_contracts.rate.swaption import swaption_timetable, bermuda_swaption_timetable\n",
    "from qablet_contracts.bond.zero import zcb_timetable, zbp_timetable\n",
    "import numpy as np\n",
    "from qablet.hullwhite.fd import HWFDModel\n",
    "from qablet.base.fixed import FixedModel"
   ]
  },
  {
   "cell_type": "code",
   "execution_count": null,
   "metadata": {},
   "outputs": [
    {
     "data": {
      "application/mercury+json": {
       "allow_download": false,
       "code_uid": "App.0.40.25.1-rand7fe04a48",
       "continuous_update": true,
       "description": "Samples app in Mercury",
       "full_screen": true,
       "model_id": "mercury-app",
       "notify": "{}",
       "output": "app",
       "schedule": "",
       "show_code": false,
       "show_prompt": false,
       "show_sidebar": true,
       "static_notebook": false,
       "stop_on_error": false,
       "title": "Qablet: Rate Instruments",
       "widget": "App"
      },
      "text/html": [
       "<h3>Mercury Application</h3><small>This output won't appear in the web app.</small>"
      ],
      "text/plain": [
       "mercury.App"
      ]
     },
     "metadata": {},
     "output_type": "display_data"
    }
   ],
   "source": [
    "# Create Mercury App\n",
    "app = mr.App(title=\"Qablet: Rate Instruments\", description=\"Samples app in Mercury\", allow_download=False)"
   ]
  },
  {
   "cell_type": "code",
   "execution_count": null,
   "metadata": {},
   "outputs": [
    {
     "data": {
      "application/mercury+json": {
       "choices": [
        "Vanilla Swaption",
        "Bermuda Swaption",
        "Zero Bond",
        "Zero Bond Put"
       ],
       "code_uid": "Select.0.40.16.1-rand97e21990",
       "disabled": false,
       "hidden": false,
       "label": "Type of Instrument",
       "model_id": "be9d551230b34b73b11887131701307d",
       "url_key": "",
       "value": "Zero Bond",
       "widget": "Select"
      },
      "application/vnd.jupyter.widget-view+json": {
       "model_id": "be9d551230b34b73b11887131701307d",
       "version_major": 2,
       "version_minor": 0
      },
      "text/plain": [
       "mercury.Select"
      ]
     },
     "metadata": {},
     "output_type": "display_data"
    },
    {
     "data": {
      "application/mercury+json": {
       "code_uid": "Note.0.40.16.4-rand40a28d51",
       "model_id": "Note.0.40.16.4-rand40a28d51",
       "value": "**Instrument Terms**",
       "widget": "Note"
      },
      "text/markdown": [
       "**Instrument Terms**"
      ],
      "text/plain": [
       "mercury.Note"
      ]
     },
     "metadata": {},
     "output_type": "display_data"
    },
    {
     "data": {
      "application/mercury+json": {
       "choices": [
        "1",
        "2",
        "5",
        "10"
       ],
       "code_uid": "Select.0.40.16.27-rande0f5668a",
       "disabled": false,
       "hidden": false,
       "label": "Maturity (Years)",
       "model_id": "5640daf9e02a422a99f47cd444595e81",
       "url_key": "",
       "value": "2",
       "widget": "Select"
      },
      "application/vnd.jupyter.widget-view+json": {
       "model_id": "5640daf9e02a422a99f47cd444595e81",
       "version_major": 2,
       "version_minor": 0
      },
      "text/plain": [
       "mercury.Select"
      ]
     },
     "metadata": {},
     "output_type": "display_data"
    }
   ],
   "source": [
    "# Select Instrument type and create timetable\n",
    "inst_type = mr.Select(label=\"Type of Instrument\", value=\"Zero Bond\",\n",
    "                      choices=[\"Vanilla Swaption\", \"Bermuda Swaption\", \"Zero Bond\", \"Zero Bond Put\"])\n",
    "\n",
    "_ = mr.Note(text=\"**Instrument Terms**\")\n",
    "\n",
    "if inst_type.value == \"Vanilla Swaption\":\n",
    "    fixed_rate = mr.Slider(label=\"Fixed Rate (%)\", value=3, min=0, max=10).value / 100\n",
    "    start = mr.Slider(label=\"Start in (days)\", value=30, min=0, max=180).value / 365\n",
    "    maturity = mr.Select(label=\"Maturity (Years)\", value=\"2\", choices=[\"1\", \"2\", \"5\", \"10\"]).value\n",
    "    freq = mr.Select(label=\"Payments per year\", value=\"4\", choices=[\"1\", \"2\", \"4\"]).value\n",
    "\n",
    "    num_periods = int(maturity) * int(freq)\n",
    "    periods = start + np.linspace(0, int(maturity), num = num_periods + 1)\n",
    "    timetable = swaption_timetable(\"USD\", periods, strike_rate=fixed_rate)\n",
    "\n",
    "elif inst_type.value == \"Bermuda Swaption\":\n",
    "    fixed_rate = mr.Slider(label=\"Fixed Rate (%)\", value=3, min=0, max=10).value / 100\n",
    "    start = mr.Slider(label=\"Start in (days)\", value=30, min=0, max=180).value / 365\n",
    "    maturity = mr.Select(label=\"Maturity (Years)\", value=\"2\", choices=[\"1\", \"2\", \"5\", \"10\"]).value\n",
    "    freq = mr.Select(label=\"Payments per year\", value=\"4\", choices=[\"1\", \"2\", \"4\"]).value\n",
    "\n",
    "    num_periods = int(maturity) * int(freq)\n",
    "    periods = start + np.linspace(0, int(maturity), num = num_periods + 1)\n",
    "    timetable = bermuda_swaption_timetable(\"USD\", periods, strike_rate=fixed_rate)\n",
    "\n",
    "elif inst_type.value == \"Zero Bond\":\n",
    "    maturity = mr.Select(label=\"Maturity (Years)\", value=\"2\", choices=[\"1\", \"2\", \"5\", \"10\"]).value\n",
    "    timetable = zcb_timetable(\"USD\", float(maturity))\n",
    "\n",
    "elif inst_type.value == \"Zero Bond Put\":\n",
    "    opt_maturity = mr.Select(label=\"Option Maturity (Years)\", value=\"2\", choices=[\"1\", \"2\", \"5\", \"10\"]).value\n",
    "    bond_maturity = mr.Select(label=\"Bond Maturity (Years)\", value=\"2\", choices=[\"1\", \"2\", \"5\", \"10\"]).value\n",
    "    strike = mr.Slider(label=\"Strike (%)\", value=90, min=10, max=200).value / 100\n",
    "    timetable = zbp_timetable(\"USD\", float(opt_maturity), float(bond_maturity), strike)"
   ]
  },
  {
   "cell_type": "markdown",
   "metadata": {},
   "source": [
    "## TimeTable"
   ]
  },
  {
   "cell_type": "code",
   "execution_count": null,
   "metadata": {},
   "outputs": [
    {
     "name": "stdout",
     "output_type": "stream",
     "text": [
      "  track  time op  quantity unit\n",
      "0         2.0  +       1.0  USD\n"
     ]
    }
   ],
   "source": [
    "\n",
    "print(timetable[\"events\"].to_pandas()) # Display Timetable"
   ]
  },
  {
   "cell_type": "code",
   "execution_count": null,
   "metadata": {},
   "outputs": [
    {
     "data": {
      "application/mercury+json": {
       "code_uid": "Slider.0.40.36.2-rand5316973c",
       "disabled": false,
       "hidden": false,
       "label": "Discount Rate (%)",
       "max": 10,
       "min": 0,
       "model_id": "f146699390f44ee298ab506046ce19d1",
       "step": 1,
       "url_key": "",
       "value": 3,
       "widget": "Slider"
      },
      "application/vnd.jupyter.widget-view+json": {
       "model_id": "f146699390f44ee298ab506046ce19d1",
       "version_major": 2,
       "version_minor": 0
      },
      "text/plain": [
       "mercury.Slider"
      ]
     },
     "metadata": {},
     "output_type": "display_data"
    }
   ],
   "source": [
    "# Edit Discount rates (flat).\n",
    "rate = mr.Slider(label=\"Discount Rate (%)\", value=3, min=0, max=10).value / 100\n",
    "\n",
    "times = np.array([0.0, 11])\n",
    "rates = np.array([rate, rate])  # i.e. 4%, 4%, 4.5%, 5%\n",
    "discount_data = (\"ZERO_RATES\", np.column_stack((times, rates)))\n"
   ]
  },
  {
   "cell_type": "code",
   "execution_count": null,
   "metadata": {},
   "outputs": [
    {
     "data": {
      "application/mercury+json": {
       "code_uid": "Note.0.40.16.1-rand63dfe7dd",
       "model_id": "Note.0.40.16.1-rand63dfe7dd",
       "value": "**Model**",
       "widget": "Note"
      },
      "text/markdown": [
       "**Model**"
      ],
      "text/plain": [
       "mercury.Note"
      ]
     },
     "metadata": {},
     "output_type": "display_data"
    },
    {
     "data": {
      "application/mercury+json": {
       "choices": [
        "Hull-White FD",
        "Fixed"
       ],
       "code_uid": "Select.0.40.16.3-rand287c28ec",
       "disabled": false,
       "hidden": false,
       "label": "Model",
       "model_id": "9b22af1d65494c7aa87d884696f5397f",
       "url_key": "",
       "value": "Hull-White FD",
       "widget": "Select"
      },
      "application/vnd.jupyter.widget-view+json": {
       "model_id": "9b22af1d65494c7aa87d884696f5397f",
       "version_major": 2,
       "version_minor": 0
      },
      "text/plain": [
       "mercury.Select"
      ]
     },
     "metadata": {},
     "output_type": "display_data"
    }
   ],
   "source": [
    "# Select Model and model parameters\n",
    "_ = mr.Note(text=\"**Model**\")\n",
    "\n",
    "model_type = mr.Select(label=\"Model\", value=\"Hull-White FD\",\n",
    "                      choices=[\"Hull-White FD\", \"Fixed\"])\n",
    "\n",
    "if model_type.value == \"Hull-White FD\":\n",
    "    model = HWFDModel()\n",
    "\n",
    "    # Make the model inputs, at least Mean Rev and Vol, editable.\n",
    "    dataset = {\n",
    "        \"BASE\": \"USD\",\n",
    "        \"ASSETS\": {\"USD\": discount_data},\n",
    "        \"FD\": {\n",
    "            \"TIMESTEP\": 1 / 500,\n",
    "            \"MAX_X\": 0.10,\n",
    "            \"N_X\": 1000,\n",
    "        },\n",
    "        \"HW\": {\n",
    "            \"MEANREV\": 0.1,\n",
    "            \"VOL\": 0.03,\n",
    "        },\n",
    "    }\n",
    "elif model_type.value == \"Fixed\":\n",
    "    dataset = {\n",
    "        \"BASE\": \"USD\",\n",
    "        \"ASSETS\": {\"USD\": discount_data},\n",
    "    }\n",
    "    model = FixedModel()"
   ]
  },
  {
   "cell_type": "code",
   "execution_count": null,
   "metadata": {},
   "outputs": [
    {
     "data": {
      "text/markdown": [
       "**Price**"
      ],
      "text/plain": [
       "<IPython.core.display.Markdown object>"
      ]
     },
     "metadata": {},
     "output_type": "display_data"
    },
    {
     "data": {
      "text/html": [
       "\n",
       "<div style=\"text-align: center; width: 100%; border: 1px solid lightgray; margin-right: 0px; margin-top: 15px; padding-top: 40px; padding-bottom: 30px; background: white; border-radius:5px\">\n",
       "  <span style=\"font-size: 4em; color: black; font-family: monospace; \">0.9418</span>\n",
       "  \n",
       "  <span style=\"font-size: 2em; color: gray; display: block; padding-top: 20px; font-family: monospace; line-height: 1.3em;\">Price</span>\n",
       "</div>\n",
       "  "
      ],
      "text/plain": [
       "<widgets.numberbox.NumberBox at 0x20ef74966d0>"
      ]
     },
     "execution_count": null,
     "metadata": {},
     "output_type": "execute_result"
    }
   ],
   "source": [
    "# Calculate Price\n",
    "price, _ = model.price(timetable, dataset)\n",
    "mr.NumberBox(data=round(price, 4), title=\"Price\")\n"
   ]
  }
 ],
 "metadata": {
  "kernelspec": {
   "display_name": ".venv",
   "language": "python",
   "name": "python3"
  },
  "language_info": {
   "codemirror_mode": {
    "name": "ipython",
    "version": 3
   },
   "file_extension": ".py",
   "mimetype": "text/x-python",
   "name": "python",
   "nbconvert_exporter": "python",
   "pygments_lexer": "ipython3"
  }
 },
 "nbformat": 4,
 "nbformat_minor": 2
}
