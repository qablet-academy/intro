{
 "cells": [
  {
   "cell_type": "code",
   "execution_count": null,
   "metadata": {},
   "outputs": [],
   "source": [
    "import mercury as mr\n",
    "import numpy as np\n",
    "# contracts\n",
    "from qablet_contracts.rate.swaption import swaption_timetable, bermuda_swaption_timetable\n",
    "from qablet_contracts.bond.zero import zcb_timetable, zbp_timetable\n",
    "from qablet_contracts.bond.fixed import fixed_bond_timetable\n",
    "# models\n",
    "from qablet.hullwhite.fd import HWFDModel\n",
    "from qablet.base.fixed import FixedModel"
   ]
  },
  {
   "cell_type": "code",
   "execution_count": null,
   "metadata": {},
   "outputs": [
    {
     "data": {
      "application/mercury+json": {
       "allow_download": false,
       "code_uid": "App.0.40.25.2-rand9c0d74d0",
       "continuous_update": true,
       "description": "Samples app in Mercury",
       "full_screen": true,
       "model_id": "mercury-app",
       "notify": "{}",
       "output": "app",
       "schedule": "",
       "show_code": false,
       "show_prompt": false,
       "show_sidebar": true,
       "static_notebook": false,
       "stop_on_error": false,
       "title": "Qablet: Rate Instruments",
       "widget": "App"
      },
      "text/html": [
       "<h3>Mercury Application</h3><small>This output won't appear in the web app.</small>"
      ],
      "text/plain": [
       "mercury.App"
      ]
     },
     "metadata": {},
     "output_type": "display_data"
    }
   ],
   "source": [
    "# Create Mercury App\n",
    "app = mr.App(\n",
    "    title=\"Qablet: Rate Instruments\",\n",
    "    description=\"Samples app in Mercury\",\n",
    "    allow_download=False,\n",
    ")"
   ]
  },
  {
   "cell_type": "code",
   "execution_count": null,
   "metadata": {},
   "outputs": [
    {
     "data": {
      "application/mercury+json": {
       "choices": [
        "Vanilla Swaption",
        "Bermuda Swaption",
        "Zero Bond",
        "Zero Bond Put"
       ],
       "code_uid": "Select.0.40.16.2-randf9eace9e",
       "disabled": false,
       "hidden": false,
       "label": "Type of Instrument",
       "model_id": "8db61c9727ad4abdbef239329871992f",
       "url_key": "",
       "value": "Zero Bond",
       "widget": "Select"
      },
      "application/vnd.jupyter.widget-view+json": {
       "model_id": "8db61c9727ad4abdbef239329871992f",
       "version_major": 2,
       "version_minor": 0
      },
      "text/plain": [
       "mercury.Select"
      ]
     },
     "metadata": {},
     "output_type": "display_data"
    },
    {
     "data": {
      "application/mercury+json": {
       "code_uid": "Note.0.40.16.5-rand77c2a09b",
       "model_id": "Note.0.40.16.5-rand77c2a09b",
       "value": "**Instrument Terms**",
       "widget": "Note"
      },
      "text/markdown": [
       "**Instrument Terms**"
      ],
      "text/plain": [
       "mercury.Note"
      ]
     },
     "metadata": {},
     "output_type": "display_data"
    },
    {
     "data": {
      "application/mercury+json": {
       "choices": [
        "1",
        "2",
        "5",
        "10"
       ],
       "code_uid": "Select.0.40.16.28-rand3e03654a",
       "disabled": false,
       "hidden": false,
       "label": "Maturity (Years)",
       "model_id": "ba7979fec4d64de98f459102d35650db",
       "url_key": "",
       "value": "2",
       "widget": "Select"
      },
      "application/vnd.jupyter.widget-view+json": {
       "model_id": "ba7979fec4d64de98f459102d35650db",
       "version_major": 2,
       "version_minor": 0
      },
      "text/plain": [
       "mercury.Select"
      ]
     },
     "metadata": {},
     "output_type": "display_data"
    }
   ],
   "source": [
    "# Select Instrument type and create timetable\n",
    "inst_type = mr.Select(label=\"Type of Instrument\", value=\"Zero Bond\",\n",
    "                      choices=[\"Zero Bond\", \"Zero Bond Put\", \"Fixed Bond\", \"Vanilla Swaption\", \"Bermuda Swaption\" ]).value\n",
    "\n",
    "_ = mr.Note(text=\"**Instrument Terms**\")\n",
    "\n",
    "match inst_type:\n",
    "    case \"Zero Bond\":\n",
    "        maturity = mr.Select(label=\"Maturity (Years)\", value=\"2\", choices=[\"1\", \"2\", \"5\", \"10\"]).value\n",
    "        timetable = zcb_timetable(\"USD\", float(maturity))\n",
    "\n",
    "    case\"Zero Bond Put\":\n",
    "        opt_maturity_str = mr.Select(label=\"Option Maturity (Years)\",\n",
    "                                value=\"1\",\n",
    "                                choices=[\"1\", \"2\", \"5\"]).value\n",
    "        opt_maturity = int(opt_maturity_str)\n",
    "        maturity_val = str(opt_maturity + 1)\n",
    "        maturity_choices=[str(x + opt_maturity) for x in [1, 2, 5]]\n",
    "        bond_maturity = mr.Select(label=\"Bond Maturity (Years)\",\n",
    "                                value=maturity_val,\n",
    "                                choices=maturity_choices).value\n",
    "        strike = mr.Slider(label=\"Strike (%)\", value=95, min=10, max=200).value / 100\n",
    "        timetable = zbp_timetable(\"USD\", float(opt_maturity), float(bond_maturity), strike)\n",
    "\n",
    "    case \"Fixed Bond\":\n",
    "        freq = mr.Select(label=\"Payments per year\", value=\"4\", choices=[\"1\", \"2\", \"4\"]).value\n",
    "        fixed_rate = mr.Slider(label=\"Fixed Rate (%)\", value=3, min=0, max=10).value / 100\n",
    "        maturity = mr.Select(label=\"Maturity (Years)\", value=\"2\", choices=[\"1\", \"2\", \"5\", \"10\"]).value\n",
    "        timetable = fixed_bond_timetable(\"USD\", fixed_rate, float(maturity), int(freq))\n",
    "\n",
    "    case \"Vanilla Swaption\":\n",
    "        fixed_rate = mr.Slider(label=\"Fixed Rate (%)\", value=3, min=0, max=10).value / 100\n",
    "        start = mr.Slider(label=\"Start in (days)\", value=30, min=0, max=180).value / 365\n",
    "        maturity = mr.Select(label=\"Maturity (Years)\", value=\"2\", choices=[\"1\", \"2\", \"5\", \"10\"]).value\n",
    "        freq = mr.Select(label=\"Payments per year\", value=\"4\", choices=[\"1\", \"2\", \"4\"]).value\n",
    "\n",
    "        num_periods = int(maturity) * int(freq)\n",
    "        periods = start + np.linspace(0, int(maturity), num = num_periods + 1)\n",
    "        timetable = swaption_timetable(\"USD\", periods, strike_rate=fixed_rate)\n",
    "\n",
    "    case \"Bermuda Swaption\":\n",
    "        fixed_rate = mr.Slider(label=\"Fixed Rate (%)\", value=3, min=0, max=10).value / 100\n",
    "        start = mr.Slider(label=\"Start in (days)\", value=30, min=0, max=180).value / 365\n",
    "        maturity = mr.Select(label=\"Maturity (Years)\", value=\"2\", choices=[\"1\", \"2\", \"5\", \"10\"]).value\n",
    "        freq = mr.Select(label=\"Payments per year\", value=\"4\", choices=[\"1\", \"2\", \"4\"]).value\n",
    "\n",
    "        num_periods = int(maturity) * int(freq)\n",
    "        periods = start + np.linspace(0, int(maturity), num = num_periods + 1)\n",
    "        timetable = bermuda_swaption_timetable(\"USD\", periods, strike_rate=fixed_rate)\n"
   ]
  },
  {
   "cell_type": "markdown",
   "metadata": {},
   "source": [
    "## TimeTable"
   ]
  },
  {
   "cell_type": "code",
   "execution_count": null,
   "metadata": {},
   "outputs": [
    {
     "name": "stdout",
     "output_type": "stream",
     "text": [
      "  track  time op  quantity unit\n",
      "0         2.0  +       1.0  USD\n"
     ]
    }
   ],
   "source": [
    "\n",
    "print(timetable[\"events\"].to_pandas()) # Display Timetable"
   ]
  },
  {
   "cell_type": "code",
   "execution_count": null,
   "metadata": {},
   "outputs": [
    {
     "data": {
      "application/mercury+json": {
       "code_uid": "Note.0.40.16.2-rand6640394b",
       "model_id": "Note.0.40.16.2-rand6640394b",
       "value": "**Model**",
       "widget": "Note"
      },
      "text/markdown": [
       "**Model**"
      ],
      "text/plain": [
       "mercury.Note"
      ]
     },
     "metadata": {},
     "output_type": "display_data"
    },
    {
     "data": {
      "application/mercury+json": {
       "choices": [
        "Hull-White FD",
        "Fixed"
       ],
       "code_uid": "Select.0.40.16.5-rand63e04e9f",
       "disabled": false,
       "hidden": false,
       "label": "Model",
       "model_id": "17b0516959c3406fba24c8d16a7a30f6",
       "url_key": "",
       "value": "Hull-White FD",
       "widget": "Select"
      },
      "application/vnd.jupyter.widget-view+json": {
       "model_id": "17b0516959c3406fba24c8d16a7a30f6",
       "version_major": 2,
       "version_minor": 0
      },
      "text/plain": [
       "mercury.Select"
      ]
     },
     "metadata": {},
     "output_type": "display_data"
    }
   ],
   "source": [
    "# Select Model and model parameters\n",
    "_ = mr.Note(text=\"**Model**\")\n",
    "\n",
    "# Choose model\n",
    "model_type = mr.Select(label=\"Model\", value=\"Hull-White FD\",\n",
    "                      choices=[\"Hull-White FD\", \"Fixed\"]).value"
   ]
  },
  {
   "cell_type": "code",
   "execution_count": null,
   "metadata": {},
   "outputs": [
    {
     "data": {
      "application/mercury+json": {
       "code_uid": "Slider.0.40.36.2-rand96366165",
       "disabled": false,
       "hidden": false,
       "label": "Discount Rate (%)",
       "max": 10,
       "min": 0,
       "model_id": "941962625b224ab7af24393c7957adf8",
       "step": 1,
       "url_key": "",
       "value": 3,
       "widget": "Slider"
      },
      "application/vnd.jupyter.widget-view+json": {
       "model_id": "941962625b224ab7af24393c7957adf8",
       "version_major": 2,
       "version_minor": 0
      },
      "text/plain": [
       "mercury.Slider"
      ]
     },
     "metadata": {},
     "output_type": "display_data"
    }
   ],
   "source": [
    "# Edit Discount rates (flat).\n",
    "rate = mr.Slider(label=\"Discount Rate (%)\", value=3, min=0, max=10).value / 100\n",
    "\n",
    "times = np.array([0.0, 11])\n",
    "rates = np.array([rate, rate])\n",
    "discount_data = (\"ZERO_RATES\", np.column_stack((times, rates)))"
   ]
  },
  {
   "cell_type": "code",
   "execution_count": null,
   "metadata": {},
   "outputs": [
    {
     "data": {
      "application/mercury+json": {
       "code_uid": "Slider.0.40.36.4-randd90b4c39",
       "disabled": false,
       "hidden": false,
       "label": "Mean Reversion (%)",
       "max": 30,
       "min": 0,
       "model_id": "dd19d94ffedf4286b778a491532f0173",
       "step": 1,
       "url_key": "",
       "value": 10,
       "widget": "Slider"
      },
      "application/vnd.jupyter.widget-view+json": {
       "model_id": "dd19d94ffedf4286b778a491532f0173",
       "version_major": 2,
       "version_minor": 0
      },
      "text/plain": [
       "mercury.Slider"
      ]
     },
     "metadata": {},
     "output_type": "display_data"
    },
    {
     "data": {
      "application/mercury+json": {
       "code_uid": "Slider.0.40.36.5-randa5d88ae5",
       "disabled": false,
       "hidden": false,
       "label": "Rate Volatility(%)",
       "max": 30,
       "min": 0,
       "model_id": "eb516a94ee2545098baaee0da2f660bb",
       "step": 1,
       "url_key": "",
       "value": 3,
       "widget": "Slider"
      },
      "application/vnd.jupyter.widget-view+json": {
       "model_id": "eb516a94ee2545098baaee0da2f660bb",
       "version_major": 2,
       "version_minor": 0
      },
      "text/plain": [
       "mercury.Slider"
      ]
     },
     "metadata": {},
     "output_type": "display_data"
    }
   ],
   "source": [
    "\n",
    "match model_type:\n",
    "    case \"Hull-White FD\":\n",
    "        model = HWFDModel()\n",
    "\n",
    "        mean_rev = mr.Slider(label=\"Mean Reversion (%)\", value=10, min=0, max=30).value / 100\n",
    "        vol = mr.Slider(label=\"Rate Volatility(%)\", value=3, min=0, max=30).value / 100\n",
    "        dataset = {\n",
    "            \"BASE\": \"USD\",\n",
    "            \"ASSETS\": {\"USD\": discount_data},\n",
    "            \"FD\": {\n",
    "                \"TIMESTEP\": 1 / 500,\n",
    "                \"MAX_X\": 0.10,\n",
    "                \"N_X\": 1000,\n",
    "            },\n",
    "            \"HW\": {\n",
    "                \"MEANREV\": mean_rev,\n",
    "                \"VOL\": vol,\n",
    "            },\n",
    "        }\n",
    "    case \"Fixed\":\n",
    "        model = FixedModel()\n",
    "        dataset = {\n",
    "            \"BASE\": \"USD\",\n",
    "            \"ASSETS\": {\"USD\": discount_data},\n",
    "        }\n"
   ]
  },
  {
   "cell_type": "code",
   "execution_count": null,
   "metadata": {},
   "outputs": [
    {
     "data": {
      "text/html": [
       "\n",
       "<div style=\"text-align: center; width: 100%; border: 1px solid lightgray; margin-right: 0px; margin-top: 15px; padding-top: 40px; padding-bottom: 30px; background: white; border-radius:5px\">\n",
       "  <span style=\"font-size: 4em; color: black; font-family: monospace; \">0.9418</span>\n",
       "  \n",
       "  <span style=\"font-size: 2em; color: gray; display: block; padding-top: 20px; font-family: monospace; line-height: 1.3em;\">Price</span>\n",
       "</div>\n",
       "  "
      ],
      "text/plain": [
       "<widgets.numberbox.NumberBox at 0x21de239ebd0>"
      ]
     },
     "execution_count": null,
     "metadata": {},
     "output_type": "execute_result"
    }
   ],
   "source": [
    "# Calculate Price\n",
    "price, _ = model.price(timetable, dataset)\n",
    "mr.NumberBox(data=round(price, 4), title=\"Price\")\n"
   ]
  }
 ],
 "metadata": {
  "kernelspec": {
   "display_name": ".venv",
   "language": "python",
   "name": "python3"
  },
  "language_info": {
   "codemirror_mode": {
    "name": "ipython",
    "version": 3
   },
   "file_extension": ".py",
   "mimetype": "text/x-python",
   "name": "python",
   "nbconvert_exporter": "python",
   "pygments_lexer": "ipython3"
  }
 },
 "nbformat": 4,
 "nbformat_minor": 2
}
