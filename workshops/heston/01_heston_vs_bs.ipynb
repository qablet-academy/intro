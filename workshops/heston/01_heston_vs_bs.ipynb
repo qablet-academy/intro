{
 "cells": [
  {
   "cell_type": "markdown",
   "metadata": {},
   "source": [
    "# Comparing Stochastic Vol and Local Models\n",
    "\n",
    "In a nutshell, the goal of this workshop is to show that even when the two models have have been calibrated to match vanilla european prices for a range of strikes and maturities, they can still produce (very) different prices for exotics.\n",
    "\n",
    "- In this notebook we start with a simple case, comparing Heston model with Black Scholes, and see how they differ.\n",
    "\n",
    "- In the [second notebook](02_heston_vs_lv.ipynb) we will use a Local Vol model where the local volatilities have been designed to match prices from a Heston model, then compare vanilla prices, and then proceed to compare exotics prices.\n",
    "\n",
    "- In the [third notebook](03_forwards.ipynb) we will compare the forward distributions of the two models to try to understand why the vanilla prices matched and the exotics prices did not."
   ]
  },
  {
   "cell_type": "markdown",
   "metadata": {},
   "source": [
    "## Part 1. Heston vs Black Scholes\n",
    "\n",
    "- Compare Vanilla Options for different strike and maturities. \n",
    "- Compare the distribution of forwards.\n",
    "\n",
    "We will create models and contracts definitions from the qablet package. \n",
    "To use these packages in your local environment, you will need `pip install qablet-contracts` and `pip install qablet-basic`. \n",
    "\n",
    "For a tutorial see [Introduction to Qablet](../../notebooks/1_1_fixed_bond.ipynb)\n",
    "\n",
    "For any bugs or technical problems with these notebooks you can [raise an issue here](https://github.com/qablet-academy/intro/issues)"
   ]
  },
  {
   "cell_type": "code",
   "execution_count": null,
   "metadata": {},
   "outputs": [],
   "source": [
    "from datetime import datetime\n",
    "\n",
    "import matplotlib.pyplot as plt\n",
    "import numpy as np\n",
    "import pandas as pd\n",
    "import pyarrow as pa\n",
    "from qablet.base.flags import Stats\n",
    "from qablet.black_scholes.mc import LVMCModel\n",
    "\n",
    "# models\n",
    "from qablet.heston.mc import HestonMCModel\n",
    "from qablet_contracts.eq.vanilla import Option\n",
    "\n",
    "# contracts\n",
    "from qablet_contracts.timetable import TS_EVENT_SCHEMA, py_to_ts"
   ]
  },
  {
   "cell_type": "markdown",
   "metadata": {},
   "source": [
    "## Common Dataset\n",
    "Start with defining rates and equity forwards. For this exercise flat rates are adequate.\n",
    "See [Dataset API](https://qablet-academy.github.io/intro/dataset/) for details of the dataset syntax."
   ]
  },
  {
   "cell_type": "code",
   "execution_count": null,
   "metadata": {},
   "outputs": [
    {
     "data": {
      "text/plain": [
       "('FORWARDS',\n",
       " array([[  0., 100.],\n",
       "        [  2., 100.]]))"
      ]
     },
     "execution_count": null,
     "metadata": {},
     "output_type": "execute_result"
    }
   ],
   "source": [
    "# Market Data\n",
    "ticker = \"SPX\"\n",
    "rate = 0.00  # 0.03\n",
    "div = 0.00  # 0.01\n",
    "spot = 100\n",
    "pricing_dt = datetime(2023, 12, 31)\n",
    "\n",
    "# flat array for discounts and forwards\n",
    "tmax = 2.0\n",
    "times = np.array([0.0, tmax])\n",
    "rates = np.array([rate, rate])\n",
    "fwds = spot * np.exp((rate - div) * times)\n",
    "\n",
    "usd_crv = (\"ZERO_RATES\", np.column_stack((times, rates)))\n",
    "fwds_crv = (\"FORWARDS\", np.column_stack((times, fwds)))\n",
    "fwds_crv"
   ]
  },
  {
   "cell_type": "code",
   "execution_count": null,
   "metadata": {},
   "outputs": [],
   "source": [
    "# complete common dataset\n",
    "dataset = {\n",
    "    \"BASE\": \"USD\",\n",
    "    \"PRICING_TS\": py_to_ts(pricing_dt).value,\n",
    "    \"ASSETS\": {\n",
    "        \"USD\": usd_crv,\n",
    "        ticker: fwds_crv,\n",
    "    },\n",
    "    \"MC\": {\n",
    "        \"PATHS\": 100_000,\n",
    "        \"TIMESTEP\": 1 / 100,\n",
    "        \"SEED\": 1,\n",
    "    },\n",
    "}"
   ]
  },
  {
   "cell_type": "markdown",
   "metadata": {},
   "source": [
    "# Heston Model and Parameters\n",
    "We are keeping a few things simple, such as, correlation is -100%, and initial variance is same as long variance. See here for the [Heston Dataset API](https://qablet-academy.github.io/intro/models/mc/#heston-model)\n",
    "\n",
    "These are the same parameters as used in \"The Volatility Surface\", *Chapter 4.1. Local Variance in The Heston Nandi Model.* We will use some theory from this book later in the second notebook."
   ]
  },
  {
   "cell_type": "code",
   "execution_count": null,
   "metadata": {},
   "outputs": [],
   "source": [
    "heston_dataset = dataset.copy()\n",
    "heston_dataset[\"HESTON\"] = {\n",
    "    \"ASSET\": ticker,\n",
    "    \"INITIAL_VAR\": 0.04,\n",
    "    \"LONG_VAR\": 0.04,\n",
    "    \"MEANREV\": 10,\n",
    "    \"VOL_OF_VAR\": 1,\n",
    "    \"CORRELATION\": -1.0,\n",
    "}"
   ]
  },
  {
   "cell_type": "markdown",
   "metadata": {},
   "source": [
    "## Black-Scholes Model\n",
    "We will use the [LV MC model](https://qablet-academy.github.io/intro/models/mc/#local-vol-model), which reduces to the Black Scholes model when the vol is flat."
   ]
  },
  {
   "cell_type": "code",
   "execution_count": null,
   "metadata": {},
   "outputs": [],
   "source": [
    "bs_dataset = dataset.copy()\n",
    "bs_dataset[\"LV\"] = {\"ASSET\": ticker, \"VOL\": 0.2}"
   ]
  },
  {
   "cell_type": "markdown",
   "metadata": {},
   "source": [
    "### Create an Option"
   ]
  },
  {
   "cell_type": "code",
   "execution_count": null,
   "metadata": {},
   "outputs": [],
   "source": [
    "# array of 12 months, starting with princing date, ending with 1 year\n",
    "mns = pd.bdate_range(pricing_dt, periods=13, freq=\"1ME\")\n",
    "timetable = Option(\"USD\", ticker, spot, mns[12], False).timetable()"
   ]
  },
  {
   "cell_type": "markdown",
   "metadata": {},
   "source": [
    "### Get Model Prices"
   ]
  },
  {
   "cell_type": "code",
   "execution_count": null,
   "metadata": {},
   "outputs": [
    {
     "name": "stdout",
     "output_type": "stream",
     "text": [
      "Heston: 7.47, BS: 8.02\n"
     ]
    }
   ],
   "source": [
    "heston_model = HestonMCModel()\n",
    "heston_price, _ = heston_model.price(timetable, heston_dataset)\n",
    "\n",
    "bs_model = LVMCModel()\n",
    "bs_price, _ = bs_model.price(timetable, bs_dataset)\n",
    "print(f\"Heston: {heston_price:.2f}, BS: {bs_price:.2f}\")"
   ]
  },
  {
   "cell_type": "markdown",
   "metadata": {},
   "source": [
    "### Price Options at different strikes and maturities\n",
    "We see that the prices are similar at at-the-money but quite different at the wings."
   ]
  },
  {
   "cell_type": "code",
   "execution_count": null,
   "metadata": {},
   "outputs": [
    {
     "data": {
      "text/html": [
       "<div>\n",
       "<style scoped>\n",
       "    .dataframe tbody tr th:only-of-type {\n",
       "        vertical-align: middle;\n",
       "    }\n",
       "\n",
       "    .dataframe tbody tr th {\n",
       "        vertical-align: top;\n",
       "    }\n",
       "\n",
       "    .dataframe thead th {\n",
       "        text-align: right;\n",
       "    }\n",
       "</style>\n",
       "<table border=\"1\" class=\"dataframe\">\n",
       "  <thead>\n",
       "    <tr style=\"text-align: right;\">\n",
       "      <th></th>\n",
       "      <th>Strike</th>\n",
       "      <th>0.80/Put</th>\n",
       "      <th>0.90/Put</th>\n",
       "      <th>1.00/Call</th>\n",
       "      <th>1.10/Call</th>\n",
       "      <th>1.20/Call</th>\n",
       "    </tr>\n",
       "    <tr>\n",
       "      <th>Maturity</th>\n",
       "      <th>Model</th>\n",
       "      <th></th>\n",
       "      <th></th>\n",
       "      <th></th>\n",
       "      <th></th>\n",
       "      <th></th>\n",
       "    </tr>\n",
       "  </thead>\n",
       "  <tbody>\n",
       "    <tr>\n",
       "      <th rowspan=\"2\" valign=\"top\">2024-06-30</th>\n",
       "      <th>BS</th>\n",
       "      <td>0.31</td>\n",
       "      <td>1.77</td>\n",
       "      <td>5.59</td>\n",
       "      <td>2.19</td>\n",
       "      <td>0.70</td>\n",
       "    </tr>\n",
       "    <tr>\n",
       "      <th>Heston</th>\n",
       "      <td>0.81</td>\n",
       "      <td>2.15</td>\n",
       "      <td>5.15</td>\n",
       "      <td>1.02</td>\n",
       "      <td>0.03</td>\n",
       "    </tr>\n",
       "    <tr>\n",
       "      <th rowspan=\"2\" valign=\"top\">2024-11-30</th>\n",
       "      <th>BS</th>\n",
       "      <td>1.04</td>\n",
       "      <td>3.33</td>\n",
       "      <td>7.62</td>\n",
       "      <td>3.97</td>\n",
       "      <td>1.91</td>\n",
       "    </tr>\n",
       "    <tr>\n",
       "      <th>Heston</th>\n",
       "      <td>1.65</td>\n",
       "      <td>3.61</td>\n",
       "      <td>7.12</td>\n",
       "      <td>2.75</td>\n",
       "      <td>0.61</td>\n",
       "    </tr>\n",
       "    <tr>\n",
       "      <th rowspan=\"2\" valign=\"top\">2024-12-31</th>\n",
       "      <th>BS</th>\n",
       "      <td>1.21</td>\n",
       "      <td>3.63</td>\n",
       "      <td>7.96</td>\n",
       "      <td>4.30</td>\n",
       "      <td>2.16</td>\n",
       "    </tr>\n",
       "    <tr>\n",
       "      <th>Heston</th>\n",
       "      <td>1.81</td>\n",
       "      <td>3.87</td>\n",
       "      <td>7.48</td>\n",
       "      <td>3.08</td>\n",
       "      <td>0.81</td>\n",
       "    </tr>\n",
       "  </tbody>\n",
       "</table>\n",
       "</div>"
      ],
      "text/plain": [
       "Strike             0.80/Put  0.90/Put  1.00/Call  1.10/Call  1.20/Call\n",
       "Maturity   Model                                                      \n",
       "2024-06-30 BS          0.31      1.77       5.59       2.19       0.70\n",
       "           Heston      0.81      2.15       5.15       1.02       0.03\n",
       "2024-11-30 BS          1.04      3.33       7.62       3.97       1.91\n",
       "           Heston      1.65      3.61       7.12       2.75       0.61\n",
       "2024-12-31 BS          1.21      3.63       7.96       4.30       2.16\n",
       "           Heston      1.81      3.87       7.48       3.08       0.81"
      ]
     },
     "execution_count": null,
     "metadata": {},
     "output_type": "execute_result"
    }
   ],
   "source": [
    "df = pd.DataFrame(columns=[\"Maturity\", \"Strike\", \"Model\", \"Price\"])\n",
    "for m in [mns[6], mns[11], mns[12]]:\n",
    "    for xr in [0.8, 0.9, 1, 1.1, 1.2]:  # % of the spot\n",
    "        is_call = xr >= 1  # use calls at higher and puts at lower strikes\n",
    "        timetable = Option(\"USD\", ticker, xr * spot, m, is_call).timetable()\n",
    "\n",
    "        heston_price, _ = heston_model.price(timetable, heston_dataset)\n",
    "        bs_price, _ = bs_model.price(timetable, bs_dataset)\n",
    "\n",
    "        xr_str = f\"{xr:.2f}/Call\" if is_call else f\"{xr:.2f}/Put\"\n",
    "        df.loc[len(df)] = [m, xr_str, \"BS\", bs_price]\n",
    "        df.loc[len(df)] = [m, xr_str, \"Heston\", heston_price]\n",
    "\n",
    "pd.options.display.float_format = \"{:,.2f}\".format\n",
    "df.pivot(columns=\"Strike\", index=[\"Maturity\", \"Model\"], values=\"Price\")"
   ]
  },
  {
   "cell_type": "markdown",
   "metadata": {},
   "source": [
    "## Forward Distribution\n",
    "We will now try to understand the pricing difference by looking at the forward distribution of the two models. First we will create a Forward contract timetable, not because we are interested in the price, but we are interested in path statistics from the model."
   ]
  },
  {
   "cell_type": "code",
   "execution_count": null,
   "metadata": {},
   "outputs": [
    {
     "name": "stdout",
     "output_type": "stream",
     "text": [
      "  track                      time op  quantity unit\n",
      "0       2024-12-31 00:00:00+00:00  +      1.00  SPX\n"
     ]
    }
   ],
   "source": [
    "# We will define a forward timetable, instead of using contract classes from qablet_contracts\n",
    "events = [\n",
    "    {\n",
    "        \"track\": \"\",\n",
    "        \"time\": mns[12],\n",
    "        \"op\": \"+\",\n",
    "        \"quantity\": 1,\n",
    "        \"unit\": ticker,\n",
    "    }\n",
    "]\n",
    "\n",
    "events_table = pa.RecordBatch.from_pylist(events, schema=TS_EVENT_SCHEMA)\n",
    "fwd_timetable = {\"events\": events_table, \"expressions\": {}}\n",
    "print(fwd_timetable[\"events\"].to_pandas())"
   ]
  },
  {
   "cell_type": "code",
   "execution_count": null,
   "metadata": {},
   "outputs": [],
   "source": [
    "# Turn on the Cashflow flag, so that the model returns the cashflows for each path.\n",
    "heston_dataset[\"MC\"][\"FLAGS\"] = Stats.CASHFLOW\n",
    "bs_dataset[\"MC\"][\"FLAGS\"] = Stats.CASHFLOW"
   ]
  },
  {
   "cell_type": "code",
   "execution_count": null,
   "metadata": {},
   "outputs": [
    {
     "data": {
      "text/plain": [
       "''"
      ]
     },
     "execution_count": null,
     "metadata": {},
     "output_type": "execute_result"
    },
    {
     "data": {
      "image/png": "[encoded data removed]",
      "text/plain": [
       "<Figure size 640x480 with 1 Axes>"
      ]
     },
     "metadata": {},
     "output_type": "display_data"
    }
   ],
   "source": [
    "bs_price, bs_stats = bs_model.price(fwd_timetable, bs_dataset)\n",
    "plt.hist(bs_stats[\"CASHFLOW\"][0][0], bins=50, histtype=\"step\", label=\"BS\")\n",
    "\n",
    "heston_price, heston_stats = heston_model.price(fwd_timetable, heston_dataset)\n",
    "plt.hist(\n",
    "    heston_stats[\"CASHFLOW\"][0][0], bins=50, histtype=\"step\", label=\"Heston\"\n",
    ")\n",
    "\n",
    "plt.legend()\n",
    "\"\""
   ]
  }
 ],
 "metadata": {
  "kernelspec": {
   "display_name": ".venv",
   "language": "python",
   "name": "python3"
  },
  "language_info": {
   "codemirror_mode": {
    "name": "ipython",
    "version": 3
   },
   "file_extension": ".py",
   "mimetype": "text/x-python",
   "name": "python",
   "nbconvert_exporter": "python",
   "pygments_lexer": "ipython3"
  }
 },
 "nbformat": 4,
 "nbformat_minor": 2
}
