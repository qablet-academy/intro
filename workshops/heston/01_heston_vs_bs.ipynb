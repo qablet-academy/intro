{
 "cells": [
  {
   "cell_type": "markdown",
   "metadata": {},
   "source": [
    "# Heston and Black Scholes\n",
    "In this ...\n",
    "start with the imports."
   ]
  },
  {
   "cell_type": "code",
   "execution_count": null,
   "metadata": {},
   "outputs": [],
   "source": [
    "import numpy as np\n",
    "import matplotlib.pyplot as plt\n",
    "import pandas as pd\n",
    "import pyarrow as pa\n",
    "from datetime import datetime\n",
    "\n",
    "# contracts\n",
    "from qablet_contracts.timetable import py_to_ts, TS_EVENT_SCHEMA\n",
    "from qablet_contracts.eq.vanilla import Option\n",
    "\n",
    "# models\n",
    "from qablet.heston.mc import HestonMCModel\n",
    "from qablet.black_scholes.mc import LVMCModel\n",
    "from qablet.base.flags import Stats"
   ]
  },
  {
   "cell_type": "markdown",
   "metadata": {},
   "source": [
    "## Common Dataset"
   ]
  },
  {
   "cell_type": "code",
   "execution_count": null,
   "metadata": {},
   "outputs": [
    {
     "data": {
      "text/plain": [
       "('FORWARDS',\n",
       " array([[  0., 100.],\n",
       "        [  2., 100.]]))"
      ]
     },
     "execution_count": null,
     "metadata": {},
     "output_type": "execute_result"
    }
   ],
   "source": [
    "# Market Data\n",
    "ticker = \"SPX\"\n",
    "rate = 0.00  # 0.03\n",
    "div = 0.00  # 0.01\n",
    "spot = 100\n",
    "pricing_dt = datetime(2023, 12, 31)\n",
    "\n",
    "# flat array for discounts and forwards\n",
    "tmax = 2.0\n",
    "times = np.array([0.0, tmax])\n",
    "rates = np.array([rate, rate])\n",
    "fwds = spot * np.exp((rate - div) * times)\n",
    "\n",
    "usd_crv = (\"ZERO_RATES\", np.column_stack((times, rates)))\n",
    "fwds_crv = (\"FORWARDS\", np.column_stack((times, fwds)))\n",
    "fwds_crv"
   ]
  },
  {
   "cell_type": "code",
   "execution_count": null,
   "metadata": {},
   "outputs": [],
   "source": [
    "# complete common dataset\n",
    "dataset = {\n",
    "    \"BASE\": \"USD\",\n",
    "    \"PRICING_TS\": py_to_ts(pricing_dt).value,\n",
    "    \"ASSETS\": {\n",
    "        \"USD\": usd_crv,\n",
    "        ticker: fwds_crv,\n",
    "    },\n",
    "    \"MC\": {\n",
    "        \"PATHS\": 100_000,\n",
    "        \"TIMESTEP\": 1 / 100,\n",
    "        \"SEED\": 1,\n",
    "    },\n",
    "}"
   ]
  },
  {
   "cell_type": "markdown",
   "metadata": {},
   "source": [
    "# Heston Model and Parameters\n",
    "Let us define. See here for API. Keeping few things simple, such as, correlation is -100%, and initial variance is same as long variance."
   ]
  },
  {
   "cell_type": "code",
   "execution_count": null,
   "metadata": {},
   "outputs": [],
   "source": [
    "heston_model = HestonMCModel()\n",
    "\n",
    "heston_dataset = dataset.copy()\n",
    "heston_dataset[\"HESTON\"] = {\n",
    "    \"ASSET\": ticker,\n",
    "    \"INITIAL_VAR\": 0.04,\n",
    "    \"LONG_VAR\": 0.04,\n",
    "    \"MEANREV\": 10,\n",
    "    \"VOL_OF_VAR\": 1,\n",
    "    \"CORRELATION\": -1.0,\n",
    "}"
   ]
  },
  {
   "cell_type": "markdown",
   "metadata": {},
   "source": [
    "## Black-Scholes Model\n",
    "We will create the Black-Shcoles model object, and the dataset it requires here."
   ]
  },
  {
   "cell_type": "code",
   "execution_count": null,
   "metadata": {},
   "outputs": [],
   "source": [
    "bs_model = LVMCModel()\n",
    "\n",
    "bs_dataset = dataset.copy()\n",
    "bs_dataset[\"LV\"] = {\"ASSET\": ticker, \"VOL\": 0.2}"
   ]
  },
  {
   "cell_type": "markdown",
   "metadata": {},
   "source": [
    "### Price an ATM Option"
   ]
  },
  {
   "cell_type": "code",
   "execution_count": null,
   "metadata": {},
   "outputs": [
    {
     "name": "stdout",
     "output_type": "stream",
     "text": [
      "Heston: 7.47, BS: 8.02\n"
     ]
    }
   ],
   "source": [
    "# array of 12 months, starting with princing date, ending with 1 year\n",
    "mns = pd.bdate_range(pricing_dt, periods=13, freq=\"1ME\")\n",
    "\n",
    "timetable = Option(\"USD\", ticker, spot, mns[12], False).timetable()\n",
    "heston_price, _ = heston_model.price(timetable, heston_dataset)\n",
    "bs_price, _ = bs_model.price(timetable, bs_dataset)\n",
    "print(f\"Heston: {heston_price:.2f}, BS: {bs_price:.2f}\")"
   ]
  },
  {
   "cell_type": "markdown",
   "metadata": {},
   "source": [
    "### Price Options at different strikes and maturities"
   ]
  },
  {
   "cell_type": "code",
   "execution_count": null,
   "metadata": {},
   "outputs": [
    {
     "data": {
      "text/html": [
       "<div>\n",
       "<style scoped>\n",
       "    .dataframe tbody tr th:only-of-type {\n",
       "        vertical-align: middle;\n",
       "    }\n",
       "\n",
       "    .dataframe tbody tr th {\n",
       "        vertical-align: top;\n",
       "    }\n",
       "\n",
       "    .dataframe thead th {\n",
       "        text-align: right;\n",
       "    }\n",
       "</style>\n",
       "<table border=\"1\" class=\"dataframe\">\n",
       "  <thead>\n",
       "    <tr style=\"text-align: right;\">\n",
       "      <th></th>\n",
       "      <th>Strike</th>\n",
       "      <th>0.80/Put</th>\n",
       "      <th>0.90/Put</th>\n",
       "      <th>1.00/Call</th>\n",
       "      <th>1.10/Call</th>\n",
       "      <th>1.20/Call</th>\n",
       "    </tr>\n",
       "    <tr>\n",
       "      <th>Maturity</th>\n",
       "      <th>Model</th>\n",
       "      <th></th>\n",
       "      <th></th>\n",
       "      <th></th>\n",
       "      <th></th>\n",
       "      <th></th>\n",
       "    </tr>\n",
       "  </thead>\n",
       "  <tbody>\n",
       "    <tr>\n",
       "      <th rowspan=\"2\" valign=\"top\">2024-06-30</th>\n",
       "      <th>BS</th>\n",
       "      <td>0.31</td>\n",
       "      <td>1.77</td>\n",
       "      <td>5.59</td>\n",
       "      <td>2.19</td>\n",
       "      <td>0.70</td>\n",
       "    </tr>\n",
       "    <tr>\n",
       "      <th>Heston</th>\n",
       "      <td>0.81</td>\n",
       "      <td>2.15</td>\n",
       "      <td>5.15</td>\n",
       "      <td>1.02</td>\n",
       "      <td>0.03</td>\n",
       "    </tr>\n",
       "    <tr>\n",
       "      <th rowspan=\"2\" valign=\"top\">2024-11-30</th>\n",
       "      <th>BS</th>\n",
       "      <td>1.04</td>\n",
       "      <td>3.33</td>\n",
       "      <td>7.62</td>\n",
       "      <td>3.97</td>\n",
       "      <td>1.91</td>\n",
       "    </tr>\n",
       "    <tr>\n",
       "      <th>Heston</th>\n",
       "      <td>1.65</td>\n",
       "      <td>3.61</td>\n",
       "      <td>7.12</td>\n",
       "      <td>2.75</td>\n",
       "      <td>0.61</td>\n",
       "    </tr>\n",
       "    <tr>\n",
       "      <th rowspan=\"2\" valign=\"top\">2024-12-31</th>\n",
       "      <th>BS</th>\n",
       "      <td>1.21</td>\n",
       "      <td>3.63</td>\n",
       "      <td>7.96</td>\n",
       "      <td>4.30</td>\n",
       "      <td>2.16</td>\n",
       "    </tr>\n",
       "    <tr>\n",
       "      <th>Heston</th>\n",
       "      <td>1.81</td>\n",
       "      <td>3.87</td>\n",
       "      <td>7.48</td>\n",
       "      <td>3.08</td>\n",
       "      <td>0.81</td>\n",
       "    </tr>\n",
       "  </tbody>\n",
       "</table>\n",
       "</div>"
      ],
      "text/plain": [
       "Strike             0.80/Put  0.90/Put  1.00/Call  1.10/Call  1.20/Call\n",
       "Maturity   Model                                                      \n",
       "2024-06-30 BS          0.31      1.77       5.59       2.19       0.70\n",
       "           Heston      0.81      2.15       5.15       1.02       0.03\n",
       "2024-11-30 BS          1.04      3.33       7.62       3.97       1.91\n",
       "           Heston      1.65      3.61       7.12       2.75       0.61\n",
       "2024-12-31 BS          1.21      3.63       7.96       4.30       2.16\n",
       "           Heston      1.81      3.87       7.48       3.08       0.81"
      ]
     },
     "execution_count": null,
     "metadata": {},
     "output_type": "execute_result"
    }
   ],
   "source": [
    "df = pd.DataFrame(columns=[\"Maturity\", \"Strike\", \"Model\", \"Price\"])\n",
    "for m in [mns[6], mns[11], mns[12]]:\n",
    "    for xr in [0.8, 0.9, 1, 1.1, 1.2]:  # % of the spot\n",
    "        is_call = xr >= 1\n",
    "        timetable = Option(\"USD\", ticker, xr * spot, m, is_call).timetable()\n",
    "\n",
    "        heston_price, _ = heston_model.price(timetable, heston_dataset)\n",
    "        bs_price, _ = bs_model.price(timetable, bs_dataset)\n",
    "\n",
    "        xr_str = f\"{xr:.2f}/Call\" if is_call else f\"{xr:.2f}/Put\"\n",
    "        df.loc[len(df)] = [m, xr_str, \"BS\", bs_price]\n",
    "        df.loc[len(df)] = [m, xr_str, \"Heston\", heston_price]\n",
    "\n",
    "pd.options.display.float_format = \"{:,.2f}\".format\n",
    "df.pivot(columns=\"Strike\", index=[\"Maturity\", \"Model\"], values=\"Price\")"
   ]
  },
  {
   "cell_type": "markdown",
   "metadata": {},
   "source": [
    "## Forward Distribution"
   ]
  },
  {
   "cell_type": "code",
   "execution_count": null,
   "metadata": {},
   "outputs": [
    {
     "name": "stdout",
     "output_type": "stream",
     "text": [
      "  track                      time op  quantity unit\n",
      "0       2024-12-31 00:00:00+00:00  +      1.00  SPX\n"
     ]
    }
   ],
   "source": [
    "# We will define a forward timetable, instead of using contract classes from qablet_contracts\n",
    "events = [\n",
    "    {\n",
    "        \"track\": \"\",\n",
    "        \"time\": mns[12],\n",
    "        \"op\": \"+\",\n",
    "        \"quantity\": 1,\n",
    "        \"unit\": ticker,\n",
    "    }\n",
    "]\n",
    "\n",
    "events_table = pa.RecordBatch.from_pylist(events, schema=TS_EVENT_SCHEMA)\n",
    "fwd_timetable = {\"events\": events_table, \"expressions\": {}}\n",
    "print(fwd_timetable[\"events\"].to_pandas())"
   ]
  },
  {
   "cell_type": "code",
   "execution_count": null,
   "metadata": {},
   "outputs": [],
   "source": [
    "heston_dataset[\"MC\"][\"FLAGS\"] = Stats.CASHFLOW\n",
    "bs_dataset[\"MC\"][\"FLAGS\"] = Stats.CASHFLOW"
   ]
  },
  {
   "cell_type": "code",
   "execution_count": null,
   "metadata": {},
   "outputs": [
    {
     "name": "stdout",
     "output_type": "stream",
     "text": [
      "BS:    99.94 Heston:   100.00\n"
     ]
    },
    {
     "data": {
      "image/png": "[encoded data removed]",
      "text/plain": [
       "<Figure size 640x480 with 1 Axes>"
      ]
     },
     "metadata": {},
     "output_type": "display_data"
    }
   ],
   "source": [
    "heston_price, heston_stats = heston_model.price(fwd_timetable, heston_dataset)\n",
    "bs_price, bs_stats = bs_model.price(fwd_timetable, bs_dataset)\n",
    "print(f\"BS: {bs_price: 8.2f} Heston: {heston_price: 8.2f}\")\n",
    "ev_idx = 0  # index of the event in the timetable that has cashflow\n",
    "\n",
    "for color, stats in zip([\"black\", \"red\"], [bs_stats, heston_stats]):\n",
    "    plt.hist(\n",
    "        stats[\"CASHFLOW\"][0][ev_idx],\n",
    "        bins=50,\n",
    "        color=color,\n",
    "        histtype=\"step\",\n",
    "        density=True,\n",
    "    )"
   ]
  }
 ],
 "metadata": {
  "kernelspec": {
   "display_name": ".venv",
   "language": "python",
   "name": "python3"
  },
  "language_info": {
   "codemirror_mode": {
    "name": "ipython",
    "version": 3
   },
   "file_extension": ".py",
   "mimetype": "text/x-python",
   "name": "python",
   "nbconvert_exporter": "python",
   "pygments_lexer": "ipython3"
  }
 },
 "nbformat": 4,
 "nbformat_minor": 2
}
