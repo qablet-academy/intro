{
 "cells": [
  {
   "cell_type": "markdown",
   "metadata": {},
   "source": []
  },
  {
   "cell_type": "markdown",
   "metadata": {},
   "source": [
    "## How to implement Heston model\n",
    "In the other notebooks we used the `HestonMCModel` from `qablet.heston.mc`.\n",
    "We show here how you could have created the same Heston model, using base MC modules in qablet. This example can also be used to make other modifications to the model, such as time dependent Heston Model, or even other kinds of volatility models.\n",
    "\n",
    "Also see [Notebook 2.1 Custom MC](../../notebooks/2_1_custom_mc.ipynb) for more information on how to write a custom Monte Carlo model that can price qablet contracts."
   ]
  },
  {
   "cell_type": "code",
   "execution_count": null,
   "metadata": {},
   "outputs": [],
   "source": [
    "from datetime import datetime\n",
    "\n",
    "import numpy as np\n",
    "import pandas as pd\n",
    "from numpy.random import SFC64, Generator\n",
    "from qablet.base.mc import MCModel, MCStateBase\n",
    "from qablet.base.utils import Forwards\n",
    "from qablet.heston.mc import HestonMCModel\n",
    "from qablet_contracts.eq.cliquet import Accumulator\n",
    "from qablet_contracts.timetable import py_to_ts"
   ]
  },
  {
   "cell_type": "code",
   "execution_count": null,
   "metadata": {},
   "outputs": [],
   "source": [
    "# Define a class for the state of a single asset Heston MC process\n",
    "class MyState(MCStateBase):\n",
    "    def __init__(self, timetable, dataset):\n",
    "        \"\"\"The advance method does the real work of the simulation. The __init__ method\n",
    "        just makes the necessary parameters handy.\"\"\"\n",
    "\n",
    "        super().__init__(timetable, dataset)\n",
    "\n",
    "        self.n = dataset[\"MC\"][\"PATHS\"]\n",
    "\n",
    "        # create a random number generator\n",
    "        self.rng = Generator(SFC64(dataset[\"MC\"][\"SEED\"]))\n",
    "\n",
    "        self.asset = dataset[\"HESTON\"][\"ASSET\"]\n",
    "        self.asset_fwd = Forwards(dataset[\"ASSETS\"][self.asset])\n",
    "        self.spot = self.asset_fwd.forward(0)\n",
    "\n",
    "        self.heston_params = (\n",
    "            dataset[\"HESTON\"][\"LONG_VAR\"],\n",
    "            dataset[\"HESTON\"][\"VOL_OF_VAR\"],\n",
    "            dataset[\"HESTON\"][\"MEANREV\"],\n",
    "            dataset[\"HESTON\"][\"CORRELATION\"],\n",
    "        )\n",
    "\n",
    "        # Initialize the processes x (log stock) and v (variance)\n",
    "        self.x_vec = np.zeros(self.n)  #\n",
    "        self.v_vec = np.full(self.n, dataset[\"HESTON\"][\"INITIAL_VAR\"])\n",
    "\n",
    "        self.cur_time = 0\n",
    "\n",
    "    def advance(self, new_time):\n",
    "        \"\"\"Update x_vec, v_vec in place when we move simulation by time dt.\"\"\"\n",
    "        dt = new_time - self.cur_time\n",
    "        if dt < 1e-10:\n",
    "            return\n",
    "\n",
    "        (theta, vvol, meanrev, corr) = self.heston_params\n",
    "        fwd_rate = self.asset_fwd.rate(new_time, self.cur_time)\n",
    "\n",
    "        # generate the wiener processes\n",
    "        cov = [[dt, corr * dt], [corr * dt, dt]]\n",
    "        dz_pair = self.rng.multivariate_normal([0, 0], cov, self.n).transpose()\n",
    "\n",
    "        vol_vec = np.sqrt(np.maximum(0.0, self.v_vec))  # Floor\n",
    "\n",
    "        # Update log stock process\n",
    "        self.x_vec += (fwd_rate - vol_vec * vol_vec / 2.0) * dt\n",
    "        self.x_vec += vol_vec * dz_pair[0]\n",
    "\n",
    "        # update the variance process\n",
    "        self.v_vec += (theta - self.v_vec) * meanrev * dt\n",
    "        self.v_vec += vvol * vol_vec * dz_pair[1]\n",
    "\n",
    "        self.cur_time = new_time\n",
    "\n",
    "    def get_value(self, unit):\n",
    "        \"\"\"Return the value of the unit at the current time.\"\"\"\n",
    "        if unit == self.asset:\n",
    "            return self.spot * np.exp(self.x_vec)\n",
    "        else:\n",
    "            return None\n",
    "\n",
    "\n",
    "class MyModel(MCModel):\n",
    "    def state_class(self):\n",
    "        return MyState"
   ]
  },
  {
   "cell_type": "markdown",
   "metadata": {},
   "source": [
    "### Market Data\n",
    "The data is identical to the other notebooks in the Heston workshop."
   ]
  },
  {
   "cell_type": "code",
   "execution_count": null,
   "metadata": {},
   "outputs": [],
   "source": [
    "ticker = \"SPX\"\n",
    "rate = 0.00  # or 0.03 for 3%\n",
    "div = 0.00  # 0.01\n",
    "spot = 100\n",
    "pricing_dt = datetime(2023, 12, 31)\n",
    "\n",
    "# flat array for discounts and forwards\n",
    "tmax = 2.0\n",
    "times = np.array([0.0, tmax])\n",
    "rates = np.array([rate, rate])\n",
    "fwds = spot * np.exp((rate - div) * times)\n",
    "\n",
    "heston_dataset = {\n",
    "    \"BASE\": \"USD\",\n",
    "    \"PRICING_TS\": py_to_ts(pricing_dt).value,\n",
    "    \"ASSETS\": {\n",
    "        \"USD\": (\"ZERO_RATES\", np.column_stack((times, rates))),\n",
    "        ticker: (\"FORWARDS\", np.column_stack((times, fwds))),\n",
    "    },\n",
    "    \"MC\": {\n",
    "        \"PATHS\": 100_000,\n",
    "        \"TIMESTEP\": 1 / 100,\n",
    "        \"SEED\": 1,\n",
    "    },\n",
    "    \"HESTON\": {\n",
    "        \"ASSET\": ticker,\n",
    "        \"INITIAL_VAR\": 0.04,\n",
    "        \"LONG_VAR\": 0.04,\n",
    "        \"MEANREV\": 10,\n",
    "        \"VOL_OF_VAR\": 1,\n",
    "        \"CORRELATION\": -1.0,\n",
    "    },\n",
    "}"
   ]
  },
  {
   "cell_type": "markdown",
   "metadata": {},
   "source": [
    "### Accumulator Cliquet\n",
    "Define an Accmulator Cliquet and price it using the Heston model from the qablet package, and the one we created above."
   ]
  },
  {
   "cell_type": "code",
   "execution_count": null,
   "metadata": {},
   "outputs": [],
   "source": [
    "global_floor = 0.0\n",
    "local_floor = -0.01\n",
    "local_cap = 0.01\n",
    "fix_dates = pd.bdate_range(pricing_dt, periods=13, freq=\"1ME\")\n",
    "\n",
    "contract = Accumulator(\n",
    "    \"USD\", ticker, fix_dates, global_floor, local_floor, local_cap\n",
    ").timetable()\n",
    "\n",
    "heston_model = HestonMCModel()  # Model from qablet package\n",
    "heston_price, _ = heston_model.price(contract, heston_dataset)\n",
    "print(f\"Heston (package): {100 * heston_price:.3f}\")\n",
    "\n",
    "my_model = MyModel()  # Model we defined above\n",
    "my_heston_price, _ = my_model.price(contract, heston_dataset)\n",
    "print(f\"Heston (mymodel): {100 * my_heston_price:.3f}\")"
   ]
  }
 ],
 "metadata": {
  "kernelspec": {
   "display_name": ".venv",
   "language": "python",
   "name": "python3"
  },
  "language_info": {
   "codemirror_mode": {
    "name": "ipython",
    "version": 3
   },
   "file_extension": ".py",
   "mimetype": "text/x-python",
   "name": "python",
   "nbconvert_exporter": "python",
   "pygments_lexer": "ipython3"
  }
 },
 "nbformat": 4,
 "nbformat_minor": 2
}
