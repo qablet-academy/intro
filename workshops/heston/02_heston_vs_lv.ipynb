{
 "cells": [
  {
   "cell_type": "markdown",
   "metadata": {},
   "source": [
    "# Part 2. Heston vs Local Volatility\n",
    "\n",
    "- Compare Vanilla Options for different strike and maturities. \n",
    "- Compare other contracts - Forwars options, Collars, Forward Collars, Cliquets. \n",
    "\n",
    "Start with the imports."
   ]
  },
  {
   "cell_type": "code",
   "execution_count": null,
   "metadata": {},
   "outputs": [],
   "source": [
    "import numpy as np\n",
    "import pandas as pd\n",
    "import pyarrow as pa\n",
    "from datetime import datetime\n",
    "from matplotlib import pyplot as plt\n",
    "\n",
    "\n",
    "# contracts\n",
    "from qablet_contracts.timetable import py_to_ts, TS_EVENT_SCHEMA\n",
    "from qablet_contracts.eq.vanilla import Option\n",
    "from qablet_contracts.eq.forward import ForwardOption\n",
    "from qablet_contracts.eq.cliquet import Accumulator\n",
    "\n",
    "# models\n",
    "from qablet.heston.mc import HestonMCModel\n",
    "from qablet.black_scholes.mc import LVMCModel"
   ]
  },
  {
   "cell_type": "markdown",
   "metadata": {},
   "source": [
    "## Common Dataset"
   ]
  },
  {
   "cell_type": "code",
   "execution_count": null,
   "metadata": {},
   "outputs": [
    {
     "data": {
      "text/plain": [
       "('FORWARDS',\n",
       " array([[  0., 100.],\n",
       "        [  2., 100.]]))"
      ]
     },
     "execution_count": null,
     "metadata": {},
     "output_type": "execute_result"
    }
   ],
   "source": [
    "# Market Data\n",
    "ticker = \"SPX\"\n",
    "rate = 0.00  # 0.03\n",
    "div = 0.00  # 0.01\n",
    "spot = 100\n",
    "pricing_dt = datetime(2023, 12, 31)\n",
    "\n",
    "# flat array for discounts and forwards\n",
    "tmax = 2.0\n",
    "times = np.array([0.0, tmax])\n",
    "rates = np.array([rate, rate])\n",
    "fwds = spot * np.exp((rate - div) * times)\n",
    "\n",
    "usd_crv = (\"ZERO_RATES\", np.column_stack((times, rates)))\n",
    "fwds_crv = (\"FORWARDS\", np.column_stack((times, fwds)))\n",
    "fwds_crv"
   ]
  },
  {
   "cell_type": "code",
   "execution_count": null,
   "metadata": {},
   "outputs": [],
   "source": [
    "# complete common dataset\n",
    "dataset = {\n",
    "    \"BASE\": \"USD\",\n",
    "    \"PRICING_TS\": py_to_ts(pricing_dt).value,\n",
    "    \"ASSETS\": {\n",
    "        \"USD\": usd_crv,\n",
    "        ticker: fwds_crv,\n",
    "    },\n",
    "    \"MC\": {\n",
    "        \"PATHS\": 50_000,\n",
    "        \"TIMESTEP\": 1 / 100,\n",
    "        \"SEED\": 1,\n",
    "    },\n",
    "}"
   ]
  },
  {
   "cell_type": "markdown",
   "metadata": {},
   "source": [
    "# Heston Model and Parameters\n",
    "Similar to the previous Notebook."
   ]
  },
  {
   "cell_type": "code",
   "execution_count": null,
   "metadata": {},
   "outputs": [],
   "source": [
    "heston_model = HestonMCModel()\n",
    "\n",
    "heston_dataset = dataset.copy()\n",
    "heston_dataset[\"HESTON\"] = {\n",
    "    \"ASSET\": ticker,\n",
    "    \"INITIAL_VAR\": 0.04,\n",
    "    \"LONG_VAR\": 0.04,\n",
    "    \"MEANREV\": 10,\n",
    "    \"VOL_OF_VAR\": 1,\n",
    "    \"CORRELATION\": -1.0,\n",
    "}"
   ]
  },
  {
   "cell_type": "markdown",
   "metadata": {},
   "source": [
    "##  Local Volatility Model\n",
    "We will use a Local Volatility function that generates a surface that similar to the choice of Heston Parameters above. The derivation of such an approximation function for the local variance is given in \"The Volatility Surface\", *Chapter 4.1. Local Variance in The Heston Nandi Model.*"
   ]
  },
  {
   "cell_type": "markdown",
   "metadata": {},
   "source": [
    "Modified Mean Reversion ($\\lambda$) and long variance ($v$)\n",
    "\n",
    "$$\n",
    "\\lambda^{'} = \\lambda + \\eta / 2 \\\\\n",
    "\n",
    "\\bar{v}^{'} = \\bar{v} \\cdot  \\lambda / \\lambda^{'}\n",
    "$$\n",
    "\n",
    "Then define the local vol function s below.\n",
    "\n",
    "$$\n",
    "\\begin{aligned}\n",
    "v^{atm}_{loc}(t) &= (v-\\bar{v}^{'} ) \\cdot e^{-\\lambda^{'} t} + \\bar{v}^{'}  \\\\\n",
    "\n",
    "v^{skew}_{loc}(t) &=  - \\eta \\left\\{ \\frac{1 - e^{-\\lambda^{'} t}}{\\lambda^{'} T} \\right\\} \\\\\n",
    "\n",
    "v_{loc}(x_t, t) &= v^{atm}_{loc}(t)  + x_t \\cdot v^{skew}_{loc}(t)\n",
    "\\end{aligned}\n",
    "$$\n"
   ]
  },
  {
   "cell_type": "code",
   "execution_count": null,
   "metadata": {},
   "outputs": [],
   "source": [
    "lm = heston_dataset[\"HESTON\"][\"MEANREV\"]\n",
    "eta = heston_dataset[\"HESTON\"][\"VOL_OF_VAR\"]\n",
    "vl = heston_dataset[\"HESTON\"][\"LONG_VAR\"]\n",
    "vi = heston_dataset[\"HESTON\"][\"INITIAL_VAR\"]\n",
    "\n",
    "_lm = lm + eta / 2\n",
    "_vl = vl * lm / _lm\n",
    "\n",
    "\n",
    "# local vol function, takes a tuple of current time and log-spot vector\n",
    "def local_vol(points):\n",
    "    (t, x_vec) = points\n",
    "\n",
    "    atm = (vi - _vl) * np.exp(-_lm * t) + _vl\n",
    "    if t < 1e-6:\n",
    "        shape = -eta  # special case for t=0 so that denom doesn't blow up\n",
    "    else:\n",
    "        shape = -eta * (1 - np.exp(-_lm * t)) / (_lm * t)\n",
    "\n",
    "    out = x_vec * shape\n",
    "    np.add(out, atm, out=out)\n",
    "    # floor it, because the approximation works less well away from atm and can be negative\n",
    "    np.maximum(0.001, out, out=out)\n",
    "    np.sqrt(out, out=out)\n",
    "    return out"
   ]
  },
  {
   "cell_type": "code",
   "execution_count": null,
   "metadata": {},
   "outputs": [],
   "source": [
    "lv_model = LVMCModel()\n",
    "\n",
    "lv_dataset = dataset.copy()\n",
    "lv_dataset[\"LV\"] = {\"ASSET\": ticker, \"VOL\": local_vol}"
   ]
  },
  {
   "cell_type": "markdown",
   "metadata": {},
   "source": [
    "### Price Options at different strikes and maturities\n",
    "We will see that in this case, they match very well."
   ]
  },
  {
   "cell_type": "code",
   "execution_count": null,
   "metadata": {},
   "outputs": [
    {
     "data": {
      "text/html": [
       "<div>\n",
       "<style scoped>\n",
       "    .dataframe tbody tr th:only-of-type {\n",
       "        vertical-align: middle;\n",
       "    }\n",
       "\n",
       "    .dataframe tbody tr th {\n",
       "        vertical-align: top;\n",
       "    }\n",
       "\n",
       "    .dataframe thead th {\n",
       "        text-align: right;\n",
       "    }\n",
       "</style>\n",
       "<table border=\"1\" class=\"dataframe\">\n",
       "  <thead>\n",
       "    <tr style=\"text-align: right;\">\n",
       "      <th></th>\n",
       "      <th>Strike</th>\n",
       "      <th>0.80/Put</th>\n",
       "      <th>0.90/Put</th>\n",
       "      <th>1.00/Call</th>\n",
       "      <th>1.10/Call</th>\n",
       "      <th>1.20/Call</th>\n",
       "    </tr>\n",
       "    <tr>\n",
       "      <th>Maturity</th>\n",
       "      <th>Model</th>\n",
       "      <th></th>\n",
       "      <th></th>\n",
       "      <th></th>\n",
       "      <th></th>\n",
       "      <th></th>\n",
       "    </tr>\n",
       "  </thead>\n",
       "  <tbody>\n",
       "    <tr>\n",
       "      <th rowspan=\"2\" valign=\"top\">2024-06-30</th>\n",
       "      <th>BS</th>\n",
       "      <td>0.82</td>\n",
       "      <td>2.18</td>\n",
       "      <td>5.15</td>\n",
       "      <td>0.95</td>\n",
       "      <td>0.00</td>\n",
       "    </tr>\n",
       "    <tr>\n",
       "      <th>Heston</th>\n",
       "      <td>0.82</td>\n",
       "      <td>2.16</td>\n",
       "      <td>5.16</td>\n",
       "      <td>1.02</td>\n",
       "      <td>0.03</td>\n",
       "    </tr>\n",
       "    <tr>\n",
       "      <th rowspan=\"2\" valign=\"top\">2024-11-30</th>\n",
       "      <th>BS</th>\n",
       "      <td>1.62</td>\n",
       "      <td>3.57</td>\n",
       "      <td>7.05</td>\n",
       "      <td>2.69</td>\n",
       "      <td>0.57</td>\n",
       "    </tr>\n",
       "    <tr>\n",
       "      <th>Heston</th>\n",
       "      <td>1.62</td>\n",
       "      <td>3.56</td>\n",
       "      <td>7.12</td>\n",
       "      <td>2.74</td>\n",
       "      <td>0.61</td>\n",
       "    </tr>\n",
       "    <tr>\n",
       "      <th rowspan=\"2\" valign=\"top\">2024-12-31</th>\n",
       "      <th>BS</th>\n",
       "      <td>1.79</td>\n",
       "      <td>3.84</td>\n",
       "      <td>7.38</td>\n",
       "      <td>3.01</td>\n",
       "      <td>0.76</td>\n",
       "    </tr>\n",
       "    <tr>\n",
       "      <th>Heston</th>\n",
       "      <td>1.78</td>\n",
       "      <td>3.81</td>\n",
       "      <td>7.46</td>\n",
       "      <td>3.06</td>\n",
       "      <td>0.80</td>\n",
       "    </tr>\n",
       "  </tbody>\n",
       "</table>\n",
       "</div>"
      ],
      "text/plain": [
       "Strike             0.80/Put  0.90/Put  1.00/Call  1.10/Call  1.20/Call\n",
       "Maturity   Model                                                      \n",
       "2024-06-30 BS          0.82      2.18       5.15       0.95       0.00\n",
       "           Heston      0.82      2.16       5.16       1.02       0.03\n",
       "2024-11-30 BS          1.62      3.57       7.05       2.69       0.57\n",
       "           Heston      1.62      3.56       7.12       2.74       0.61\n",
       "2024-12-31 BS          1.79      3.84       7.38       3.01       0.76\n",
       "           Heston      1.78      3.81       7.46       3.06       0.80"
      ]
     },
     "execution_count": null,
     "metadata": {},
     "output_type": "execute_result"
    }
   ],
   "source": [
    "# array of 12 months, starting with princing date, ending with 1 year\n",
    "mns = pd.bdate_range(pricing_dt, periods=13, freq=\"1ME\")\n",
    "\n",
    "df = pd.DataFrame(columns=[\"Maturity\", \"Strike\", \"Model\", \"Price\"])\n",
    "for m in [mns[6], mns[11], mns[12]]:\n",
    "    for xr in [0.8, 0.9, 1, 1.1, 1.2]:  # % of the spot\n",
    "        is_call = xr >= 1\n",
    "        timetable = Option(\"USD\", ticker, xr * spot, m, is_call).timetable()\n",
    "\n",
    "        heston_price, _ = heston_model.price(timetable, heston_dataset)\n",
    "        bs_price, _ = lv_model.price(timetable, lv_dataset)\n",
    "\n",
    "        xr_str = f\"{xr:.2f}/Call\" if is_call else f\"{xr:.2f}/Put\"\n",
    "        df.loc[len(df)] = [m, xr_str, \"BS\", bs_price]\n",
    "        df.loc[len(df)] = [m, xr_str, \"Heston\", heston_price]\n",
    "\n",
    "pd.options.display.float_format = \"{:,.2f}\".format\n",
    "df.pivot(columns=\"Strike\", index=[\"Maturity\", \"Model\"], values=\"Price\")"
   ]
  },
  {
   "cell_type": "markdown",
   "metadata": {},
   "source": [
    "## Forward Options\n",
    "Now we move on to exotics. The first one is a Forward Starting Option, where the strike is set some time in the future."
   ]
  },
  {
   "cell_type": "code",
   "execution_count": null,
   "metadata": {},
   "outputs": [
    {
     "name": "stdout",
     "output_type": "stream",
     "text": [
      "  track                      time   op  quantity    unit\n",
      "0   NaN 2024-11-30 00:00:00+00:00  NaN      0.00  .FIX_K\n",
      "1       2024-12-31 00:00:00+00:00    >      0.00     USD\n",
      "2       2024-12-31 00:00:00+00:00    +     -1.00      .K\n",
      "3       2024-12-31 00:00:00+00:00    +      1.00     SPX\n",
      "1.993366346632117\n"
     ]
    }
   ],
   "source": [
    "timetable = ForwardOption(\n",
    "    \"USD\", ticker, 1.0, mns[11], mns[12], True\n",
    ").timetable()\n",
    "\n",
    "print(timetable[\"events\"].to_pandas())\n",
    "price, _ = heston_model.price(timetable, heston_dataset)\n",
    "print(price)"
   ]
  },
  {
   "cell_type": "code",
   "execution_count": null,
   "metadata": {},
   "outputs": [
    {
     "data": {
      "text/html": [
       "<div>\n",
       "<style scoped>\n",
       "    .dataframe tbody tr th:only-of-type {\n",
       "        vertical-align: middle;\n",
       "    }\n",
       "\n",
       "    .dataframe tbody tr th {\n",
       "        vertical-align: top;\n",
       "    }\n",
       "\n",
       "    .dataframe thead th {\n",
       "        text-align: right;\n",
       "    }\n",
       "</style>\n",
       "<table border=\"1\" class=\"dataframe\">\n",
       "  <thead>\n",
       "    <tr style=\"text-align: right;\">\n",
       "      <th></th>\n",
       "      <th>Strike</th>\n",
       "      <th>0.90/Put</th>\n",
       "      <th>1.00/Call</th>\n",
       "      <th>1.10/Call</th>\n",
       "    </tr>\n",
       "    <tr>\n",
       "      <th>Maturity</th>\n",
       "      <th>Model</th>\n",
       "      <th></th>\n",
       "      <th></th>\n",
       "      <th></th>\n",
       "    </tr>\n",
       "  </thead>\n",
       "  <tbody>\n",
       "    <tr>\n",
       "      <th rowspan=\"2\" valign=\"top\">2024-06-30</th>\n",
       "      <th>BS</th>\n",
       "      <td>0.12</td>\n",
       "      <td>2.05</td>\n",
       "      <td>0.10</td>\n",
       "    </tr>\n",
       "    <tr>\n",
       "      <th>Heston</th>\n",
       "      <td>0.25</td>\n",
       "      <td>1.96</td>\n",
       "      <td>0.03</td>\n",
       "    </tr>\n",
       "    <tr>\n",
       "      <th rowspan=\"2\" valign=\"top\">2024-11-30</th>\n",
       "      <th>BS</th>\n",
       "      <td>0.10</td>\n",
       "      <td>2.12</td>\n",
       "      <td>0.10</td>\n",
       "    </tr>\n",
       "    <tr>\n",
       "      <th>Heston</th>\n",
       "      <td>0.26</td>\n",
       "      <td>1.96</td>\n",
       "      <td>0.03</td>\n",
       "    </tr>\n",
       "    <tr>\n",
       "      <th rowspan=\"2\" valign=\"top\">2024-12-31</th>\n",
       "      <th>BS</th>\n",
       "      <td>0.10</td>\n",
       "      <td>2.14</td>\n",
       "      <td>0.10</td>\n",
       "    </tr>\n",
       "    <tr>\n",
       "      <th>Heston</th>\n",
       "      <td>0.26</td>\n",
       "      <td>1.99</td>\n",
       "      <td>0.04</td>\n",
       "    </tr>\n",
       "  </tbody>\n",
       "</table>\n",
       "</div>"
      ],
      "text/plain": [
       "Strike             0.90/Put  1.00/Call  1.10/Call\n",
       "Maturity   Model                                 \n",
       "2024-06-30 BS          0.12       2.05       0.10\n",
       "           Heston      0.25       1.96       0.03\n",
       "2024-11-30 BS          0.10       2.12       0.10\n",
       "           Heston      0.26       1.96       0.03\n",
       "2024-12-31 BS          0.10       2.14       0.10\n",
       "           Heston      0.26       1.99       0.04"
      ]
     },
     "execution_count": null,
     "metadata": {},
     "output_type": "execute_result"
    }
   ],
   "source": [
    "# Forward Options at different maturities and strikes\n",
    "df = pd.DataFrame(columns=[\"Maturity\", \"Strike\", \"Model\", \"Price\"])\n",
    "for m in [6, 11, 12]:\n",
    "    for xr in [0.9, 1, 1.1]:  # % of the spot\n",
    "        is_call = xr >= 1\n",
    "        timetable = ForwardOption(\n",
    "            \"USD\", ticker, xr, mns[m - 1], mns[m], is_call\n",
    "        ).timetable()\n",
    "        heston_price, _ = heston_model.price(timetable, heston_dataset)\n",
    "        bs_price, _ = lv_model.price(timetable, lv_dataset)\n",
    "\n",
    "        xr_str = f\"{xr:.2f}/Call\" if is_call else f\"{xr:.2f}/Put\"\n",
    "        df.loc[len(df)] = [mns[m], xr_str, \"BS\", bs_price]\n",
    "        df.loc[len(df)] = [mns[m], xr_str, \"Heston\", heston_price]\n",
    "\n",
    "df.pivot(columns=\"Strike\", index=[\"Maturity\", \"Model\"], values=\"Price\")"
   ]
  },
  {
   "cell_type": "markdown",
   "metadata": {},
   "source": [
    "The numbers have started dirfting. What is more concerning, is the direction of slippage, i.e. lower strikes are priced lower by BS (local vol) and higher strikes are priced higher.\n",
    "\n",
    "What if we tried a collar?"
   ]
  },
  {
   "cell_type": "markdown",
   "metadata": {},
   "source": [
    "## Collar Option\n",
    "In a collar the payoff is given by $\\min(\\max(S-K, floor), cap)$\n",
    "\n",
    "The qablet_contracts package does not have a class for collars, so we write our own timetable."
   ]
  },
  {
   "cell_type": "code",
   "execution_count": null,
   "metadata": {},
   "outputs": [
    {
     "name": "stdout",
     "output_type": "stream",
     "text": [
      "  track                      time op  quantity    unit\n",
      "0       2024-12-31 00:00:00+00:00  +      1.00  COLLAR\n",
      "\n",
      " Price: 0.8224051135540008\n"
     ]
    }
   ],
   "source": [
    "# Create a Collar\n",
    "def collar_timetable(strike, width, maturity):\n",
    "    events = [\n",
    "        {\n",
    "            \"track\": \"\",\n",
    "            \"time\": maturity,\n",
    "            \"op\": \"+\",\n",
    "            \"quantity\": 1,\n",
    "            \"unit\": \"COLLAR\",\n",
    "        },\n",
    "    ]\n",
    "\n",
    "    # Define collar phrase.\n",
    "    def collar_pay_fn(inputs):\n",
    "        [s] = inputs\n",
    "\n",
    "        ret = np.maximum(-width, s - strike)\n",
    "        ret = np.minimum(width, ret)\n",
    "\n",
    "        return [ret]\n",
    "\n",
    "    events_table = pa.RecordBatch.from_pylist(events, schema=TS_EVENT_SCHEMA)\n",
    "    return {\n",
    "        \"events\": events_table,\n",
    "        \"expressions\": {\n",
    "            \"COLLAR\": {\n",
    "                \"type\": \"phrase\",\n",
    "                \"inp\": [ticker],\n",
    "                \"fn\": collar_pay_fn,\n",
    "            }\n",
    "        },\n",
    "    }\n",
    "\n",
    "\n",
    "timetable = collar_timetable(100, 10, mns[12])\n",
    "print(timetable[\"events\"].to_pandas())\n",
    "price, _ = heston_model.price(timetable, heston_dataset)\n",
    "print(\"\\n Price:\", price)"
   ]
  },
  {
   "cell_type": "markdown",
   "metadata": {},
   "source": [
    "Plot the payoff of a collar"
   ]
  },
  {
   "cell_type": "code",
   "execution_count": null,
   "metadata": {},
   "outputs": [
    {
     "data": {
      "text/plain": [
       "[<matplotlib.lines.Line2D at 0x244bc06abd0>]"
      ]
     },
     "execution_count": null,
     "metadata": {},
     "output_type": "execute_result"
    },
    {
     "data": {
      "image/png": "[encoded data removed]",
      "text/plain": [
       "<Figure size 640x480 with 1 Axes>"
      ]
     },
     "metadata": {},
     "output_type": "display_data"
    }
   ],
   "source": [
    "width = 10\n",
    "strike =100\n",
    "def collar_pay_fn(inputs):\n",
    "    [s] = inputs\n",
    "\n",
    "    ret = np.maximum(-width, s - strike)\n",
    "    ret = np.minimum(width, ret)\n",
    "\n",
    "    return [ret]\n",
    "\n",
    "s_vec = np.linspace(80, 120, 20)\n",
    "pay = collar_pay_fn([s_vec])\n",
    "plt.plot(s_vec, pay[0])"
   ]
  },
  {
   "cell_type": "code",
   "execution_count": null,
   "metadata": {},
   "outputs": [
    {
     "name": "stdout",
     "output_type": "stream",
     "text": [
      "Collars\n"
     ]
    },
    {
     "data": {
      "text/html": [
       "<div>\n",
       "<style scoped>\n",
       "    .dataframe tbody tr th:only-of-type {\n",
       "        vertical-align: middle;\n",
       "    }\n",
       "\n",
       "    .dataframe tbody tr th {\n",
       "        vertical-align: top;\n",
       "    }\n",
       "\n",
       "    .dataframe thead th {\n",
       "        text-align: right;\n",
       "    }\n",
       "</style>\n",
       "<table border=\"1\" class=\"dataframe\">\n",
       "  <thead>\n",
       "    <tr style=\"text-align: right;\">\n",
       "      <th>Maturity</th>\n",
       "      <th>2024-01-31</th>\n",
       "      <th>2024-02-29</th>\n",
       "      <th>2024-03-31</th>\n",
       "      <th>2024-06-30</th>\n",
       "      <th>2024-12-31</th>\n",
       "    </tr>\n",
       "    <tr>\n",
       "      <th>Model</th>\n",
       "      <th></th>\n",
       "      <th></th>\n",
       "      <th></th>\n",
       "      <th></th>\n",
       "      <th></th>\n",
       "    </tr>\n",
       "  </thead>\n",
       "  <tbody>\n",
       "    <tr>\n",
       "      <th>BS</th>\n",
       "      <td>0.29</td>\n",
       "      <td>0.77</td>\n",
       "      <td>1.16</td>\n",
       "      <td>1.21</td>\n",
       "      <td>0.77</td>\n",
       "    </tr>\n",
       "    <tr>\n",
       "      <th>Heston</th>\n",
       "      <td>0.29</td>\n",
       "      <td>0.73</td>\n",
       "      <td>1.02</td>\n",
       "      <td>1.15</td>\n",
       "      <td>0.82</td>\n",
       "    </tr>\n",
       "  </tbody>\n",
       "</table>\n",
       "</div>"
      ],
      "text/plain": [
       "Maturity  2024-01-31  2024-02-29  2024-03-31  2024-06-30  2024-12-31\n",
       "Model                                                               \n",
       "BS              0.29        0.77        1.16        1.21        0.77\n",
       "Heston          0.29        0.73        1.02        1.15        0.82"
      ]
     },
     "execution_count": null,
     "metadata": {},
     "output_type": "execute_result"
    }
   ],
   "source": [
    "print(\"Collars\")\n",
    "df = pd.DataFrame(columns=[\"Maturity\", \"Model\", \"Price\"])\n",
    "for m in [1, 2, 3, 6, 12]:\n",
    "    contract = collar_timetable(100, 10, mns[m])\n",
    "\n",
    "    heston_price, _ = heston_model.price(contract, heston_dataset)\n",
    "    bs_price, _ = lv_model.price(contract, lv_dataset)\n",
    "\n",
    "    df.loc[len(df)] = [mns[m], \"BS\", bs_price]\n",
    "    df.loc[len(df)] = [mns[m], \"Heston\", heston_price]\n",
    "\n",
    "df.pivot(columns=\"Maturity\", index=[\"Model\"], values=\"Price\")"
   ]
  },
  {
   "cell_type": "markdown",
   "metadata": {},
   "source": [
    "Collars are priced very similar. This is not surprising, as a collar can be expressed as a combination of vanillas. We now try the forwad starting version of a collar. "
   ]
  },
  {
   "cell_type": "markdown",
   "metadata": {},
   "source": [
    "## Forward Collars\n",
    "In a forward collar the payoff is given by $\\min(\\max(S-K, floor), cap)$, however the strike $K$ is set on a future strike fixing date. The qablet_contracts package does not have a class for forward collars either, so we modify what we did earlier."
   ]
  },
  {
   "cell_type": "code",
   "execution_count": null,
   "metadata": {},
   "outputs": [
    {
     "name": "stdout",
     "output_type": "stream",
     "text": [
      "  track                      time   op  quantity    unit\n",
      "0   NaN 2024-11-30 00:00:00+00:00  NaN      0.00     FIX\n",
      "1       2024-12-31 00:00:00+00:00    +      1.00  COLLAR\n",
      "\n",
      " Price: 0.2384333063050488\n"
     ]
    }
   ],
   "source": [
    "# Create a Collar\n",
    "def fwd_collar_timetable(strike_rate, width, strike_time, maturity):\n",
    "    events = [\n",
    "        {\n",
    "            \"track\": None,\n",
    "            \"time\": strike_time,\n",
    "            \"op\": None,\n",
    "            \"quantity\": 0,\n",
    "            \"unit\": \"FIX\",  # set the strike\n",
    "        },\n",
    "        {\n",
    "            \"track\": \"\",\n",
    "            \"time\": maturity,\n",
    "            \"op\": \"+\",\n",
    "            \"quantity\": 1,\n",
    "            \"unit\": \"COLLAR\",\n",
    "        },\n",
    "    ]\n",
    "\n",
    "    # Define the strike phrase, return the spot itself.\n",
    "    def strike_fn(inputs):\n",
    "        [s] = inputs\n",
    "\n",
    "        return [s * strike_rate]\n",
    "\n",
    "    # Define collar phrase.\n",
    "    def collar_pay_fn(inputs):\n",
    "        [s, k] = inputs\n",
    "\n",
    "        ret = np.maximum(-width, s - k)\n",
    "        ret = np.minimum(width, ret)\n",
    "\n",
    "        return [ret]\n",
    "\n",
    "    events_table = pa.RecordBatch.from_pylist(events, schema=TS_EVENT_SCHEMA)\n",
    "    return {\n",
    "        \"events\": events_table,\n",
    "        \"expressions\": {\n",
    "            \"COLLAR\": {\n",
    "                \"type\": \"phrase\",\n",
    "                \"inp\": [ticker, \"K\"],\n",
    "                \"fn\": collar_pay_fn,\n",
    "            },\n",
    "            \"FIX\": {\n",
    "                \"type\": \"snapper\",\n",
    "                \"inp\": [ticker],\n",
    "                \"fn\": strike_fn,\n",
    "                \"out\": [\"K\"],\n",
    "            },\n",
    "        },\n",
    "    }\n",
    "\n",
    "\n",
    "timetable = fwd_collar_timetable(1.0, 10, mns[11], mns[12])\n",
    "print(timetable[\"events\"].to_pandas())\n",
    "price, _ = heston_model.price(timetable, heston_dataset)\n",
    "print(\"\\n Price:\", price)"
   ]
  },
  {
   "cell_type": "code",
   "execution_count": null,
   "metadata": {},
   "outputs": [
    {
     "name": "stdout",
     "output_type": "stream",
     "text": [
      "Collars\n"
     ]
    },
    {
     "data": {
      "text/html": [
       "<div>\n",
       "<style scoped>\n",
       "    .dataframe tbody tr th:only-of-type {\n",
       "        vertical-align: middle;\n",
       "    }\n",
       "\n",
       "    .dataframe tbody tr th {\n",
       "        vertical-align: top;\n",
       "    }\n",
       "\n",
       "    .dataframe thead th {\n",
       "        text-align: right;\n",
       "    }\n",
       "</style>\n",
       "<table border=\"1\" class=\"dataframe\">\n",
       "  <thead>\n",
       "    <tr style=\"text-align: right;\">\n",
       "      <th>Maturity</th>\n",
       "      <th>2024-01-31</th>\n",
       "      <th>2024-02-29</th>\n",
       "      <th>2024-03-31</th>\n",
       "      <th>2024-06-30</th>\n",
       "      <th>2024-12-31</th>\n",
       "    </tr>\n",
       "    <tr>\n",
       "      <th>Model</th>\n",
       "      <th></th>\n",
       "      <th></th>\n",
       "      <th></th>\n",
       "      <th></th>\n",
       "      <th></th>\n",
       "    </tr>\n",
       "  </thead>\n",
       "  <tbody>\n",
       "    <tr>\n",
       "      <th>BS</th>\n",
       "      <td>0.29</td>\n",
       "      <td>0.14</td>\n",
       "      <td>0.10</td>\n",
       "      <td>0.00</td>\n",
       "      <td>-0.03</td>\n",
       "    </tr>\n",
       "    <tr>\n",
       "      <th>Heston</th>\n",
       "      <td>0.29</td>\n",
       "      <td>0.23</td>\n",
       "      <td>0.23</td>\n",
       "      <td>0.21</td>\n",
       "      <td>0.24</td>\n",
       "    </tr>\n",
       "  </tbody>\n",
       "</table>\n",
       "</div>"
      ],
      "text/plain": [
       "Maturity  2024-01-31  2024-02-29  2024-03-31  2024-06-30  2024-12-31\n",
       "Model                                                               \n",
       "BS              0.29        0.14        0.10        0.00       -0.03\n",
       "Heston          0.29        0.23        0.23        0.21        0.24"
      ]
     },
     "execution_count": null,
     "metadata": {},
     "output_type": "execute_result"
    }
   ],
   "source": [
    "print(\"Collars\")\n",
    "df = pd.DataFrame(columns=[\"Maturity\", \"Model\", \"Price\"])\n",
    "for m in [1, 2, 3, 6, 12]:\n",
    "    # collars where strikes is set the month before expiration\n",
    "    contract = fwd_collar_timetable(1.0, 10, mns[m - 1], mns[m])\n",
    "\n",
    "    heston_price, _ = heston_model.price(contract, heston_dataset)\n",
    "    bs_price, _ = lv_model.price(contract, lv_dataset)\n",
    "\n",
    "    df.loc[len(df)] = [mns[m], \"BS\", bs_price]\n",
    "    df.loc[len(df)] = [mns[m], \"Heston\", heston_price]\n",
    "\n",
    "df.pivot(columns=\"Maturity\", index=[\"Model\"], values=\"Price\")\n"
   ]
  },
  {
   "cell_type": "markdown",
   "metadata": {},
   "source": [
    "We see above that the forward collar prices diverge a lot when the strike is set later in future."
   ]
  },
  {
   "cell_type": "markdown",
   "metadata": {},
   "source": [
    "## Cliquet\n",
    "\n",
    "In a Cliquet the payoff depends on the asset price on\n",
    "several fixing dates \n",
    "\n",
    "$$\n",
    "T_0 < T_1 < ... T_N\n",
    "$$\n",
    "\n",
    "If the returns are given by\n",
    "\n",
    "$$\n",
    "r_i = \\frac{S_{T_{i+1}}-S_{T_i}}{S_{T_i}}\n",
    "$$\n",
    "\n",
    "Then you apply caps and floors to the return.\n",
    "\n",
    "$$\n",
    "r^*_i = \\max(\\min(r_i, cap_L), floor_L)\n",
    "$$\n",
    "\n",
    "Then contract has a single payoff at $T_N$, given by\n",
    "\n",
    "$$\n",
    "\\max \\left( floor_G, \\sum_0^{N-1} r^*_i \\right)\n",
    "$$\n",
    "\n",
    "Thus a Cliquet is similar to a series of forward collars. It is a common hedge for firms selling variable annuties."
   ]
  },
  {
   "cell_type": "code",
   "execution_count": null,
   "metadata": {},
   "outputs": [],
   "source": [
    "global_floor = 0\n",
    "local_floor = -0.01\n",
    "local_cap = 0.01\n",
    "contract = Accumulator(\n",
    "    \"USD\", ticker, mns, global_floor, local_floor, local_cap\n",
    ").timetable()\n",
    "heston_price, heston_stats = heston_model.price(contract, heston_dataset)\n",
    "bs_price, bs_stats = lv_model.price(contract, lv_dataset)\n",
    "\n",
    "# Print the two prices\n",
    "print(\"BS Price:\", bs_price)\n",
    "print(\"HE Price:\", heston_price)\n",
    "print(contract[\"events\"].to_pandas())"
   ]
  }
 ],
 "metadata": {
  "kernelspec": {
   "display_name": ".venv",
   "language": "python",
   "name": "python3"
  },
  "language_info": {
   "codemirror_mode": {
    "name": "ipython",
    "version": 3
   },
   "file_extension": ".py",
   "mimetype": "text/x-python",
   "name": "python",
   "nbconvert_exporter": "python",
   "pygments_lexer": "ipython3"
  }
 },
 "nbformat": 4,
 "nbformat_minor": 2
}
