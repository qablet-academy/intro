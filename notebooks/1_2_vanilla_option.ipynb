{
 "cells": [
  {
   "cell_type": "markdown",
   "metadata": {},
   "source": [
    "# A vanilla option contract\n",
    "\n",
    "Pre-requisites: Notebook 1.1\n",
    "\n",
    "In this notebook we will create and price a vanilla call option and in that process learn to use\n",
    "\n",
    "- the `>` operation\n",
    "- use Monte-Carlo models from the finmc package\n",
    "- get model stats using `PV_VEC`\n",
    "\n",
    "Let us start with the imports."
   ]
  },
  {
   "cell_type": "code",
   "execution_count": 1,
   "metadata": {},
   "outputs": [],
   "source": [
    "from datetime import datetime\n",
    "\n",
    "import numpy as np\n",
    "import pandas as pd\n",
    "from finmc.models.heston import HestonMC\n",
    "from finmc.models.localvol import LVMC\n",
    "from matplotlib import pyplot as plt\n",
    "from qablet.base.fixed import FixedModel\n",
    "from qablet.base.flags import Stats\n",
    "from qablet.base.mc import MCPricer\n",
    "from qablet.black_scholes.fd import BSFDModel"
   ]
  },
  {
   "cell_type": "markdown",
   "metadata": {},
   "source": [
    "## Create the Contracts\n",
    "\n",
    "The contract of a vanilla option involves a `>` operator. The first event in the example below means that at **time** 1.0 the contract holder gets to choose between the two options\n",
    "- receive **quantity** 0 and stop, or\n",
    "- continue with events down the track\n",
    "\n",
    "Down the track, the remaining two events are to \n",
    "- pay the strike, and\n",
    "- receive the stock\n",
    "\n",
    "In the last event, the **unit** field indicates that the payment is linked to **SPX**. For more details see [Operations](https://qablet.github.io/qablet-contracts/specifications/operations/) and [Unit](https://qablet.github.io/qablet-contracts/specifications/units/) "
   ]
  },
  {
   "cell_type": "code",
   "execution_count": 2,
   "metadata": {},
   "outputs": [
    {
     "name": "stdout",
     "output_type": "stream",
     "text": [
      "  track       time op  quantity unit\n",
      "0       2024-12-31  >       0.0  USD\n",
      "1       2024-12-31  +   -2800.0  USD\n",
      "2       2024-12-31  +       1.0  SPX\n"
     ]
    }
   ],
   "source": [
    "prc_dt = datetime(2023, 12, 31)  # pricing datetime\n",
    "maturity = datetime(2024, 12, 31)  # maturity datetime\n",
    "strike = 2800.0\n",
    "events = [\n",
    "    {\n",
    "        \"track\": \"\",\n",
    "        \"time\": maturity,\n",
    "        \"op\": \">\",\n",
    "        \"quantity\": 0,\n",
    "        \"unit\": \"USD\",\n",
    "    },\n",
    "    {\n",
    "        \"track\": \"\",\n",
    "        \"time\": maturity,\n",
    "        \"op\": \"+\",\n",
    "        \"quantity\": -2800.0,\n",
    "        \"unit\": \"USD\",\n",
    "    },\n",
    "    {\n",
    "        \"track\": \"\",\n",
    "        \"time\": maturity,\n",
    "        \"op\": \"+\",\n",
    "        \"quantity\": 1,\n",
    "        \"unit\": \"SPX\",\n",
    "    },\n",
    "]\n",
    "timetable = {\"events\": events}\n",
    "print(pd.DataFrame(timetable[\"events\"]))"
   ]
  },
  {
   "cell_type": "markdown",
   "metadata": {},
   "source": [
    "## Create the dataset\n",
    "\n",
    "We will now construct the dataset. As there is a payment linked to the unit SPX, we also need to provide the forwards for this unit."
   ]
  },
  {
   "cell_type": "code",
   "execution_count": 3,
   "metadata": {},
   "outputs": [],
   "source": [
    "times = np.array([0.0, 1.0, 2.0, 5.0])\n",
    "rates = np.array([0.04, 0.04, 0.045, 0.05])\n",
    "discount_data = (\"ZERO_RATES\", np.column_stack((times, rates)))\n",
    "\n",
    "\n",
    "spot = 2900\n",
    "div_rate = 0.01\n",
    "fwds = spot * np.exp((rates - div_rate) * times)\n",
    "fwd_data = (\"FORWARDS\", np.column_stack((times, fwds)))\n",
    "\n",
    "dataset = {\n",
    "    \"BASE\": \"USD\",\n",
    "    \"PRICING_TS\": prc_dt,\n",
    "    \"ASSETS\": {\"USD\": discount_data, \"SPX\": fwd_data},\n",
    "}"
   ]
  },
  {
   "cell_type": "markdown",
   "metadata": {},
   "source": [
    "## Calculate Price"
   ]
  },
  {
   "cell_type": "markdown",
   "metadata": {},
   "source": [
    "### Fixed Model\n",
    "We can price this option using `FixedModel`, which being a deterministic pricing model, evaluates a price ignoring any volatility."
   ]
  },
  {
   "cell_type": "code",
   "execution_count": 4,
   "metadata": {},
   "outputs": [
    {
     "name": "stdout",
     "output_type": "stream",
     "text": [
      "price:  181.223925\n"
     ]
    }
   ],
   "source": [
    "model = FixedModel()\n",
    "price, _ = model.price(timetable, dataset)\n",
    "print(f\"price: {price:11.6f}\")"
   ]
  },
  {
   "cell_type": "markdown",
   "metadata": {},
   "source": [
    "### Black-Scholes\n",
    "We can price this option using `BSFDModel`, which is a Black-Scholes Finite Difference Model in the qablet package. This requires Finite-Difference grid specifications (`FD`) and the Black-Scholes Model Parameters (`BS`) to be included in the dataset."
   ]
  },
  {
   "cell_type": "code",
   "execution_count": 5,
   "metadata": {},
   "outputs": [
    {
     "name": "stdout",
     "output_type": "stream",
     "text": [
      "price:  323.530953\n"
     ]
    }
   ],
   "source": [
    "bsfd_dataset = {\n",
    "    \"BASE\": \"USD\",\n",
    "    \"PRICING_TS\": prc_dt,\n",
    "    \"ASSETS\": {\"USD\": discount_data, \"SPX\": fwd_data},\n",
    "    \"FD\": {\n",
    "        \"TIMESTEP\": 1 / 250,\n",
    "        \"MAX_X\": 5,\n",
    "        \"N_X\": 250,\n",
    "    },\n",
    "    \"BS\": {\n",
    "        \"ASSET\": \"SPX\",\n",
    "        \"VOL\": 0.2,\n",
    "    },\n",
    "}\n",
    "\n",
    "model = BSFDModel()\n",
    "price, _ = model.price(timetable, bsfd_dataset)\n",
    "print(f\"price: {price:11.6f}\")"
   ]
  },
  {
   "cell_type": "markdown",
   "metadata": {},
   "source": [
    "### Heston (finmc package)\n",
    "However, we can use monte-carlo models from the `finmc` package, such as `HestonMC`, to price this contract as well. This model requires HESTON model parameters to be included in the dataset."
   ]
  },
  {
   "cell_type": "code",
   "execution_count": 6,
   "metadata": {},
   "outputs": [
    {
     "name": "stdout",
     "output_type": "stream",
     "text": [
      "price:  311.602918\n"
     ]
    }
   ],
   "source": [
    "heston_dataset = {\n",
    "    \"BASE\": \"USD\",\n",
    "    \"PRICING_TS\": prc_dt,\n",
    "    \"ASSETS\": {\"USD\": discount_data, \"SPX\": fwd_data},\n",
    "    \"MC\": {\n",
    "        \"PATHS\": 100_000,\n",
    "        \"TIMESTEP\": 1 / 250,\n",
    "        \"SEED\": 1,\n",
    "    },\n",
    "    \"HESTON\": {\n",
    "        \"ASSET\": \"SPX\",\n",
    "        \"INITIAL_VAR\": 0.015,\n",
    "        \"LONG_VAR\": 0.052,\n",
    "        \"VOL_OF_VOL\": 0.88,\n",
    "        \"MEANREV\": 2.78,\n",
    "        \"CORRELATION\": -0.85,\n",
    "    },\n",
    "}\n",
    "\n",
    "model = MCPricer(HestonMC)\n",
    "price, _ = model.price(timetable, heston_dataset)\n",
    "print(f\"price: {price:11.6f}\")"
   ]
  },
  {
   "cell_type": "markdown",
   "metadata": {},
   "source": [
    "### Local-Vol (finmc package)\n",
    "Alternately, we can use `LVMC` from the finmc package. This model requires LV model parameters to be included in the dataset."
   ]
  },
  {
   "cell_type": "code",
   "execution_count": 7,
   "metadata": {},
   "outputs": [
    {
     "name": "stdout",
     "output_type": "stream",
     "text": [
      "price:  323.662639\n"
     ]
    }
   ],
   "source": [
    "lv_dataset = {\n",
    "    \"BASE\": \"USD\",\n",
    "    \"PRICING_TS\": prc_dt,\n",
    "    \"ASSETS\": {\"USD\": discount_data, \"SPX\": fwd_data},\n",
    "    \"MC\": {\n",
    "        \"PATHS\": 100_000,\n",
    "        \"TIMESTEP\": 1 / 250,\n",
    "        \"SEED\": 1,\n",
    "    },\n",
    "    \"LV\": {\n",
    "        \"ASSET\": \"SPX\",\n",
    "        \"VOL\": 0.2,\n",
    "    },\n",
    "}\n",
    "\n",
    "model = MCPricer(LVMC)\n",
    "price, _ = model.price(timetable, lv_dataset)\n",
    "print(f\"price: {price:11.6f}\")"
   ]
  },
  {
   "cell_type": "markdown",
   "metadata": {},
   "source": [
    "## Pricing Stats\n",
    "The qablet package provides some ways to analyse the behavior of the pricing model. e.g. We can use the `PV_VEC` flag to produce the distribution of prices."
   ]
  },
  {
   "cell_type": "code",
   "execution_count": 8,
   "metadata": {},
   "outputs": [
    {
     "name": "stdout",
     "output_type": "stream",
     "text": [
      "price:  323.662639\n",
      "stats: {'PV_VEC': array([1160.26642008,  574.11366145,  385.23639158, ...,    0.        ,\n",
      "        542.60238002,  755.01693432], shape=(100000,))}\n"
     ]
    }
   ],
   "source": [
    "lv_dataset[\"MC\"][\"FLAGS\"] = Stats.PV_VEC\n",
    "\n",
    "price, stats = model.price(timetable, lv_dataset)\n",
    "print(f\"price: {price:11.6f}\")\n",
    "print(f\"stats: {stats}\")"
   ]
  },
  {
   "cell_type": "markdown",
   "metadata": {},
   "source": [
    "We can use this data to get the standard deviation of the simulation."
   ]
  },
  {
   "cell_type": "code",
   "execution_count": 9,
   "metadata": {},
   "outputs": [
    {
     "name": "stdout",
     "output_type": "stream",
     "text": [
      "std = 435.172472\n",
      "max = 3604.398166\n",
      "min = 0.000000\n"
     ]
    }
   ],
   "source": [
    "pv_vec = stats[\"PV_VEC\"]\n",
    "print(f\"std = {pv_vec.std():.6f}\")\n",
    "print(f\"max = {pv_vec.max():.6f}\")\n",
    "print(f\"min = {pv_vec.min():.6f}\")"
   ]
  },
  {
   "cell_type": "markdown",
   "metadata": {},
   "source": [
    "We can use this data to plot the probability density."
   ]
  },
  {
   "cell_type": "code",
   "execution_count": 10,
   "metadata": {},
   "outputs": [
    {
     "data": {
      "image/png": "[encoded data removed]",
      "text/plain": [
       "<Figure size 640x480 with 1 Axes>"
      ]
     },
     "metadata": {},
     "output_type": "display_data"
    }
   ],
   "source": [
    "pv_vec = stats[\"PV_VEC\"]\n",
    "plt.hist(pv_vec, bins=100, density=True, histtype=\"step\", log=True)\n",
    "plt.title(\"density plot\")\n",
    "plt.show()"
   ]
  },
  {
   "cell_type": "markdown",
   "metadata": {},
   "source": [
    "Next: [Equity Cliquet](1_3_equity_cliquet.ipynb)"
   ]
  }
 ],
 "metadata": {
  "deepnote_execution_queue": [],
  "deepnote_notebook_id": "eeb6ea73fd60494b82d380ce82e88cd1",
  "deepnote_persisted_session": {
   "createdAt": "2023-12-14T19:45:07.472Z"
  },
  "kernelspec": {
   "display_name": ".venv",
   "language": "python",
   "name": "python3"
  },
  "language_info": {
   "codemirror_mode": {
    "name": "ipython",
    "version": 3
   },
   "file_extension": ".py",
   "mimetype": "text/x-python",
   "name": "python",
   "nbconvert_exporter": "python",
   "pygments_lexer": "ipython3",
   "version": "3.11.9"
  }
 },
 "nbformat": 4,
 "nbformat_minor": 0
}
