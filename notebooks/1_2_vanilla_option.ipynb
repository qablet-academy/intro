{
 "cells": [
  {
   "cell_type": "markdown",
   "metadata": {},
   "source": [
    "# A vanilla option contract\n",
    "\n",
    "Pre-requisites: Notebook 1.1\n",
    "\n",
    "In this notebook we will create and price a vanilla call option and in that process learn to use\n",
    "\n",
    "- the `>` operation\n",
    "- `FixedModel` and `HestonMCModel`\n",
    "- model stats using `PV_VEC`\n",
    "\n",
    "Let us start with the imports."
   ]
  },
  {
   "cell_type": "code",
   "execution_count": null,
   "metadata": {},
   "outputs": [],
   "source": [
    "import numpy as np\n",
    "from qablet_contracts.timetable import timetable_from_dicts\n",
    "from qablet.base.fixed import FixedModel\n",
    "from qablet.heston.mc import HestonMCModel\n",
    "from qablet.base.flags import Stats\n",
    "from matplotlib import pyplot as plt "
   ]
  },
  {
   "cell_type": "markdown",
   "metadata": {},
   "source": [
    "## Create the Contracts\n",
    "\n",
    "The contract of a vanilla option involves a `>` operator. The first event in the example below means that at **time** 1.0 the contract holder gets to choose between the two options\n",
    "- receive **quantity** 0 and stop, or\n",
    "- continue with events down the track\n",
    "\n",
    "Down the track, the remaining two events are to \n",
    "- pay the strike, and\n",
    "- receive the stock\n",
    "\n",
    "In the last event, the **unit** field indicates that the payment is linked to **SPX**. For more details see [Operations](https://qablet.github.io/qablet-contracts/specifications/operations/) and [Unit](https://qablet.github.io/qablet-contracts/specifications/units/) "
   ]
  },
  {
   "cell_type": "code",
   "execution_count": null,
   "metadata": {},
   "outputs": [
    {
     "name": "stdout",
     "output_type": "stream",
     "text": [
      "  track  time op  quantity unit\n",
      "0         1.0  >       0.0  USD\n",
      "1         1.0  +   -2800.0  USD\n",
      "2         1.0  +       1.0  SPX\n"
     ]
    }
   ],
   "source": [
    "events = [\n",
    "    {\n",
    "        \"track\": \"\",\n",
    "        \"time\": 1.0,\n",
    "        \"op\": \">\",\n",
    "        \"quantity\": 0,\n",
    "        \"unit\": \"USD\",\n",
    "    },\n",
    "    {\n",
    "        \"track\": \"\",\n",
    "        \"time\": 1.0,\n",
    "        \"op\": \"+\",\n",
    "        \"quantity\": -2800.0,\n",
    "        \"unit\": \"USD\",\n",
    "    },\n",
    "    {\n",
    "        \"track\": \"\",\n",
    "        \"time\": 1.0,\n",
    "        \"op\": \"+\",\n",
    "        \"quantity\": 1,\n",
    "        \"unit\": \"SPX\",\n",
    "    },\n",
    "]\n",
    "timetable = timetable_from_dicts(events)\n",
    "print(timetable[\"events\"].to_pandas())"
   ]
  },
  {
   "cell_type": "markdown",
   "metadata": {},
   "source": [
    "## Create the dataset\n",
    "\n",
    "We will now construct the dataset. As there is a payment linked to the unit SPX, we also need to provide the forwards for this unit."
   ]
  },
  {
   "cell_type": "code",
   "execution_count": null,
   "metadata": {},
   "outputs": [],
   "source": [
    "times = np.array([0.0, 1.0, 2.0, 5.0])\n",
    "rates = np.array([0.04, 0.04, 0.045, 0.05])\n",
    "discount_data = (\"ZERO_RATES\", np.column_stack((times, rates)))\n",
    "\n",
    "\n",
    "spot = 2900\n",
    "div_rate = 0.01\n",
    "fwds = spot * np.exp((rates - div_rate) * times)\n",
    "fwd_data = (\"FORWARDS\", np.column_stack((times, fwds)))\n",
    "\n",
    "dataset = {\n",
    "    \"BASE\": \"USD\",\n",
    "    \"ASSETS\": {\"USD\": discount_data, \"SPX\": fwd_data},\n",
    "}"
   ]
  },
  {
   "cell_type": "markdown",
   "metadata": {},
   "source": [
    "## Calculate Price (Base Model)"
   ]
  },
  {
   "cell_type": "markdown",
   "metadata": {},
   "source": [
    "We can price this option using `FixedModel`, which being a deterministic pricing model, evaluates a price ignoring any volatility."
   ]
  },
  {
   "cell_type": "code",
   "execution_count": null,
   "metadata": {},
   "outputs": [
    {
     "name": "stdout",
     "output_type": "stream",
     "text": [
      "price:  180.934088\n"
     ]
    }
   ],
   "source": [
    "model = FixedModel()\n",
    "price, _ = model.price(timetable, dataset)\n",
    "print(f\"price: {price:11.6f}\")"
   ]
  },
  {
   "cell_type": "markdown",
   "metadata": {},
   "source": [
    "## Calculate Price (Heston)"
   ]
  },
  {
   "cell_type": "markdown",
   "metadata": {},
   "source": [
    "However, we can use `HestonMCModel` to price this contract as well. This model requires HESTON model parameters to be included in the dataset. "
   ]
  },
  {
   "cell_type": "code",
   "execution_count": null,
   "metadata": {},
   "outputs": [
    {
     "name": "stdout",
     "output_type": "stream",
     "text": [
      "price:  311.082452\n"
     ]
    }
   ],
   "source": [
    "heston_dataset = {\n",
    "    \"MC\": {\n",
    "        \"PATHS\": 100_000,\n",
    "        \"TIMESTEP\": 1 / 250,\n",
    "        \"SEED\": 1,\n",
    "    },\n",
    "    \"BASE\": \"USD\",\n",
    "    \"ASSETS\": {\"USD\": discount_data, \"SPX\": fwd_data},\n",
    "    \"HESTON\": {\n",
    "        \"ASSET\": \"SPX\",\n",
    "        \"INITIAL_VAR\": 0.015,\n",
    "        \"LONG_VAR\": 0.052,\n",
    "        \"VOL_OF_VAR\": 0.88,\n",
    "        \"MEANREV\": 2.78,\n",
    "        \"CORRELATION\": -0.85,\n",
    "    }\n",
    "}\n",
    "\n",
    "model = HestonMCModel()\n",
    "price, _ = model.price(timetable, heston_dataset)\n",
    "print(f\"price: {price:11.6f}\")"
   ]
  },
  {
   "cell_type": "markdown",
   "metadata": {},
   "source": [
    "## Pricing Stats\n",
    "The qablet package provides some ways to analyse the behavior of the pricing model. e.g. We can use the `PV_VEC` flag to produce the distribution of prices."
   ]
  },
  {
   "cell_type": "code",
   "execution_count": null,
   "metadata": {},
   "outputs": [
    {
     "name": "stdout",
     "output_type": "stream",
     "text": [
      "price:  311.082452\n",
      "stats: {'PV_VEC': array([607.48375946,   0.        , 299.4767022 , ..., 358.25703408,\n",
      "       429.59386888, 748.61969217])}\n"
     ]
    }
   ],
   "source": [
    "heston_dataset[\"MC\"][\"FLAGS\"] = Stats.PV_VEC\n",
    "\n",
    "model = HestonMCModel()\n",
    "price, stats = model.price(timetable, heston_dataset)\n",
    "print(f\"price: {price:11.6f}\")\n",
    "print(f\"stats: {stats}\")"
   ]
  },
  {
   "cell_type": "markdown",
   "metadata": {},
   "source": [
    "We can use this data to get the standard deviation of the simulation."
   ]
  },
  {
   "cell_type": "code",
   "execution_count": null,
   "metadata": {},
   "outputs": [
    {
     "name": "stdout",
     "output_type": "stream",
     "text": [
      "std = 273.660760\n",
      "max = 1791.325413\n",
      "min = 0.000000\n"
     ]
    }
   ],
   "source": [
    "pv_vec = stats[\"PV_VEC\"]\n",
    "print(f\"std = {pv_vec.std():.6f}\")\n",
    "print(f\"max = {pv_vec.max():.6f}\")\n",
    "print(f\"min = {pv_vec.min():.6f}\")"
   ]
  },
  {
   "cell_type": "markdown",
   "metadata": {},
   "source": [
    "We can use this data to plot the probability density."
   ]
  },
  {
   "cell_type": "code",
   "execution_count": null,
   "metadata": {},
   "outputs": [
    {
     "data": {
      "image/png": "[encoded data removed]",
      "text/plain": [
       "<Figure size 640x480 with 1 Axes>"
      ]
     },
     "metadata": {},
     "output_type": "display_data"
    }
   ],
   "source": [
    "pv_vec = stats[\"PV_VEC\"]\n",
    "plt.hist(pv_vec, bins=100, density=True, histtype=\"step\", log=True)\n",
    "plt.title(\"density plot\") \n",
    "plt.show()"
   ]
  }
 ],
 "metadata": {
  "deepnote_execution_queue": [],
  "deepnote_notebook_id": "eeb6ea73fd60494b82d380ce82e88cd1",
  "deepnote_persisted_session": {
   "createdAt": "2023-12-14T19:45:07.472Z"
  },
  "kernelspec": {
   "display_name": ".venv",
   "language": "python",
   "name": "python3"
  },
  "language_info": {
   "codemirror_mode": {
    "name": "ipython",
    "version": 3
   },
   "file_extension": ".py",
   "mimetype": "text/x-python",
   "name": "python",
   "nbconvert_exporter": "python",
   "pygments_lexer": "ipython3"
  }
 },
 "nbformat": 4,
 "nbformat_minor": 0
}
