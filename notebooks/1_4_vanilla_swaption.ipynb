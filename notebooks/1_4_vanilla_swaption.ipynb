{
 "cells": [
  {
   "cell_type": "markdown",
   "metadata": {},
   "source": [
    "## Swaps and Swaptions\n",
    "\n",
    "Pre-requisites: Notebook 1.1, 1.2\n",
    "\n",
    "In this notebook we will create and price **swaps** and **vanilla swaptions**. In that process we will\n",
    "\n",
    "- use a simple representation for floating payments\n",
    "- use `HWFDModel` (a Finite Difference Hull-White Model)\n",
    "- calculate and plot rho by changing the rates in dataset \n",
    "\n",
    "API documentation:\n",
    "\n",
    "- [Utilities to create swaps and swaptions](https://qablet.github.io/qablet-contracts/examples/rate/)\n",
    "- [Hull White FD model](https://qablet-academy.github.io/intro/models/fd/#hull-white-model)\n",
    "\n",
    "Let us start with the imports."
   ]
  },
  {
   "cell_type": "code",
   "execution_count": 12,
   "metadata": {},
   "outputs": [],
   "source": [
    "from datetime import datetime\n",
    "\n",
    "import matplotlib.pyplot as plt\n",
    "import numpy as np\n",
    "import pandas as pd\n",
    "from qablet.base.fixed import FixedModel\n",
    "from qablet.hullwhite.fd import HWFDModel\n",
    "from qablet_contracts.ir.swap import simple_swap_period"
   ]
  },
  {
   "cell_type": "markdown",
   "metadata": {},
   "source": [
    "## Single Swap Period\n",
    "Before we do that, let us start with a single swap period which pays a fixed rate, and receives a floating rate at the end of the period. e.g.\n",
    "\n",
    "```\n",
    " time quantity\n",
    "  0.5  - fixed_rate * 0.5\n",
    "  0.5  + floating rate * 0.5\n",
    "```\n",
    "\n",
    "Instead of defining a unit that pays based on a floating rate convention (such as LIBOR or SOFR), we will substitute it with an economically equivalent representation, where we receive notional at the beginning of the period, and pay notional at the end of the period. The utility `simple_swap_period` creates such a pair of events. "
   ]
  },
  {
   "cell_type": "code",
   "execution_count": 13,
   "metadata": {},
   "outputs": [
    {
     "name": "stdout",
     "output_type": "stream",
     "text": [
      "  track       time op  quantity unit\n",
      "0       2023-12-31  +     1.000  USD\n",
      "1       2024-06-30  +    -1.015  USD\n"
     ]
    }
   ],
   "source": [
    "events = simple_swap_period(\n",
    "    ccy=\"USD\",\n",
    "    start=datetime(2023, 12, 31),\n",
    "    end=datetime(2024, 6, 30),\n",
    "    fixed_rate=0.03,\n",
    ")\n",
    "\n",
    "timetable = {\"events\": events}\n",
    "print(pd.DataFrame(timetable[\"events\"]))"
   ]
  },
  {
   "cell_type": "markdown",
   "metadata": {},
   "source": [
    "We can price it using a fixed model, and at 2.977% (which is 3% semi-annual converted to continuous rate) we see that the price is zero."
   ]
  },
  {
   "cell_type": "code",
   "execution_count": 14,
   "metadata": {},
   "outputs": [
    {
     "name": "stdout",
     "output_type": "stream",
     "text": [
      "price:   -0.000044\n"
     ]
    }
   ],
   "source": [
    "max_year = 5\n",
    "base_rate = 0.02977\n",
    "dataset = {\n",
    "    \"BASE\": \"USD\",\n",
    "    \"PRICING_TS\": datetime(2023, 12, 31),\n",
    "    \"ASSETS\": {\"USD\": (\"ZERO_RATES\", np.array([[max_year, base_rate]]))},\n",
    "}\n",
    "\n",
    "fixed_model = FixedModel()\n",
    "price, _ = fixed_model.price(timetable, dataset)\n",
    "print(f\"price: {price:11.6f}\")"
   ]
  },
  {
   "cell_type": "markdown",
   "metadata": {},
   "source": [
    "## Vanilla Swap\n",
    "Now we can create a vanilla swap using this building block."
   ]
  },
  {
   "cell_type": "code",
   "execution_count": 15,
   "metadata": {},
   "outputs": [
    {
     "name": "stdout",
     "output_type": "stream",
     "text": [
      "period_dts:\n",
      " DatetimeIndex(['2024-06-30', '2024-12-31', '2025-06-30', '2025-12-31'], dtype='datetime64[ns]', freq='2QE-DEC')\n",
      "TimeTable Events:\n",
      "\n",
      "  track       time op  quantity unit\n",
      "0       2024-06-30  +     1.000  USD\n",
      "1       2024-12-31  +    -1.015  USD\n",
      "2       2024-12-31  +     1.000  USD\n",
      "3       2025-06-30  +    -1.015  USD\n",
      "4       2025-06-30  +     1.000  USD\n",
      "5       2025-12-31  +    -1.015  USD\n"
     ]
    }
   ],
   "source": [
    "def vanilla_swap_timetable(ccy, periods, fixed_rate, track=\"\") -> dict:\n",
    "    \"\"\"create timetable for a vanilla swap.\"\"\"\n",
    "    events = []\n",
    "    # payment events\n",
    "    for start, end in zip(periods[0:-1], periods[1:]):\n",
    "        events.extend(\n",
    "            simple_swap_period(ccy, start, end, fixed_rate, track=track)\n",
    "        )\n",
    "    return {\"events\": events}\n",
    "\n",
    "\n",
    "# swap starts six months from now, mature in two years, pays six monthly.\n",
    "period_dts = pd.bdate_range(\n",
    "    datetime(2024, 6, 30), datetime(2025, 12, 31), freq=\"2QE\", inclusive=\"both\"\n",
    ")\n",
    "print(\"period_dts:\\n\", period_dts)\n",
    "\n",
    "fixed_rate = 0.03\n",
    "swap_timetable = vanilla_swap_timetable(\"USD\", period_dts, fixed_rate, \"\")\n",
    "\n",
    "print(\"TimeTable Events:\\n\")\n",
    "print(pd.DataFrame(swap_timetable[\"events\"]))"
   ]
  },
  {
   "cell_type": "markdown",
   "metadata": {},
   "source": [
    "We can price this swap with different shocks to the interest rate curve."
   ]
  },
  {
   "cell_type": "code",
   "execution_count": 16,
   "metadata": {},
   "outputs": [
    {
     "name": "stdout",
     "output_type": "stream",
     "text": [
      "shock -2bps  price:  -0.000184\n",
      "shock -1bps  price:  -0.000038\n",
      "shock  0bps  price:   0.000108\n",
      "shock  1bps  price:   0.000254\n",
      "shock  2bps  price:   0.000400\n"
     ]
    }
   ],
   "source": [
    "for shock in range(-2, 3):\n",
    "    dataset[\"ASSETS\"][\"USD\"] = (\n",
    "        \"ZERO_RATES\",\n",
    "        np.array([[max_year, base_rate + shock * 0.0001]]),\n",
    "    )\n",
    "    price, _ = fixed_model.price(swap_timetable, dataset)\n",
    "    print(f\"shock {shock:-2d}bps  price: {price:10.6f}\")"
   ]
  },
  {
   "cell_type": "markdown",
   "metadata": {},
   "source": [
    "## A Vanilla Swaption\n",
    "A Vanilla Swaption is similar to the swap, with a choice in the beginning to enter the swap or not. This can be done using a **>** operation to end the contract with 0 payment, or continue."
   ]
  },
  {
   "cell_type": "code",
   "execution_count": 17,
   "metadata": {},
   "outputs": [
    {
     "name": "stdout",
     "output_type": "stream",
     "text": [
      "  track       time op  quantity unit\n",
      "0       2024-06-30  >     0.000  USD\n",
      "1       2024-06-30  +     1.000  USD\n",
      "2       2024-12-31  +    -1.015  USD\n",
      "3       2024-12-31  +     1.000  USD\n",
      "4       2025-06-30  +    -1.015  USD\n",
      "5       2025-06-30  +     1.000  USD\n",
      "6       2025-12-31  +    -1.015  USD\n"
     ]
    }
   ],
   "source": [
    "def swaption_timetable(ccy, periods, strike_rate, track=\"\") -> dict:\n",
    "    # expiration event at beginning\n",
    "    events = [\n",
    "        {\n",
    "            \"track\": track,\n",
    "            \"time\": periods[0],\n",
    "            \"op\": \">\",\n",
    "            \"quantity\": 0,\n",
    "            \"unit\": \"USD\",\n",
    "        }\n",
    "    ]\n",
    "    # payment events\n",
    "    for start, end in zip(periods[0:-1], periods[1:]):\n",
    "        events.extend(\n",
    "            simple_swap_period(ccy, start, end, strike_rate, track=track)\n",
    "        )\n",
    "    return {\"events\": events}\n",
    "\n",
    "\n",
    "swo_timetable = swaption_timetable(\"USD\", period_dts, strike_rate=fixed_rate)\n",
    "print(pd.DataFrame(swo_timetable[\"events\"]))"
   ]
  },
  {
   "cell_type": "markdown",
   "metadata": {},
   "source": [
    "We will price it with a Hull-White Finite-Difference model, which requires a mean reversion and volatility parameter in the dataset. For details of the model parameters see [Hull White FD model](https://qablet-academy.github.io/intro/models/fd/#hull-white-model).\n"
   ]
  },
  {
   "cell_type": "code",
   "execution_count": 18,
   "metadata": {},
   "outputs": [
    {
     "name": "stdout",
     "output_type": "stream",
     "text": [
      "price:    0.011228\n"
     ]
    }
   ],
   "source": [
    "hwfd_dataset = {\n",
    "    \"BASE\": \"USD\",\n",
    "    \"PRICING_TS\": datetime(2023, 12, 31),\n",
    "    \"ASSETS\": {\"USD\": (\"ZERO_RATES\", np.array([[max_year, base_rate]]))},\n",
    "    \"FD\": {\n",
    "        \"TIMESTEP\": 1 / 500,\n",
    "        \"MAX_X\": 0.10,\n",
    "        \"N_X\": 1000,\n",
    "    },\n",
    "    \"HW\": {\n",
    "        \"MEANREV\": 0.1,\n",
    "        \"VOL\": 0.03,\n",
    "    },\n",
    "}\n",
    "\n",
    "hw_model = HWFDModel()\n",
    "price, _ = hw_model.price(swo_timetable, hwfd_dataset)\n",
    "print(f\"price: {price:11.6f}\")"
   ]
  },
  {
   "cell_type": "markdown",
   "metadata": {},
   "source": [
    "Let's change the vols."
   ]
  },
  {
   "cell_type": "code",
   "execution_count": 19,
   "metadata": {},
   "outputs": [
    {
     "name": "stdout",
     "output_type": "stream",
     "text": [
      "vol:   0.00 price:    0.000108\n",
      "vol:   0.01 price:    0.003779\n",
      "vol:   0.02 price:    0.007504\n",
      "vol:   0.03 price:    0.011228\n",
      "vol:   0.04 price:    0.014957\n",
      "vol:   0.05 price:    0.018705\n"
     ]
    }
   ],
   "source": [
    "for vol in np.linspace(0.0, 0.05, 6):\n",
    "    hwfd_dataset[\"HW\"][\"VOL\"] = vol\n",
    "    price, _ = hw_model.price(swo_timetable, hwfd_dataset)\n",
    "    print(f\"vol: {vol:6.2f} price: {price:11.6f}\")"
   ]
  },
  {
   "cell_type": "markdown",
   "metadata": {},
   "source": [
    "### Rho and Convexity\n",
    "We will now calculate prices and rho for swaps and swaptions, and examine the convexity."
   ]
  },
  {
   "cell_type": "code",
   "execution_count": 20,
   "metadata": {},
   "outputs": [
    {
     "name": "stdout",
     "output_type": "stream",
     "text": [
      "    rate    swap  swaption  swap_rho  swaption_rho  swap_cvx  swaption_cvx\n",
      "0 0.0000 -0.0450    0.0008    1.5716        0.0912   -3.8689        9.2332\n",
      "1 0.0100 -0.0295    0.0023    1.5333        0.2250   -3.7889       18.6508\n",
      "2 0.0200 -0.0143    0.0056    1.4959        0.4462   -3.7104       25.7929\n",
      "3 0.0300  0.0004    0.0114    1.4591        0.7249   -3.6336       28.5314\n",
      "4 0.0400  0.0149    0.0200    1.4232        0.9906   -3.5582       23.8775\n",
      "5 0.0500  0.0289    0.0309    1.3880        1.1791   -3.4844       13.8591\n",
      "6 0.0600  0.0426    0.0433    1.3535        1.2724   -3.4120        5.1416\n"
     ]
    }
   ],
   "source": [
    "hwfd_dataset[\"HW\"][\"VOL\"] = 0.03  # reset vol\n",
    "shock = 0.0001\n",
    "data = []\n",
    "for rate in np.linspace(0.0, 0.06, 7):  # 0 to 6% in 1% increments\n",
    "    # Calculate the swap and swaption prices\n",
    "    hwfd_dataset[\"ASSETS\"][\"USD\"] = (\n",
    "        \"ZERO_RATES\",\n",
    "        np.array([[max_year, rate]]),\n",
    "    )\n",
    "    swap_price, _ = hw_model.price(swap_timetable, hwfd_dataset)\n",
    "    swo_price, _ = hw_model.price(swo_timetable, hwfd_dataset)\n",
    "\n",
    "    # Calculate the swap and swaption prices with a rate shock\n",
    "    hwfd_dataset[\"ASSETS\"][\"USD\"] = (\n",
    "        \"ZERO_RATES\",\n",
    "        np.array([[max_year, rate + shock]]),\n",
    "    )\n",
    "    swap_up, _ = hw_model.price(swap_timetable, hwfd_dataset)\n",
    "    swo_up, _ = hw_model.price(swo_timetable, hwfd_dataset)\n",
    "\n",
    "    hwfd_dataset[\"ASSETS\"][\"USD\"] = (\n",
    "        \"ZERO_RATES\",\n",
    "        np.array([[max_year, rate - shock]]),\n",
    "    )\n",
    "    swap_dn, _ = hw_model.price(swap_timetable, hwfd_dataset)\n",
    "    swo_dn, _ = hw_model.price(swo_timetable, hwfd_dataset)\n",
    "\n",
    "    # Add price, rho, and convexity to the data list\n",
    "    data.append(\n",
    "        [\n",
    "            rate,\n",
    "            swap_price,\n",
    "            swo_price,\n",
    "            (swap_up - swap_dn) / (2 * shock),\n",
    "            (swo_up - swo_dn) / (2 * shock),\n",
    "            (swap_up + swap_dn - 2 * swap_price) / (shock * shock),\n",
    "            (swo_up + swo_dn - 2 * swo_price) / (shock * shock),\n",
    "        ]\n",
    "    )\n",
    "\n",
    "pd.options.display.float_format = \"{:,.4f}\".format\n",
    "df = pd.DataFrame(\n",
    "    data,\n",
    "    columns=[\n",
    "        \"rate\",\n",
    "        \"swap\",\n",
    "        \"swaption\",\n",
    "        \"swap_rho\",\n",
    "        \"swaption_rho\",\n",
    "        \"swap_cvx\",\n",
    "        \"swaption_cvx\",\n",
    "    ],\n",
    ")\n",
    "print(df)"
   ]
  },
  {
   "cell_type": "markdown",
   "metadata": {},
   "source": [
    "### Plot."
   ]
  },
  {
   "cell_type": "code",
   "execution_count": 21,
   "metadata": {},
   "outputs": [
    {
     "data": {
      "text/plain": [
       "<matplotlib.legend.Legend at 0x1d635a6f550>"
      ]
     },
     "execution_count": 21,
     "metadata": {},
     "output_type": "execute_result"
    },
    {
     "data": {
      "image/png": "[encoded data removed]",
      "text/plain": [
       "<Figure size 640x480 with 3 Axes>"
      ]
     },
     "metadata": {},
     "output_type": "display_data"
    }
   ],
   "source": [
    "fig, [ax1, ax2, ax3] = plt.subplots(3)\n",
    "ax1.plot(df[\"rate\"], df[\"swap\"], label=\"Swap\")\n",
    "ax1.plot(df[\"rate\"], df[\"swaption\"], label=\"Swaption\")\n",
    "\n",
    "ax2.plot(df[\"rate\"], df[\"swap_rho\"], label=\"Swap\")\n",
    "ax2.plot(df[\"rate\"], df[\"swaption_rho\"], label=\"Swaption\")\n",
    "\n",
    "ax3.plot(df[\"rate\"], df[\"swap_cvx\"], label=\"Swap\")\n",
    "ax3.plot(df[\"rate\"], df[\"swaption_cvx\"], label=\"Swaption\")\n",
    "\n",
    "ax1.set_ylabel(\"Price\")\n",
    "ax2.set_ylabel(\"Rho\")\n",
    "ax3.set_ylabel(\"Convexity\")\n",
    "\n",
    "ax3.set_xlabel(\"Flat Rate\")\n",
    "\n",
    "ax1.legend()\n",
    "ax2.legend()\n",
    "ax3.legend()"
   ]
  },
  {
   "cell_type": "markdown",
   "metadata": {},
   "source": [
    "## Suggested Exercises\n",
    "\n",
    "- Create and price a callable bond.\n",
    "- Create and price a bond future with cheapest to deliver option."
   ]
  },
  {
   "cell_type": "markdown",
   "metadata": {},
   "source": [
    "Next: [Bermuda Swaption](1_5_bermuda_swaption.ipynb)"
   ]
  }
 ],
 "metadata": {
  "deepnote_execution_queue": [],
  "deepnote_notebook_id": "d24154df9e274273a4e6dc9d3e44939a",
  "deepnote_persisted_session": {
   "createdAt": "2023-12-14T13:45:34.705Z"
  },
  "kernelspec": {
   "display_name": ".venv",
   "language": "python",
   "name": "python3"
  },
  "language_info": {
   "codemirror_mode": {
    "name": "ipython",
    "version": 3
   },
   "file_extension": ".py",
   "mimetype": "text/x-python",
   "name": "python",
   "nbconvert_exporter": "python",
   "pygments_lexer": "ipython3",
   "version": "3.11.9"
  }
 },
 "nbformat": 4,
 "nbformat_minor": 0
}
