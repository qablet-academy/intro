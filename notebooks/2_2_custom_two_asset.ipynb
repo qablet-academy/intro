{
 "cells": [
  {
   "cell_type": "markdown",
   "metadata": {},
   "source": [
    "# A two asset Monte Carlo\n",
    "\n",
    "Pre-requisites: Notebook 1.1, 1.2, 2.1\n",
    "\n",
    "In this notebook we will modify our custom MC Model to handle two assets, with different volatilities, and a flat correlation.\n",
    "\n",
    "Let us start with the imports."
   ]
  },
  {
   "cell_type": "code",
   "execution_count": null,
   "metadata": {},
   "outputs": [],
   "source": [
    "import numpy as np\n",
    "from math import sqrt\n",
    "from qablet.base.mc import MCModel, MCStateBase  # The two base classes we need for our custom model\n",
    "from numpy.random import Generator, SFC64\n",
    "from qablet.base.utils import Forwards\n",
    "from qablet_contracts.equity.vanilla import option_timetable\n",
    "from qablet_contracts.timetable import timetable_from_dicts"
   ]
  },
  {
   "cell_type": "markdown",
   "metadata": {},
   "source": [
    "State class for a two asset Black-Scholes model. In the dataset it expects a component `BS2` to contain the model parameters:\n",
    " - `ASSET1` and `ASSET2`: the name of the assets\n",
    " - `VOL1` and `VOL2`: the volatilities\n",
    " - `CORR`: the correlation between the two assets"
   ]
  },
  {
   "cell_type": "code",
   "execution_count": null,
   "metadata": {},
   "outputs": [],
   "source": [
    "# Monte Carlo Pricer for BS (flat vol) Model with two assets\n",
    "\n",
    "# Define a class for the state of a two asset BS MC process\n",
    "class BS2State(MCStateBase):\n",
    "    def __init__(self, timetable, dataset):\n",
    "\n",
    "        super().__init__(timetable, dataset)\n",
    "\n",
    "        # fetch the model parameters from the dataset\n",
    "        modeldata = dataset[\"BS2\"]\n",
    "        self.asset1 = modeldata[\"ASSET1\"]\n",
    "        self.asset_fwd1 = Forwards(dataset[\"ASSETS\"][self.asset1])\n",
    "        self.spot1 = self.asset_fwd1.forward(0)\n",
    "        self.vol1 = modeldata[\"VOL1\"]\n",
    "\n",
    "        self.asset2 = modeldata[\"ASSET2\"]\n",
    "        self.asset_fwd2 = Forwards(dataset[\"ASSETS\"][self.asset2])\n",
    "        self.spot2 = self.asset_fwd2.forward(0)\n",
    "        self.vol2 = modeldata[\"VOL2\"]\n",
    "\n",
    "        self.corr = modeldata[\"CORR\"]\n",
    "        self.corr_sup = sqrt(1 - self.corr * self.corr)\n",
    "\n",
    "        # Initialize the arrays\n",
    "        self.n = dataset[\"MC\"][\"PATHS\"]\n",
    "        self.rng = Generator(SFC64(dataset[\"MC\"][\"SEED\"]))\n",
    "        self.x1_vec = np.zeros(self.n)  # process x1 (log stock)\n",
    "        self.x2_vec = np.zeros(self.n)  # process x2 (log stock)\n",
    "\n",
    "        self.cur_time = 0\n",
    "\n",
    "    def advance(self, new_time):\n",
    "        \"\"\"Update x_vec in place when we move simulation by time dt.\"\"\"\n",
    "\n",
    "        dt = new_time - self.cur_time\n",
    "        if dt < 1e-10:\n",
    "            return\n",
    "\n",
    "\n",
    "        drift1 = self.asset_fwd1.rate(new_time, self.cur_time)\n",
    "        drift2 = self.asset_fwd2.rate(new_time, self.cur_time)\n",
    "\n",
    "        # generate the random numbers and advance the log stock process\n",
    "        dz1_vec = self.rng.standard_normal(self.n)\n",
    "        dz2_vec = self.rng.standard_normal(self.n) * self.corr_sup + self.corr * dz1_vec\n",
    "\n",
    "        self.x1_vec += (drift1 - self.vol1 * self.vol1 / 2.0) * dt\n",
    "        self.x1_vec += dz1_vec * sqrt(dt) * self.vol1\n",
    "\n",
    "        self.x2_vec += (drift2 - self.vol2 * self.vol2 / 2.0) * dt\n",
    "        self.x2_vec += dz2_vec * sqrt(dt) * self.vol2\n",
    "\n",
    "        self.cur_time = new_time\n",
    "\n",
    "    def get_value(self, unit):\n",
    "        \"\"\"Return the value of the unit at the current time.\n",
    "        This model uses black scholes model for one asset, return its value using the simulated array.\n",
    "        For any other asset that may exist in the timetable, just return the default implementation in\n",
    "        the model base (i.e. simply return the forwards).\"\"\"\n",
    "\n",
    "        if unit == self.asset1:\n",
    "            return self.spot1 * np.exp(self.x1_vec)\n",
    "        elif unit == self.asset2:\n",
    "            return self.spot2 * np.exp(self.x2_vec)\n",
    "        else:\n",
    "            return None\n"
   ]
  },
  {
   "cell_type": "code",
   "execution_count": null,
   "metadata": {},
   "outputs": [],
   "source": [
    "class BS2Model(MCModel):\n",
    "\n",
    "    def state_class(self):\n",
    "        return BS2State"
   ]
  },
  {
   "cell_type": "markdown",
   "metadata": {},
   "source": [
    "Sample market parameters"
   ]
  },
  {
   "cell_type": "code",
   "execution_count": null,
   "metadata": {},
   "outputs": [],
   "source": [
    "times = np.array([0.0, 5.0])\n",
    "rates = np.array([0.04, 0.04])\n",
    "discount_data = (\"ZERO_RATES\", np.column_stack((times, rates)))\n",
    "\n",
    "spot = 2900\n",
    "div_rate = 0.01\n",
    "fwds = 2900 * np.exp((rates - div_rate) * times)\n",
    "spx_data = (\"FORWARDS\", np.column_stack((times, fwds)))\n",
    "rut_data = (\"FORWARDS\", np.column_stack((times, 0.5 * fwds)))  # let's say rut is half of spx\n",
    "\n",
    "dataset = {\n",
    "    \"MC\": {\n",
    "        \"PATHS\": 100_000,\n",
    "        \"TIMESTEP\": 1 / 250,\n",
    "        \"SEED\": 1,\n",
    "        \"RETURN_PV_VEC\": True\n",
    "    },\n",
    "    \"BASE\": \"USD\",\n",
    "    \"ASSETS\": {\"USD\": discount_data, \"SPX\": spx_data, \"RUT\": rut_data},\n",
    "    \"BS2\": {\n",
    "        \"ASSET1\": \"SPX\",\n",
    "        \"VOL1\": 0.175,\n",
    "        \"ASSET2\": \"RUT\",\n",
    "        \"VOL2\": 0.175,\n",
    "        \"CORR\": 1.0\n",
    "    }\n",
    "}\n"
   ]
  },
  {
   "cell_type": "markdown",
   "metadata": {},
   "source": []
  },
  {
   "cell_type": "markdown",
   "metadata": {},
   "source": []
  },
  {
   "cell_type": "code",
   "execution_count": null,
   "metadata": {},
   "outputs": [
    {
     "name": "stdout",
     "output_type": "stream",
     "text": [
      "  track  time op  quantity unit\n",
      "0         1.0  >       0.0  USD\n",
      "1         1.0  +   -2800.0  USD\n",
      "2         1.0  +       1.0  SPX\n"
     ]
    }
   ],
   "source": [
    "strike = 2800\n",
    "timetable = option_timetable(\"USD\", \"SPX\", strike=strike, maturity=1.0, is_call=True)\n",
    "print(timetable[\"events\"].to_pandas())"
   ]
  },
  {
   "cell_type": "code",
   "execution_count": null,
   "metadata": {},
   "outputs": [
    {
     "name": "stdout",
     "output_type": "stream",
     "text": [
      "price:  296.131604\n"
     ]
    }
   ],
   "source": [
    "model = BS2Model()\n",
    "price, stats = model.price(timetable, dataset)\n",
    "print(f\"price: {price:11.6f}\")"
   ]
  },
  {
   "cell_type": "markdown",
   "metadata": {},
   "source": [
    "A Contract that pays the best of SPX or RUT."
   ]
  },
  {
   "cell_type": "code",
   "execution_count": null,
   "metadata": {},
   "outputs": [
    {
     "name": "stdout",
     "output_type": "stream",
     "text": [
      "  track  time op  quantity unit\n",
      "0         1.0  >       0.0  USD\n",
      "1         1.0  +   -2800.0  USD\n",
      "2         1.0  >       1.0  SPX\n",
      "3         1.0  +       2.0  RUT\n"
     ]
    }
   ],
   "source": [
    "events = [\n",
    "    {\n",
    "        \"track\": \"\",\n",
    "        \"time\": 1.0,\n",
    "        \"op\": \">\",\n",
    "        \"quantity\": 0,\n",
    "        \"unit\": \"USD\",\n",
    "    },\n",
    "    {\n",
    "        \"track\": \"\",\n",
    "        \"time\": 1.0,\n",
    "        \"op\": \"+\",\n",
    "        \"quantity\": -2800.0,\n",
    "        \"unit\": \"USD\",\n",
    "    },\n",
    "    {\n",
    "        \"track\": \"\",\n",
    "        \"time\": 1.0,\n",
    "        \"op\": \">\",\n",
    "        \"quantity\": 1,\n",
    "        \"unit\": \"SPX\",\n",
    "    },\n",
    "    {\n",
    "        \"track\": \"\",\n",
    "        \"time\": 1.0,\n",
    "        \"op\": \"+\",\n",
    "        \"quantity\": 2,  # as RUT is half the value\n",
    "        \"unit\": \"RUT\",\n",
    "    },\n",
    "]\n",
    "rainbow_timetable = timetable_from_dicts(events)\n",
    "print(rainbow_timetable[\"events\"].to_pandas())"
   ]
  },
  {
   "cell_type": "code",
   "execution_count": null,
   "metadata": {},
   "outputs": [
    {
     "name": "stdout",
     "output_type": "stream",
     "text": [
      "corr:   -1.0     price:  580.599907\n",
      "corr:   -0.5     price:  535.841455\n",
      "corr:    0.0     price:  489.638849\n",
      "corr:    0.5     price:  431.710739\n",
      "corr:    1.0     price:  296.131604\n"
     ]
    }
   ],
   "source": [
    "for corr in np.linspace(-1.0, 1.0, 5):\n",
    "    dataset[\"BS2\"][\"CORR\"] = corr\n",
    "    price, stats = model.price(rainbow_timetable, dataset)\n",
    "    print(f\"corr: {corr:6.1f}     price: {price:11.6f}\")"
   ]
  },
  {
   "cell_type": "markdown",
   "metadata": {},
   "source": [
    "As expected, the 100% correlation matches the SPX only vanilla option. Otherwise, the option is worth higher as the correlation gets lower."
   ]
  }
 ],
 "metadata": {
  "deepnote_execution_queue": [],
  "deepnote_notebook_id": "928894d13fd543289d511f43de0826a9",
  "kernelspec": {
   "display_name": ".venv",
   "language": "python",
   "name": "python3"
  },
  "language_info": {
   "codemirror_mode": {
    "name": "ipython",
    "version": 3
   },
   "file_extension": ".py",
   "mimetype": "text/x-python",
   "name": "python",
   "nbconvert_exporter": "python",
   "pygments_lexer": "ipython3"
  }
 },
 "nbformat": 4,
 "nbformat_minor": 0
}
