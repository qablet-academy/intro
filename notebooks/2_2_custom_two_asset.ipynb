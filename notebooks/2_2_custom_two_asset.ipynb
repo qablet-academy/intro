{
 "cells": [
  {
   "cell_type": "markdown",
   "metadata": {},
   "source": [
    "# A two asset Monte Carlo\n",
    "\n",
    "Pre-requisites: Notebook 1.1, 1.2, 2.1\n",
    "\n",
    "In this notebook we will modify our custom MC Model to handle two assets, with different volatilities, and a flat correlation.\n",
    "\n",
    "Let us start with the imports."
   ]
  },
  {
   "cell_type": "code",
   "execution_count": 1,
   "metadata": {},
   "outputs": [],
   "source": [
    "from datetime import datetime\n",
    "from math import sqrt\n",
    "\n",
    "import numpy as np\n",
    "from finmc.models.base import MCFixedStep\n",
    "from finmc.utils.assets import Discounter, Forwards\n",
    "\n",
    "# The two base classes we need for our custom model\n",
    "from numpy.random import SFC64, Generator\n",
    "from qablet.base.mc import MCPricer\n",
    "from qablet_contracts.eq.rainbow import Rainbow\n",
    "from qablet_contracts.eq.vanilla import Option"
   ]
  },
  {
   "cell_type": "markdown",
   "metadata": {},
   "source": [
    "A two asset Black-Scholes model. In the dataset it expects a component `BS2` to contain the model parameters:\n",
    " - `ASSET1` and `ASSET2`: the name of the assets\n",
    " - `VOL1` and `VOL2`: the volatilities\n",
    " - `CORR`: the correlation between the two assets"
   ]
  },
  {
   "cell_type": "code",
   "execution_count": 2,
   "metadata": {},
   "outputs": [],
   "source": [
    "# Monte Carlo Pricer for BS (flat vol) Model with two assets\n",
    "\n",
    "# Define a class for the state of a two asset BS MC process\n",
    "class BS2MC(MCFixedStep):\n",
    "    def reset(self):\n",
    "        \"\"\"Fetch the model parameters from the dataset.\"\"\"\n",
    "        modeldata = self.dataset[\"BS2\"]\n",
    "        self.asset1 = modeldata[\"ASSET1\"]\n",
    "        self.asset_fwd1 = Forwards(self.dataset[\"ASSETS\"][self.asset1])\n",
    "        self.spot1 = self.asset_fwd1.forward(0)\n",
    "        self.vol1 = modeldata[\"VOL1\"]\n",
    "        self.discounter = Discounter(\n",
    "            self.dataset[\"ASSETS\"][self.dataset[\"BASE\"]]\n",
    "        )\n",
    "\n",
    "        self.asset2 = modeldata[\"ASSET2\"]\n",
    "        self.asset_fwd2 = Forwards(self.dataset[\"ASSETS\"][self.asset2])\n",
    "        self.spot2 = self.asset_fwd2.forward(0)\n",
    "        self.vol2 = modeldata[\"VOL2\"]\n",
    "\n",
    "        self.corr = modeldata[\"CORR\"]\n",
    "        self.corr_sup = sqrt(1 - self.corr * self.corr)\n",
    "\n",
    "        # Initialize the arrays\n",
    "        self.n = self.dataset[\"MC\"][\"PATHS\"]\n",
    "        self.timestep = self.dataset[\"MC\"][\"TIMESTEP\"]\n",
    "        self.rng = Generator(SFC64(self.dataset[\"MC\"][\"SEED\"]))\n",
    "        self.x1_vec = np.zeros(self.n)  # process x1 (log stock)\n",
    "        self.x2_vec = np.zeros(self.n)  # process x2 (log stock)\n",
    "\n",
    "        self.cur_time = 0\n",
    "\n",
    "    def step(self, new_time):\n",
    "        \"\"\"Update x_vec in place when we move simulation by time dt.\"\"\"\n",
    "\n",
    "        dt = new_time - self.cur_time\n",
    "\n",
    "        drift1 = self.asset_fwd1.rate(new_time, self.cur_time)\n",
    "        drift2 = self.asset_fwd2.rate(new_time, self.cur_time)\n",
    "\n",
    "        # generate the random numbers and advance the log stock process\n",
    "        dz1_vec = self.rng.standard_normal(self.n)\n",
    "        dz2_vec = (\n",
    "            self.rng.standard_normal(self.n) * self.corr_sup\n",
    "            + self.corr * dz1_vec\n",
    "        )\n",
    "\n",
    "        self.x1_vec += (drift1 - self.vol1 * self.vol1 / 2.0) * dt\n",
    "        self.x1_vec += dz1_vec * sqrt(dt) * self.vol1\n",
    "\n",
    "        self.x2_vec += (drift2 - self.vol2 * self.vol2 / 2.0) * dt\n",
    "        self.x2_vec += dz2_vec * sqrt(dt) * self.vol2\n",
    "\n",
    "        self.cur_time = new_time\n",
    "\n",
    "    def get_value(self, unit):\n",
    "        \"\"\"Return the value of the unit at the current time.\"\"\"\n",
    "        if unit == self.asset1:\n",
    "            return self.spot1 * np.exp(self.x1_vec)\n",
    "        elif unit == self.asset2:\n",
    "            return self.spot2 * np.exp(self.x2_vec)\n",
    "\n",
    "    def get_df(self):\n",
    "        \"\"\"Return the discount factor at the current time.\"\"\"\n",
    "        return self.discounter.discount(self.cur_time)"
   ]
  },
  {
   "cell_type": "markdown",
   "metadata": {},
   "source": [
    "Sample market parameters"
   ]
  },
  {
   "cell_type": "code",
   "execution_count": 3,
   "metadata": {},
   "outputs": [],
   "source": [
    "times = np.array([0.0, 5.0])\n",
    "rates = np.array([0.04, 0.04])\n",
    "discount_data = (\"ZERO_RATES\", np.column_stack((times, rates)))\n",
    "\n",
    "div_rate = 0.01\n",
    "fwds_factor = np.exp((rates - div_rate) * times)\n",
    "spx_data = (\"FORWARDS\", np.column_stack((times, 2800 * fwds_factor)))\n",
    "rut_data = (\"FORWARDS\", np.column_stack((times, 1400 * fwds_factor)))\n",
    "\n",
    "dataset = {\n",
    "    \"BASE\": \"USD\",\n",
    "    \"PRICING_TS\": datetime(2023, 12, 31),\n",
    "    \"ASSETS\": {\"USD\": discount_data, \"SPX\": spx_data, \"RUT\": rut_data},\n",
    "    \"MC\": {\n",
    "        \"PATHS\": 100_000,\n",
    "        \"TIMESTEP\": 100,\n",
    "        \"SEED\": 1,\n",
    "        \"RETURN_PV_VEC\": True,\n",
    "    },\n",
    "    \"BS2\": {\n",
    "        \"ASSET1\": \"SPX\",\n",
    "        \"VOL1\": 0.175,\n",
    "        \"ASSET2\": \"RUT\",\n",
    "        \"VOL2\": 0.175,\n",
    "        \"CORR\": 1.0,\n",
    "    },\n",
    "}"
   ]
  },
  {
   "cell_type": "markdown",
   "metadata": {},
   "source": [
    "Notes:\n",
    "- TIMESTEP. In Black Scholes equation the timestep need not be small. Therefore we can make it arbitrarily large (100 years here). The Monte Carlo model will only step through the event times."
   ]
  },
  {
   "cell_type": "code",
   "execution_count": 4,
   "metadata": {},
   "outputs": [
    {
     "name": "stdout",
     "output_type": "stream",
     "text": [
      "                       time op  quantity unit track\n",
      "0 2024-12-31 00:00:00+00:00  >       0.0  USD      \n",
      "1 2024-12-31 00:00:00+00:00  +   -2800.0  USD      \n",
      "2 2024-12-31 00:00:00+00:00  +       1.0  SPX      \n"
     ]
    }
   ],
   "source": [
    "strike = 2800\n",
    "timetable = Option(\n",
    "    \"USD\", \"SPX\", strike=strike, maturity=datetime(2024, 12, 31), is_call=True\n",
    ").timetable()\n",
    "print(timetable[\"events\"].to_pandas())"
   ]
  },
  {
   "cell_type": "code",
   "execution_count": 5,
   "metadata": {},
   "outputs": [
    {
     "name": "stdout",
     "output_type": "stream",
     "text": [
      "price:  234.112063\n"
     ]
    }
   ],
   "source": [
    "model = MCPricer(BS2MC)\n",
    "price, stats = model.price(timetable, dataset)\n",
    "print(f\"price: {price:11.6f}\")"
   ]
  },
  {
   "cell_type": "markdown",
   "metadata": {},
   "source": [
    "A Contract that pays the best of SPX or RUT."
   ]
  },
  {
   "cell_type": "code",
   "execution_count": 6,
   "metadata": {},
   "outputs": [
    {
     "name": "stdout",
     "output_type": "stream",
     "text": [
      "                       time op  quantity unit track\n",
      "0 2024-12-31 00:00:00+00:00  +   -2800.0  USD      \n",
      "1 2024-12-31 00:00:00+00:00  >       1.0  SPX      \n",
      "2 2024-12-31 00:00:00+00:00  >       2.0  RUT      \n",
      "3 2024-12-31 00:00:00+00:00  +    2800.0  USD      \n"
     ]
    }
   ],
   "source": [
    "rainbow_timetable = Rainbow(\n",
    "    \"USD\",\n",
    "    asset_names=[\"SPX\", \"RUT\"],\n",
    "    strikes=[2800, 1400],\n",
    "    notional=2800,\n",
    "    maturity=datetime(2024, 12, 31),\n",
    "    is_call=True,\n",
    ").timetable()\n",
    "print(rainbow_timetable[\"events\"].to_pandas())"
   ]
  },
  {
   "cell_type": "markdown",
   "metadata": {},
   "source": [
    "We will price this contract with different levels of correlation."
   ]
  },
  {
   "cell_type": "code",
   "execution_count": 7,
   "metadata": {},
   "outputs": [
    {
     "name": "stdout",
     "output_type": "stream",
     "text": [
      "corr:   -1.0     price:  469.158764\n",
      "corr:   -0.5     price:  434.486324\n",
      "corr:    0.0     price:  397.914171\n",
      "corr:    0.5     price:  350.424060\n",
      "corr:    1.0     price:  234.112063\n"
     ]
    }
   ],
   "source": [
    "for corr in np.linspace(-1.0, 1.0, 5):\n",
    "    dataset[\"BS2\"][\"CORR\"] = corr\n",
    "    price, stats = model.price(rainbow_timetable, dataset)\n",
    "    print(f\"corr: {corr:6.1f}     price: {price:11.6f}\")"
   ]
  },
  {
   "cell_type": "markdown",
   "metadata": {},
   "source": [
    "As expected, the 100% correlation matches the SPX only vanilla option. Otherwise, the option is worth higher as the correlation gets lower."
   ]
  },
  {
   "cell_type": "markdown",
   "metadata": {},
   "source": [
    "## Suggested Exercises\n",
    "\n",
    "- Generalize the model to accept $N$ assets, and an $NXN$ covariance matrix."
   ]
  },
  {
   "cell_type": "markdown",
   "metadata": {},
   "source": [
    "## See other Qablet Projects\n",
    "\n",
    "- [Qatwalk](https://github.com/qatwalk/eq)\n",
    "- [Qablet Plotly Dash App](https://github.com/qablet-academy/apps-dash)\n",
    "- [Heston Almost Exact](https://github.com/qablet-academy/heston_aes)"
   ]
  }
 ],
 "metadata": {
  "deepnote_execution_queue": [],
  "deepnote_notebook_id": "928894d13fd543289d511f43de0826a9",
  "kernelspec": {
   "display_name": ".venv",
   "language": "python",
   "name": "python3"
  },
  "language_info": {
   "codemirror_mode": {
    "name": "ipython",
    "version": 3
   },
   "file_extension": ".py",
   "mimetype": "text/x-python",
   "name": "python",
   "nbconvert_exporter": "python",
   "pygments_lexer": "ipython3",
   "version": "3.11.9"
  }
 },
 "nbformat": 4,
 "nbformat_minor": 0
}
