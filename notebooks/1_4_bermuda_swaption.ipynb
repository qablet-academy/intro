{
 "cells": [
  {
   "cell_type": "markdown",
   "metadata": {},
   "source": [
    "## Swaps and Swaptions\n",
    "\n",
    "Pre-requisites: Notebook 1.1, 1.2\n",
    "\n",
    "In this notebook we will create and price **swaps**, **vanilla swaptions**, and **bermuda swaptions**. In that process we will\n",
    "\n",
    "- use a contract with multiple **tracks**\n",
    "- option to switch from one track to another\n",
    "- use `HWFDModel` (a Finite Difference Hull-White Model)\n",
    "\n",
    "API documentation:\n",
    "\n",
    "- [Utilities to create swaps and swaptions](https://qablet.github.io/qablet-contracts/examples/rate/)\n",
    "- [Hull White FD model](https://qablet-academy.github.io/intro/models/fd/#hull-white-model)\n",
    "\n",
    "Let us start with the imports."
   ]
  },
  {
   "cell_type": "code",
   "execution_count": null,
   "metadata": {},
   "outputs": [],
   "source": [
    "import numpy as np\n",
    "from qablet_contracts.timetable import timetable_from_dicts\n",
    "from qablet_contracts.rate.swaption import simple_swap_period, bermuda_swaption_timetable\n",
    "from qablet.hullwhite.fd import HWFDModel\n",
    "from qablet.base.fixed import FixedModel"
   ]
  },
  {
   "cell_type": "markdown",
   "metadata": {},
   "source": [
    "## Single Swap Period\n",
    "Before we do that, let us start with a single swap period which pays a fixed rate, and receives a floating rate at the end of the period. e.g.\n",
    "\n",
    "```\n",
    " time quantity\n",
    "  0.5  - fixed_rate * 0.5\n",
    "  0.5  + floating rate * 0.5\n",
    "```\n",
    "\n",
    "Instead of defining a unit that pays based on a floating rate convention (such as LIBOR or SOFR), we will substitute it with an economically equivalent representation, where we receive notional at the beginning of the period, and pay notional at the end of the period. The utility `simple_swap_period` creates such a pair of events. "
   ]
  },
  {
   "cell_type": "code",
   "execution_count": null,
   "metadata": {},
   "outputs": [
    {
     "name": "stdout",
     "output_type": "stream",
     "text": [
      "  track  time op  quantity unit\n",
      "0         0.0  +     1.000  USD\n",
      "1         0.5  +    -1.015  USD\n"
     ]
    }
   ],
   "source": [
    "events = simple_swap_period(ccy=\"USD\", start=0, end=0.5, fixed_rate=.03)\n",
    "timetable = timetable_from_dicts(events)\n",
    "print(timetable[\"events\"].to_pandas())"
   ]
  },
  {
   "cell_type": "markdown",
   "metadata": {},
   "source": [
    "We can price it using a fixed model, and at 2.977% (which is 3% semi-annual converted to continuous rate) we see that the price is zero."
   ]
  },
  {
   "cell_type": "code",
   "execution_count": null,
   "metadata": {},
   "outputs": [
    {
     "name": "stdout",
     "output_type": "stream",
     "text": [
      "price:   -0.000000\n"
     ]
    }
   ],
   "source": [
    "def flat_discount_crv(rate, tmax):\n",
    "    times = np.array([0.0, tmax])\n",
    "    rates = np.array([rate, rate])\n",
    "    return (\"ZERO_RATES\", np.column_stack((times, rates)))\n",
    "\n",
    "dataset = {\n",
    "    \"BASE\": \"USD\",\n",
    "    \"ASSETS\": {\"USD\": flat_discount_crv(.029777, 5)},\n",
    "}\n",
    "\n",
    "fixed_model = FixedModel()\n",
    "price, _ = fixed_model.price(timetable, dataset)\n",
    "print(f\"price: {price:11.6f}\")"
   ]
  },
  {
   "cell_type": "markdown",
   "metadata": {},
   "source": [
    "## Vanilla Swap\n",
    "Now we can create a vanilla swap using this building block."
   ]
  },
  {
   "cell_type": "code",
   "execution_count": null,
   "metadata": {},
   "outputs": [
    {
     "name": "stdout",
     "output_type": "stream",
     "text": [
      "  track  time op  quantity unit\n",
      "0         0.5  +     1.000  USD\n",
      "1         1.0  +    -1.015  USD\n",
      "2         1.0  +     1.000  USD\n",
      "3         1.5  +    -1.015  USD\n",
      "4         1.5  +     1.000  USD\n",
      "5         2.0  +    -1.015  USD\n"
     ]
    }
   ],
   "source": [
    "def vanilla_swap_timetable(ccy, periods, fixed_rate, track=\"\") -> dict:\n",
    "    \"\"\"create timetable for a vanilla swap.\"\"\"\n",
    "    events = []\n",
    "    # payment events\n",
    "    for start, end in zip(periods[0:-1], periods[1:]):\n",
    "        events.extend(simple_swap_period(ccy, start, end, fixed_rate, track=track))\n",
    "    return timetable_from_dicts(events)\n",
    "\n",
    "periods = np.linspace(0.5, 2, 4)  # Start after 6 months, mature at 2 years, pay semi-annually (three periods).\n",
    "fixed_rate = 0.03\n",
    "swap_timetable = vanilla_swap_timetable(\"USD\", periods, fixed_rate, \"\")\n",
    "\n",
    "print(swap_timetable[\"events\"].to_pandas())"
   ]
  },
  {
   "cell_type": "markdown",
   "metadata": {},
   "source": [
    "We can price this swap with different shocks to the interest rate curve."
   ]
  },
  {
   "cell_type": "code",
   "execution_count": null,
   "metadata": {},
   "outputs": [
    {
     "name": "stdout",
     "output_type": "stream",
     "text": [
      "shock -2bps  price:  -0.000292\n",
      "shock -1bps  price:  -0.000146\n",
      "shock  0bps  price:  -0.000000\n",
      "shock  1bps  price:   0.000145\n",
      "shock  2bps  price:   0.000291\n"
     ]
    }
   ],
   "source": [
    "for shock in range(-2,3):\n",
    "    dataset[\"ASSETS\"][\"USD\"] = flat_discount_crv(.029777 + shock * .0001, 5)\n",
    "    price, _ = fixed_model.price(swap_timetable, dataset)\n",
    "    print(f\"shock {shock:-2d}bps  price: {price:10.6f}\")"
   ]
  },
  {
   "cell_type": "markdown",
   "metadata": {},
   "source": [
    "## A Vanilla Swaption\n",
    "A Vanilla Swaption is similar to the swap, with a choice in the beginning to enter the swap or not. This can be done using a **>** operation to end the contract with 0 payment, or continue."
   ]
  },
  {
   "cell_type": "code",
   "execution_count": null,
   "metadata": {},
   "outputs": [
    {
     "name": "stdout",
     "output_type": "stream",
     "text": [
      "  track  time op  quantity unit\n",
      "0         0.5  >     0.000  USD\n",
      "1         0.5  +     1.000  USD\n",
      "2         1.0  +    -1.015  USD\n",
      "3         1.0  +     1.000  USD\n",
      "4         1.5  +    -1.015  USD\n",
      "5         1.5  +     1.000  USD\n",
      "6         2.0  +    -1.015  USD\n"
     ]
    }
   ],
   "source": [
    "def swaption_timetable(ccy, periods, strike_rate, track=\"\") -> dict:\n",
    "    # expiration event at beginning\n",
    "    events = [\n",
    "        {\n",
    "                \"track\": track,\n",
    "                \"time\": periods[0],\n",
    "                \"op\": \">\",\n",
    "                \"quantity\": 0,\n",
    "                \"unit\": \"USD\"\n",
    "            }\n",
    "    ]\n",
    "    # payment events\n",
    "    for start, end in zip(periods[0:-1], periods[1:]):\n",
    "        events.extend(simple_swap_period(ccy, start, end, strike_rate, track=track))\n",
    "    return timetable_from_dicts(events)\n",
    "\n",
    "swo_timetable = swaption_timetable(\"USD\", periods, strike_rate=fixed_rate)\n",
    "print(swo_timetable[\"events\"].to_pandas())"
   ]
  },
  {
   "cell_type": "markdown",
   "metadata": {},
   "source": [
    "We will price it with a Hull-White Finite-Difference model, which requires a mean reversion and volatility parameter in the dataset. For details of the model parameters see [Hull White FD model](https://qablet-academy.github.io/intro/models/fd/#hull-white-model).\n"
   ]
  },
  {
   "cell_type": "code",
   "execution_count": null,
   "metadata": {},
   "outputs": [
    {
     "name": "stdout",
     "output_type": "stream",
     "text": [
      "price:    0.011118\n"
     ]
    }
   ],
   "source": [
    "hwfd_dataset = {\n",
    "    \"BASE\": \"USD\",\n",
    "    \"ASSETS\": {\"USD\": flat_discount_crv(.029777, 5)},\n",
    "    \"FD\": {\n",
    "        \"TIMESTEP\": 1 / 250,\n",
    "        \"MAX_X\": 0.20,\n",
    "        \"N_X\": 75,\n",
    "    },\n",
    "    \"HW\": {\n",
    "        \"MEANREV\": 0.1,\n",
    "        \"VOL\": 0.03,\n",
    "    },\n",
    "}\n",
    "\n",
    "hw_model = HWFDModel()\n",
    "price, _ = hw_model.price(swo_timetable, hwfd_dataset)\n",
    "print(f\"price: {price:11.6f}\")"
   ]
  },
  {
   "cell_type": "markdown",
   "metadata": {},
   "source": [
    "Let's change the vols."
   ]
  },
  {
   "cell_type": "code",
   "execution_count": null,
   "metadata": {},
   "outputs": [
    {
     "name": "stdout",
     "output_type": "stream",
     "text": [
      "vol:   0.00 price:    0.000000\n",
      "vol:   0.01 price:    0.003645\n",
      "vol:   0.02 price:    0.007394\n",
      "vol:   0.03 price:    0.011118\n",
      "vol:   0.04 price:    0.014835\n",
      "vol:   0.05 price:    0.018547\n"
     ]
    }
   ],
   "source": [
    "for vol in np.linspace(0.0, 0.05, 6):\n",
    "    hwfd_dataset[\"HW\"][\"VOL\"] = vol\n",
    "    price, _ = hw_model.price(swo_timetable, hwfd_dataset)\n",
    "    print(f\"vol: {vol:6.2f} price: {price:11.6f}\")"
   ]
  },
  {
   "cell_type": "markdown",
   "metadata": {},
   "source": [
    "## Bermuda Swaption\n",
    " In Vanilla swaption the holder gets the opportunity to enter into the swap at the beginning of the first period. However, in a Bermuda swaption the holder gets multiple opprtunities to enter a swap. In the variant shown here, known as a Co-terminal Bermuda swaption, the holder can exercise his option at the beginning of each swap period. Once exercised, the holder pays and receives all remaining payments of the swap.\n",
    " \n",
    "The timetable below has two tracks, `.opt` and `.swp`. \n",
    "- All the payments happen on the `.swp` track. \n",
    "- The holder starts in the track `.opt`, and has an option in the beginning of each period, to switch to the `.swp` track. This is represented by having `.swp` as the target unit in each option event, instead of an asset or cash."
   ]
  },
  {
   "cell_type": "code",
   "execution_count": null,
   "metadata": {},
   "outputs": [
    {
     "name": "stdout",
     "output_type": "stream",
     "text": [
      "  track  time op  quantity  unit\n",
      "0  .opt   0.5  >     1.000  .swp\n",
      "1  .swp   0.5  +     1.000   USD\n",
      "2  .swp   1.0  +    -1.015   USD\n",
      "3  .opt   1.0  >     1.000  .swp\n",
      "4  .swp   1.0  +     1.000   USD\n",
      "5  .swp   1.5  +    -1.015   USD\n",
      "6  .opt   1.5  >     1.000  .swp\n",
      "7  .swp   1.5  +     1.000   USD\n",
      "8  .swp   2.0  +    -1.015   USD\n"
     ]
    }
   ],
   "source": [
    "periods = np.linspace(0.5, 2, 4)  # Start after 6 months, mature at 2 years, pay semi-annually (three periods).\n",
    "fixed_rate = 0.03\n",
    "bswo_timetable = bermuda_swaption_timetable(\"USD\", periods, strike_rate=fixed_rate)\n",
    "\n",
    "print(bswo_timetable[\"events\"].to_pandas())"
   ]
  },
  {
   "cell_type": "code",
   "execution_count": null,
   "metadata": {},
   "outputs": [
    {
     "name": "stdout",
     "output_type": "stream",
     "text": [
      "vol:   0.00 vanilla:    0.000000 bermuda:    0.000000\n",
      "vol:   0.02 vanilla:    0.007394 bermuda:    0.009367\n",
      "vol:   0.04 vanilla:    0.014835 bermuda:    0.018766\n",
      "vol:   0.06 vanilla:    0.022257 bermuda:    0.028196\n",
      "vol:   0.08 vanilla:    0.029684 bermuda:    0.037677\n",
      "vol:   0.10 vanilla:    0.037188 bermuda:    0.047243\n"
     ]
    }
   ],
   "source": [
    "vols = np.linspace(0.0, 0.1, 6)\n",
    "vanilla_swo_prices = []\n",
    "bermuda_swo_prices = []\n",
    "\n",
    "for vol in vols:\n",
    "    hwfd_dataset[\"HW\"][\"VOL\"] = vol\n",
    "    v_price, _ = hw_model.price(swo_timetable, hwfd_dataset)\n",
    "    b_price, _ = hw_model.price(bswo_timetable, hwfd_dataset)\n",
    "    vanilla_swo_prices.append(v_price)\n",
    "    bermuda_swo_prices.append(b_price)\n",
    "    print(f\"vol: {vol:6.2f} vanilla: {v_price:11.6f} bermuda: {b_price:11.6f}\")"
   ]
  },
  {
   "cell_type": "markdown",
   "metadata": {},
   "source": [
    "## Suggested Exercises\n",
    "\n",
    "- Create and price a callable bond, or a prepayable amortizing loan, or a cancellable swap.\n",
    "- Show how the bermuda swaption is a hedge for the above products."
   ]
  }
 ],
 "metadata": {
  "deepnote_execution_queue": [],
  "deepnote_notebook_id": "d24154df9e274273a4e6dc9d3e44939a",
  "deepnote_persisted_session": {
   "createdAt": "2023-12-14T13:45:34.705Z"
  },
  "kernelspec": {
   "display_name": ".venv",
   "language": "python",
   "name": "python3"
  },
  "language_info": {
   "codemirror_mode": {
    "name": "ipython",
    "version": 3
   },
   "file_extension": ".py",
   "mimetype": "text/x-python",
   "name": "python",
   "nbconvert_exporter": "python",
   "pygments_lexer": "ipython3"
  }
 },
 "nbformat": 4,
 "nbformat_minor": 0
}
