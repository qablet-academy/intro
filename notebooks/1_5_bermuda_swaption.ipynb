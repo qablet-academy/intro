{
 "cells": [
  {
   "cell_type": "markdown",
   "metadata": {},
   "source": [
    "## Bermuda Swaptions\n",
    "\n",
    "Pre-requisites: Notebook 1.1, 1.2, 1.4\n",
    "\n",
    "In this notebook we will create and price **vanilla swaptions** and **bermuda swaptions**. In that process we will\n",
    "\n",
    "- use a contract with multiple **tracks**\n",
    "- option to switch from one track to another\n",
    "- use `HWFDModel` (a Finite Difference Hull-White Model)\n",
    "\n",
    "API documentation:\n",
    "\n",
    "- [Utilities to create swaps and swaptions](https://qablet.github.io/qablet-contracts/examples/rate/)\n",
    "- [Hull White FD model](https://qablet-academy.github.io/intro/models/fd/#hull-white-model)\n",
    "\n",
    "Let us start with the imports."
   ]
  },
  {
   "cell_type": "code",
   "execution_count": null,
   "metadata": {},
   "outputs": [],
   "source": [
    "import numpy as np\n",
    "import pandas as pd\n",
    "from datetime import datetime, timezone\n",
    "from qablet_contracts.ir.swaption import Swaption, BermudaSwaption\n",
    "from qablet_contracts.timetable import py_to_ts\n",
    "from qablet.hullwhite.fd import HWFDModel\n",
    "from qablet.base.flags import Stats\n",
    "import matplotlib.pyplot as plt"
   ]
  },
  {
   "cell_type": "markdown",
   "metadata": {},
   "source": [
    "## Create Timetable\n",
    "In a Vanilla swaption the holder gets the opportunity to enter into the swap at the beginning of the first period. However, in a Bermuda swaption the holder gets multiple opprtunities to enter a swap. In the variant shown here, known as a Co-terminal Bermuda swaption, the holder can exercise his option at the beginning of each swap period. Once exercised, the holder pays and receives all remaining payments of the swap.\n",
    " \n",
    "The timetable below has two tracks, `.opt` and `.swp`. \n",
    "- All the payments happen on the `.swp` track. \n",
    "- The holder starts in the track `.opt`, and has an option in the beginning of each period, to switch to the `.swp` track. This is represented by having `.swp` as the target unit in each option event, instead of an asset or cash."
   ]
  },
  {
   "cell_type": "code",
   "execution_count": null,
   "metadata": {},
   "outputs": [
    {
     "name": "stdout",
     "output_type": "stream",
     "text": [
      "                       time op  quantity  unit track\n",
      "0 2024-06-30 00:00:00+00:00  >     1.000  .swp  .opt\n",
      "1 2024-06-30 00:00:00+00:00  +     1.000   USD  .swp\n",
      "2 2024-12-31 00:00:00+00:00  +    -1.015   USD  .swp\n",
      "3 2024-12-31 00:00:00+00:00  >     1.000  .swp  .opt\n",
      "4 2024-12-31 00:00:00+00:00  +     1.000   USD  .swp\n",
      "5 2025-06-30 00:00:00+00:00  +    -1.015   USD  .swp\n",
      "6 2025-06-30 00:00:00+00:00  >     1.000  .swp  .opt\n",
      "7 2025-06-30 00:00:00+00:00  +     1.000   USD  .swp\n",
      "8 2025-12-31 00:00:00+00:00  +    -1.015   USD  .swp\n"
     ]
    }
   ],
   "source": [
    "# swap starts six months from now, mature in two years, pays six monthly.\n",
    "period_dts = pd.bdate_range(\n",
    "    datetime(2024, 6, 30), datetime(2025, 12, 31), freq=\"2QE\", inclusive=\"both\"\n",
    ")\n",
    "fixed_rate = 0.03\n",
    "bswo_timetable = BermudaSwaption(\n",
    "    \"USD\", period_dts, strike_rate=fixed_rate\n",
    ").timetable()\n",
    "print(bswo_timetable[\"events\"].to_pandas())"
   ]
  },
  {
   "cell_type": "code",
   "execution_count": null,
   "metadata": {},
   "outputs": [
    {
     "name": "stdout",
     "output_type": "stream",
     "text": [
      "                       time op  quantity  unit track\n",
      "0 2024-06-30 00:00:00+00:00  >     1.000  .swp  .opt\n",
      "1 2024-06-30 00:00:00+00:00  +     1.000   USD  .swp\n",
      "2 2024-12-31 00:00:00+00:00  +    -1.015   USD  .swp\n",
      "3 2024-12-31 00:00:00+00:00  +     1.000   USD  .swp\n",
      "4 2025-06-30 00:00:00+00:00  +    -1.015   USD  .swp\n",
      "5 2025-06-30 00:00:00+00:00  +     1.000   USD  .swp\n",
      "6 2025-12-31 00:00:00+00:00  +    -1.015   USD  .swp\n"
     ]
    }
   ],
   "source": [
    "# Compare with a vanilla swaption\n",
    "swo_timetable = Swaption(\"USD\", period_dts, strike_rate=fixed_rate).timetable()\n",
    "print(swo_timetable[\"events\"].to_pandas())"
   ]
  },
  {
   "cell_type": "markdown",
   "metadata": {},
   "source": [
    "We will price it with a Hull-White Finite-Difference model, which requires a mean reversion and volatility parameter in the dataset. For details of the model parameters see [Hull White FD model](https://qablet-academy.github.io/intro/models/fd/#hull-white-model)."
   ]
  },
  {
   "cell_type": "code",
   "execution_count": null,
   "metadata": {},
   "outputs": [],
   "source": [
    "max_year = 5\n",
    "base_rate = 0.0297\n",
    "pricing_dt = datetime(2023, 12, 31, tzinfo=timezone.utc)\n",
    "hwfd_dataset = {\n",
    "    \"BASE\": \"USD\",\n",
    "    \"PRICING_TS\": py_to_ts(pricing_dt).value,\n",
    "    \"ASSETS\": {\"USD\": (\"ZERO_RATES\", np.array([[max_year, base_rate]]))},\n",
    "    \"FD\": {\n",
    "        \"TIMESTEP\": 1 / 250,\n",
    "        \"MAX_X\": 0.20,\n",
    "        \"N_X\": 75,\n",
    "    },\n",
    "    \"HW\": {\n",
    "        \"MEANREV\": 0.1,\n",
    "        \"VOL\": 0.03,\n",
    "    },\n",
    "}\n",
    "\n",
    "hw_model = HWFDModel()"
   ]
  },
  {
   "cell_type": "markdown",
   "metadata": {},
   "source": [
    "Let's compare the prices of vanilla swaption with bermuda swaption for different vols. We expect the bermuda swaption to have consistently higher price."
   ]
  },
  {
   "cell_type": "code",
   "execution_count": null,
   "metadata": {},
   "outputs": [
    {
     "name": "stdout",
     "output_type": "stream",
     "text": [
      "     vol  vanilla  bermuda\n",
      "0 0.0000   0.0000   0.0001\n",
      "1 0.0200   0.0074   0.0094\n",
      "2 0.0400   0.0149   0.0188\n",
      "3 0.0600   0.0223   0.0283\n",
      "4 0.0800   0.0298   0.0378\n",
      "5 0.1000   0.0373   0.0474\n"
     ]
    }
   ],
   "source": [
    "data = []\n",
    "for vol in np.linspace(0.0, 0.1, 6):\n",
    "    hwfd_dataset[\"HW\"][\"VOL\"] = vol  # update the vol in the dataset\n",
    "    v_price, _ = hw_model.price(swo_timetable, hwfd_dataset)\n",
    "    b_price, _ = hw_model.price(bswo_timetable, hwfd_dataset)\n",
    "    data.append([vol, v_price, b_price])\n",
    "\n",
    "pd.options.display.float_format = \"{:,.4f}\".format\n",
    "df = pd.DataFrame(data, columns=[\"vol\", \"vanilla\", \"bermuda\"])\n",
    "print(df)"
   ]
  },
  {
   "cell_type": "markdown",
   "metadata": {},
   "source": [
    "# Pricing Stats (Choices)\n",
    "\n",
    "The qablet package provides some ways to analyse the behavior of the pricing model. In previous notebooks we have used the `PV_VEC` flag to produce the distribution of prices. Here we will use the `CHOICES` flag to examine what exercise decisions are being taken during the model execution. We will use an 1+10 swaption this time."
   ]
  },
  {
   "cell_type": "code",
   "execution_count": null,
   "metadata": {},
   "outputs": [],
   "source": [
    "# Start after 1 year, mature at 11 years, pay annually (ten periods).\n",
    "period_dts = pd.bdate_range(\n",
    "    datetime(2024, 12, 31), datetime(2034, 12, 31), freq=\"YE\", inclusive=\"both\"\n",
    ")\n",
    "fixed_rate = 0.03\n",
    "bswo_timetable = BermudaSwaption(\n",
    "    \"USD\", period_dts, strike_rate=fixed_rate\n",
    ").timetable()\n",
    "# print(bswo_timetable[\"events\"].to_pandas())"
   ]
  },
  {
   "cell_type": "code",
   "execution_count": null,
   "metadata": {},
   "outputs": [
    {
     "name": "stdout",
     "output_type": "stream",
     "text": [
      "0.13021120208866344\n"
     ]
    }
   ],
   "source": [
    "hwfd_dataset = {\n",
    "    \"BASE\": \"USD\",\n",
    "    \"PRICING_TS\": py_to_ts(pricing_dt).value,\n",
    "    \"ASSETS\": {\"USD\": (\"ZERO_RATES\", np.array([[12, base_rate]]))},\n",
    "    \"FD\": {\n",
    "        \"TIMESTEP\": 1 / 250,\n",
    "        \"MAX_X\": 0.20,\n",
    "        \"N_X\": 75,\n",
    "        \"FLAGS\": Stats.CHOICES,  # Set this flag to get the stats on exercise decisions\n",
    "    },\n",
    "    \"HW\": {\n",
    "        \"MEANREV\": 0.1,\n",
    "        \"VOL\": 0.03,\n",
    "    },\n",
    "}\n",
    "price, stats = hw_model.price(bswo_timetable, hwfd_dataset)\n",
    "print(price)"
   ]
  },
  {
   "cell_type": "markdown",
   "metadata": {},
   "source": [
    "The returned stats now contains an element `CHOICES` which is a dictionary. The keys are the timetable indexes which correspond to an option event. The values are vectors of length $2 * N_X + 1$, containing 0 or 1. If the event looks like below, 0 indicates that the model `continued` to next event, i.e. did not exercise into the swap. 1 indicates that it `accepted` the `unit`, i.e. exercise into the swap.\n",
    "\n",
    "```python\n",
    "  track   time op  quantity  unit\n",
    "0  .opt 0.5000  >    1.0000  .swp\n",
    "```"
   ]
  },
  {
   "cell_type": "code",
   "execution_count": null,
   "metadata": {},
   "outputs": [
    {
     "name": "stdout",
     "output_type": "stream",
     "text": [
      "dict_keys([21, 6, 9, 3, 18, 24, 15, 12, 0, 27])\n",
      "{0: array([1, 1, 1, 1, 1, 1, 1, 1, 1, 1, 1, 1, 1, 1, 1, 1, 1, 1, 1, 1, 1, 1,\n",
      "       1, 1, 1, 1, 1, 1, 1, 1, 1, 1, 1, 1, 1, 1, 1, 1, 1, 1, 1, 1, 1, 1,\n",
      "       1, 1, 1, 1, 1, 1, 1, 1, 1, 1, 1, 1, 1, 1, 1, 1, 1, 1, 1, 1, 1, 0,\n",
      "       0, 0, 0, 0, 0, 0, 0, 0, 0, 0, 0, 0, 0, 0, 0, 0, 0, 0, 0, 0, 0, 0,\n",
      "       0, 0, 0, 0, 0, 0, 0, 0, 0, 0, 0, 0, 0, 0, 0, 0, 0, 0, 0, 0, 0, 0,\n",
      "       0, 0, 0, 0, 0, 0, 0, 0, 0, 0, 0, 0, 0, 0, 0, 0, 0, 0, 0, 0, 0, 0,\n",
      "       0, 0, 0, 0, 0, 0, 0, 0, 0, 0, 0, 0, 0, 0, 0, 0, 0, 0, 0],\n",
      "      dtype=uint64)}\n"
     ]
    }
   ],
   "source": [
    "choices = stats[\"CHOICES\"]\n",
    "print(choices.keys())  # we will see indices of the 10 exercise events\n",
    "print(\n",
    "    choices[3]\n",
    ")  # we will see exercise decisions for each value along the rate axis, for this particular exercise event"
   ]
  },
  {
   "cell_type": "markdown",
   "metadata": {},
   "source": [
    "We will now plot the decisions, against the rates, with time on x-axis, and the rate offset along the y axis."
   ]
  },
  {
   "cell_type": "code",
   "execution_count": null,
   "metadata": {},
   "outputs": [],
   "source": [
    "event_idxs = list(choices.keys())\n",
    "event_idxs.sort()\n",
    "\n",
    "# Get the decisions\n",
    "decisions = np.array([choices[i][0] for i in event_idxs]).transpose()\n",
    "exer_dts = [\n",
    "    bswo_timetable[\"events\"][\"time\"][idx].as_py() for idx in event_idxs\n",
    "]\n",
    "rates_x = np.linspace(0.2, -0.2, decisions.shape[0])"
   ]
  },
  {
   "cell_type": "code",
   "execution_count": null,
   "metadata": {},
   "outputs": [
    {
     "data": {
      "text/plain": [
       "Text(0, 0.5, 'Rate offset')"
      ]
     },
     "execution_count": null,
     "metadata": {},
     "output_type": "execute_result"
    },
    {
     "data": {
      "image/png": "[encoded data removed]",
      "text/plain": [
       "<Figure size 640x480 with 1 Axes>"
      ]
     },
     "metadata": {},
     "output_type": "display_data"
    }
   ],
   "source": [
    "# In the Hull White model the actual rate on the grid is the rate offset plus a deterministic component (rate_base) as calculated below\n",
    "mkt_rate = 0.02977\n",
    "mr = hwfd_dataset[\"HW\"][\"MEANREV\"]\n",
    "vol = hwfd_dataset[\"HW\"][\"VOL\"]\n",
    "exer_yrs = [(dt - pricing_dt).days / 365.25 for dt in exer_dts]\n",
    "decay = 1 - np.exp(-mr * np.array(exer_yrs))\n",
    "rate_base = mkt_rate + vol * vol / (2 * mr * mr) * decay * decay\n",
    "rates = np.array([rate_base + x for x in rates_x])\n",
    "\n",
    "# Plot the rate contours\n",
    "fig, ax = plt.subplots()\n",
    "CS = ax.contour(exer_dts, rates_x, rates)\n",
    "ax.clabel(CS, inline=True, fontsize=10)\n",
    "ax.set_title(\"Rate contours overlayed on exercise decisions\")\n",
    "\n",
    "# Plot the decisions as a colormesh\n",
    "M = ax.pcolormesh(exer_dts, rates_x, decisions, cmap=\"Greys\")\n",
    "ax.set_xlabel(\"Exercise time\")\n",
    "ax.set_ylabel(\"Rate offset\")"
   ]
  },
  {
   "cell_type": "markdown",
   "metadata": {},
   "source": [
    "## Suggested Exercises\n",
    "\n",
    "- Create and price a prepayable amortizing loan, or a cancellable swap.\n",
    "- Show how the bermuda swaption is a hedge for the above products by shifting rates on both.\n",
    "- Study the impact of steepening or flattening yield curve on the exercise decisions."
   ]
  },
  {
   "cell_type": "markdown",
   "metadata": {},
   "source": [
    "Next: [Define your own Monte-Carlo Model](2_1_custom_mc.ipynb)"
   ]
  }
 ],
 "metadata": {
  "deepnote_execution_queue": [],
  "deepnote_notebook_id": "d24154df9e274273a4e6dc9d3e44939a",
  "deepnote_persisted_session": {
   "createdAt": "2023-12-14T13:45:34.705Z"
  },
  "kernelspec": {
   "display_name": ".venv",
   "language": "python",
   "name": "python3"
  },
  "language_info": {
   "codemirror_mode": {
    "name": "ipython",
    "version": 3
   },
   "file_extension": ".py",
   "mimetype": "text/x-python",
   "name": "python",
   "nbconvert_exporter": "python",
   "pygments_lexer": "ipython3"
  }
 },
 "nbformat": 4,
 "nbformat_minor": 0
}
