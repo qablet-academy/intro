{
 "cells": [
  {
   "cell_type": "markdown",
   "metadata": {},
   "source": [
    "# Create your own pricing model\n",
    "\n",
    "Pre-requisites: Notebook 1.1, 1.2\n",
    "\n",
    "In this notebook we will show how you can create your own monte carlo pricing model. The `finmc` package allows you to create your own model using [MCBase](https://finlib.github.io/finmc/models/api/#finmc.models.base.MCBase) or [MCFixedStep](https://finlib.github.io/finmc/models/api/#finmc.models.base.MCFixedStep).\n",
    "\n",
    "We will implement a simple black-scholes flat volatility model where the stock price is given by\n",
    "$$ \n",
    "S_t = e^{X_t}\n",
    "$$ \n",
    "where $X_t$ is the lognormal stock process that evolves as\n",
    "$$\n",
    "dX_t = (r - \\sigma^2/2) dt + dZ \n",
    "$$\n",
    "\n",
    "$$\n",
    "dZ = \\sqrt{dt} \\cdot \\sigma \\cdot dW\n",
    "$$\n",
    "where $r$ is the riskfree rate, $\\sigma$ is the volatility, and $dW$ is a standard normal Brownian motion.\n",
    "\n",
    "Let us start with the imports."
   ]
  },
  {
   "cell_type": "code",
   "execution_count": 1,
   "metadata": {},
   "outputs": [],
   "source": [
    "from datetime import datetime\n",
    "from math import sqrt\n",
    "\n",
    "import numpy as np\n",
    "\n",
    "# The two base classes we need for our custom model\n",
    "from finmc.models.base import MCFixedStep\n",
    "from finmc.utils.assets import Discounter, Forwards\n",
    "from matplotlib import pyplot as plt\n",
    "from numpy.random import SFC64, Generator\n",
    "from qablet.base.flags import Stats\n",
    "from qablet.base.mc import MCPricer\n",
    "from qablet_contracts.eq.vanilla import Option"
   ]
  },
  {
   "cell_type": "markdown",
   "metadata": {},
   "source": [
    "## Create the Model\n",
    "In this example, our model inherits from `MCFixedStep` and implements the methods `reset`, `step`, `get_value`, and `get_df`.\n",
    "\n",
    "It expects the dataset to contain a component `BS`, with the following model parameters:\n",
    " - `ASSET` : the name of the asset that will be handled by this model\n",
    " - `VOL` : the volatility"
   ]
  },
  {
   "cell_type": "code",
   "execution_count": 2,
   "metadata": {},
   "outputs": [],
   "source": [
    "class BSMC(MCFixedStep):\n",
    "    def reset(self):\n",
    "        \"\"\"Fetch the model parameters from the dataset, and initialize the model.\"\"\"\n",
    "        self.n = self.dataset[\"MC\"][\"PATHS\"]\n",
    "        self.timestep = self.dataset[\"MC\"][\"TIMESTEP\"]\n",
    "\n",
    "        self.asset = self.dataset[\"BS\"][\"ASSET\"]\n",
    "        self.asset_fwd = Forwards(self.dataset[\"ASSETS\"][self.asset])\n",
    "        self.spot = self.asset_fwd.forward(0)\n",
    "        self.vol = self.dataset[\"BS\"][\"VOL\"]\n",
    "        self.discounter = Discounter(\n",
    "            self.dataset[\"ASSETS\"][self.dataset[\"BASE\"]]\n",
    "        )\n",
    "        # Initialize the arrays\n",
    "        self.rng = Generator(SFC64(self.dataset[\"MC\"][\"SEED\"]))\n",
    "        self.x_vec = np.zeros(self.n)  # process x (log stock)\n",
    "\n",
    "        self.cur_time = 0\n",
    "\n",
    "    def step(self, new_time):\n",
    "        \"\"\"Update x_vec in place when we move simulation time to new_time.\"\"\"\n",
    "\n",
    "        dt = new_time - self.cur_time\n",
    "        fwd_rate = self.asset_fwd.rate(new_time, self.cur_time)\n",
    "\n",
    "        # generate the random numbers and advance the log stock process\n",
    "        dz_vec = self.rng.standard_normal(self.n) * sqrt(dt) * self.vol\n",
    "\n",
    "        self.x_vec += (fwd_rate - self.vol * self.vol / 2.0) * dt + dz_vec\n",
    "\n",
    "        self.cur_time = new_time\n",
    "\n",
    "    def get_value(self, unit):\n",
    "        \"\"\"Return the value of the unit at the current time.\"\"\"\n",
    "        if unit == self.asset:\n",
    "            return self.spot * np.exp(self.x_vec)\n",
    "\n",
    "    def get_df(self):\n",
    "        \"\"\"Return the discount factor at the current time.\"\"\"\n",
    "        return self.discounter.discount(self.cur_time)"
   ]
  },
  {
   "cell_type": "markdown",
   "metadata": {},
   "source": [
    "\n",
    "## Create the dataset\n",
    "Create the dataset, with MC params, discounts and fwds. Add the two parameters needed by our model - `ASSET` and `VOL`."
   ]
  },
  {
   "cell_type": "code",
   "execution_count": 3,
   "metadata": {},
   "outputs": [],
   "source": [
    "# rates\n",
    "times = np.array([0.0, 1.0, 2.0, 5.0])\n",
    "rates = np.array([0.04, 0.04, 0.045, 0.05])\n",
    "discount_data = (\"ZERO_RATES\", np.column_stack((times, rates)))\n",
    "\n",
    "# equity forwards\n",
    "spot = 2900\n",
    "div_rate = 0.01\n",
    "fwds = spot * np.exp((rates - div_rate) * times)\n",
    "fwd_data = (\"FORWARDS\", np.column_stack((times, fwds)))\n",
    "\n",
    "dataset = {\n",
    "    \"BASE\": \"USD\",\n",
    "    \"ASSETS\": {\"USD\": discount_data, \"SPX\": fwd_data},\n",
    "    \"MC\": {\n",
    "        \"PATHS\": 100_000,\n",
    "        \"TIMESTEP\": 1 / 250,\n",
    "        \"SEED\": 1,\n",
    "        \"FLAGS\": Stats.PV_VEC,\n",
    "    },\n",
    "    \"BS\": {\n",
    "        \"ASSET\": \"SPX\",\n",
    "        \"VOL\": 0.175,\n",
    "    },\n",
    "}"
   ]
  },
  {
   "cell_type": "markdown",
   "metadata": {},
   "source": [
    "Try this model without qablet. "
   ]
  },
  {
   "cell_type": "code",
   "execution_count": 4,
   "metadata": {},
   "outputs": [
    {
     "name": "stdout",
     "output_type": "stream",
     "text": [
      "[3017.98095048 2357.6611304  2997.50637384 ... 2834.37024452 3274.87554013\n",
      " 3124.99288305]\n"
     ]
    }
   ],
   "source": [
    "model = BSMC(dataset)\n",
    "model.reset()\n",
    "model.advance(1.0)\n",
    "asset_values = model.get_value(\"SPX\")\n",
    "print(asset_values)"
   ]
  },
  {
   "cell_type": "markdown",
   "metadata": {},
   "source": [
    "## Use Model with Qablet\n",
    "\n",
    "Create a vanilla option contract using the `Option` class from `qablet_contracts.eq`"
   ]
  },
  {
   "cell_type": "code",
   "execution_count": 5,
   "metadata": {},
   "outputs": [
    {
     "name": "stdout",
     "output_type": "stream",
     "text": [
      "                       time op  quantity unit track\n",
      "0 2024-12-31 00:00:00+00:00  >       0.0  USD      \n",
      "1 2024-12-31 00:00:00+00:00  +   -2800.0  USD      \n",
      "2 2024-12-31 00:00:00+00:00  +       1.0  SPX      \n"
     ]
    }
   ],
   "source": [
    "strike = 2800\n",
    "timetable = Option(\n",
    "    \"USD\", \"SPX\", strike=strike, maturity=datetime(2024, 12, 31), is_call=True\n",
    ").timetable()\n",
    "print(timetable[\"events\"].to_pandas())"
   ]
  },
  {
   "cell_type": "markdown",
   "metadata": {},
   "source": [
    "To use with qablet contracts, the dataset needs the pricing timestamp specified. "
   ]
  },
  {
   "cell_type": "code",
   "execution_count": 6,
   "metadata": {},
   "outputs": [],
   "source": [
    "dataset[\"PRICING_TS\"] = datetime(2023, 12, 31)"
   ]
  },
  {
   "cell_type": "markdown",
   "metadata": {},
   "source": [
    "Create a Qablet Monte-Carlo Pricer, with the model specified as arg to the constructor."
   ]
  },
  {
   "cell_type": "code",
   "execution_count": 7,
   "metadata": {},
   "outputs": [
    {
     "name": "stdout",
     "output_type": "stream",
     "text": [
      "price:  297.046626\n"
     ]
    }
   ],
   "source": [
    "model = MCPricer(BSMC)\n",
    "price, stats = model.price(timetable, dataset)\n",
    "print(f\"price: {price:11.6f}\")"
   ]
  },
  {
   "cell_type": "markdown",
   "metadata": {},
   "source": [
    "We can also analyse the behavior of the pricing model using the same tools we saw in the last notebook, e.g. get the prices for each path by specifying `PV_VEC` flag."
   ]
  },
  {
   "cell_type": "code",
   "execution_count": 8,
   "metadata": {},
   "outputs": [
    {
     "data": {
      "image/png": "[encoded data removed]",
      "text/plain": [
       "<Figure size 640x480 with 1 Axes>"
      ]
     },
     "metadata": {},
     "output_type": "display_data"
    }
   ],
   "source": [
    "pv_vec = stats[\"PV_VEC\"]\n",
    "plt.hist(pv_vec, bins=100, density=True, histtype=\"step\", log=True)\n",
    "plt.title(\"density plot\")\n",
    "plt.show()"
   ]
  },
  {
   "cell_type": "markdown",
   "metadata": {},
   "source": [
    "## Suggested Exercises\n",
    "\n",
    "- Add mean reversion to the model\n",
    "- Add a jump process to the model\n",
    "- Change the model to a normal (Bachelier) process instead of log normal. This is often used for commodities where a negative price is admissible."
   ]
  },
  {
   "cell_type": "markdown",
   "metadata": {},
   "source": [
    "Next: [Create a Two Asset Black Scholes Model](2_2_custom_two_asset.ipynb)"
   ]
  }
 ],
 "metadata": {
  "deepnote_execution_queue": [],
  "deepnote_notebook_id": "bb18d62bd5c4412c93abe157ba8bae7b",
  "deepnote_persisted_session": {
   "createdAt": "2023-12-14T19:45:11.526Z"
  },
  "kernelspec": {
   "display_name": ".venv",
   "language": "python",
   "name": "python3"
  },
  "language_info": {
   "codemirror_mode": {
    "name": "ipython",
    "version": 3
   },
   "file_extension": ".py",
   "mimetype": "text/x-python",
   "name": "python",
   "nbconvert_exporter": "python",
   "pygments_lexer": "ipython3",
   "version": "3.11.9"
  }
 },
 "nbformat": 4,
 "nbformat_minor": 0
}
