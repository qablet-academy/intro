{
 "cells": [
  {
   "cell_type": "markdown",
   "metadata": {},
   "source": [
    "# Create your own pricing model\n",
    "\n",
    "Pre-requisites: Notebook 1.1, 1.2\n",
    "\n",
    "In this notebook we will show how you can create your own monte carlo pricing model, using the base `MCModel` from the qablet library. We will implement a simple black-scholes flat volatility model where the stock price is given by\n",
    "$$ \n",
    "S_t = e^{X_t}\n",
    "$$ \n",
    "where $X_t$ is the lognormal stock process that evolves as\n",
    "$$\n",
    "dX_t = (r - \\sigma^2/2) dt + dZ \n",
    "$$\n",
    "\n",
    "$$\n",
    "dZ = \\sqrt{dt} \\cdot \\sigma \\cdot dW\n",
    "$$\n",
    "where $r$ is the riskfree rate, $\\sigma$ is the volatility, and $dW$ is a standard normal Brownian motion.\n",
    "\n",
    "Let us start with the imports."
   ]
  },
  {
   "cell_type": "code",
   "execution_count": null,
   "metadata": {},
   "outputs": [],
   "source": [
    "import numpy as np\n",
    "from math import sqrt\n",
    "from qablet.base.mc import MCModel, MCStateBase  # The two base classes we need for our custom model\n",
    "from numpy.random import Generator, SFC64\n",
    "from qablet.base.utils import Forwards\n",
    "from qablet_contracts.equity.vanilla import option_timetable   # We will use the utility option_timetable instead of writing our own\n",
    "from matplotlib import pyplot as plt\n",
    "from qablet.base.flags import Stats"
   ]
  },
  {
   "cell_type": "markdown",
   "metadata": {},
   "source": [
    "## Create the Model State Class\n",
    "We need to create a class that maintains the model state as the simulation moves forward in each timestep. It must inherit from `MCStateBase` and implement the following three methods.\n",
    "\n",
    "```\n",
    "class MyModelStateMC(MCStateBase):\n",
    "    def __init__(self, timetable, dataset):\n",
    "        <Here initialize your model parameters, and\n",
    "        the vectors that keep the state variables of the model>\n",
    "\n",
    "    def advance(self, new_time):\n",
    "        <Here generate the random numbers, and \n",
    "        advance the model state variables to the new time>\n",
    " \n",
    "    def get_value(self, unit):\n",
    "        if this unit is handled by your model\n",
    "            return value based on your model\n",
    "        else:\n",
    "            return None\n",
    "```"
   ]
  },
  {
   "cell_type": "markdown",
   "metadata": {},
   "source": [
    "Here is a working implementation of the Black-Scholes model state. In the dataset it expects a a component `BS` to contain the model parameters:\n",
    " - `ASSET` : the name of the asset that will be handled by this model\n",
    " - `VOL` : the volatility"
   ]
  },
  {
   "cell_type": "code",
   "execution_count": null,
   "metadata": {},
   "outputs": [],
   "source": [
    "# Monte Carlo Pricer for BS (flat vol) Model\n",
    "\n",
    "# Define a class for the state of a single asset BS MC process\n",
    "class BSStateMC(MCStateBase):\n",
    "    def __init__(self, timetable, dataset):\n",
    "\n",
    "        super().__init__(timetable, dataset)\n",
    "\n",
    "        # fetch the model parameters from the dataset\n",
    "        self.n = dataset[\"MC\"][\"PATHS\"]\n",
    "        self.asset = dataset[\"BS\"][\"ASSET\"]\n",
    "        self.asset_fwd = Forwards(dataset[\"ASSETS\"][self.asset])\n",
    "        self.spot = self.asset_fwd.forward(0)\n",
    "        self.vol = dataset[\"BS\"][\"VOL\"]\n",
    "\n",
    "        # Initialize the arrays\n",
    "        self.rng = Generator(SFC64(dataset[\"MC\"][\"SEED\"]))\n",
    "        self.x_vec = np.zeros(self.n)  # process x (log stock)\n",
    "\n",
    "        self.cur_time = 0\n",
    "\n",
    "\n",
    "    def advance(self, new_time):\n",
    "        \"\"\"Update x_vec in place when we move simulation by time dt.\"\"\"\n",
    "\n",
    "        dt = new_time - self.cur_time\n",
    "        if dt < 1e-10:\n",
    "            return\n",
    "        \n",
    "        fwd_rate = self.asset_fwd.rate(new_time, self.cur_time)\n",
    "\n",
    "        # generate the random numbers and advance the log stock process\n",
    "        dz_vec = self.rng.standard_normal(self.n) * sqrt(dt) * self.vol\n",
    "\n",
    "        self.x_vec += (fwd_rate - self.vol * self.vol / 2.0) * dt\n",
    "        self.x_vec += dz_vec\n",
    "\n",
    "        self.cur_time = new_time\n",
    "\n",
    "    def get_value(self, unit):\n",
    "        \"\"\"Return the value of the unit at the current time.\n",
    "        This model uses black scholes model for one asset, return its value using the simulated array.\n",
    "        For any other asset that may exist in the timetable, just return the default implementation in\n",
    "        the model base (i.e. simply return the forwards).\"\"\"\n",
    "\n",
    "        if unit == self.asset:\n",
    "            return self.spot * np.exp(self.x_vec)\n",
    "        else:\n",
    "            return None\n"
   ]
  },
  {
   "cell_type": "markdown",
   "metadata": {},
   "source": [
    "## Create the Model class\n",
    "We will now create the model class. In this case all we have to do is specify the state_class to be used by this model."
   ]
  },
  {
   "cell_type": "code",
   "execution_count": null,
   "metadata": {},
   "outputs": [],
   "source": [
    "class BSMCModel(MCModel):\n",
    "\n",
    "    def state_class(self):\n",
    "        return BSStateMC"
   ]
  },
  {
   "cell_type": "markdown",
   "metadata": {},
   "source": [
    "## Create a vanilla option contract"
   ]
  },
  {
   "cell_type": "code",
   "execution_count": null,
   "metadata": {},
   "outputs": [
    {
     "name": "stdout",
     "output_type": "stream",
     "text": [
      "  track  time op  quantity unit\n",
      "0         1.0  >       0.0  USD\n",
      "1         1.0  +   -2800.0  USD\n",
      "2         1.0  +       1.0  SPX\n"
     ]
    }
   ],
   "source": [
    "strike = 2800\n",
    "timetable = option_timetable(\"USD\", \"SPX\", strike=strike, maturity=1.0, is_call=True)\n",
    "print(timetable[\"events\"].to_pandas())"
   ]
  },
  {
   "cell_type": "markdown",
   "metadata": {},
   "source": [
    "## Create the dataset\n",
    "Create the dataset, with MC params, discounts and fwds as in previous examples. Add the two parameters needed by our model - BS_ASSET and BS_VOL."
   ]
  },
  {
   "cell_type": "code",
   "execution_count": null,
   "metadata": {},
   "outputs": [],
   "source": [
    "\n",
    "times = np.array([0.0, 1.0, 2.0, 5.0])\n",
    "rates = np.array([0.04, 0.04, 0.045, 0.05]) * 0.0\n",
    "discount_data = (\"ZERO_RATES\", np.column_stack((times, rates)))\n",
    "\n",
    "\n",
    "spot = 2900\n",
    "div_rate = 0.01\n",
    "fwds = spot * np.exp((rates - div_rate) * times)\n",
    "fwd_data = (\"FORWARDS\", np.column_stack((times, fwds)))\n",
    "\n",
    "dataset = {\n",
    "    \"MC\": {\n",
    "        \"PATHS\": 100_000,\n",
    "        \"TIMESTEP\": 1 / 250,\n",
    "        \"SEED\": 1,\n",
    "        \"FLAGS\": Stats.PV_VEC\n",
    "    },\n",
    "    \"BASE\": \"USD\",\n",
    "    \"ASSETS\": {\"USD\": discount_data, \"SPX\": fwd_data},\n",
    "    \"BS\": {\n",
    "        \"ASSET\": \"SPX\",\n",
    "        \"VOL\": 0.175,\n",
    "    }\n",
    "}\n"
   ]
  },
  {
   "cell_type": "markdown",
   "metadata": {},
   "source": [
    "## Calculate Price"
   ]
  },
  {
   "cell_type": "code",
   "execution_count": null,
   "metadata": {},
   "outputs": [
    {
     "name": "stdout",
     "output_type": "stream",
     "text": [
      "price:  234.552821\n"
     ]
    }
   ],
   "source": [
    "model = BSMCModel()\n",
    "price, stats = model.price(timetable, dataset)\n",
    "print(f\"price: {price:11.6f}\")"
   ]
  },
  {
   "cell_type": "markdown",
   "metadata": {},
   "source": [
    "We can also analyse the behavior of the pricing model using the same tools we saw in the last notebook, e.g. get the prices for each path by specifying `PV_VEC` flag."
   ]
  },
  {
   "cell_type": "code",
   "execution_count": null,
   "metadata": {},
   "outputs": [
    {
     "data": {
      "image/png": "[encoded data removed]",
      "text/plain": [
       "<Figure size 640x480 with 1 Axes>"
      ]
     },
     "metadata": {},
     "output_type": "display_data"
    }
   ],
   "source": [
    "   \n",
    "pv_vec = stats[\"PV_VEC\"]\n",
    "plt.hist(pv_vec, bins=100, density=True, histtype=\"step\", log=True)\n",
    "plt.title(\"density plot\") \n",
    "plt.show()"
   ]
  },
  {
   "cell_type": "markdown",
   "metadata": {},
   "source": [
    "<a style='text-decoration:none;line-height:16px;display:flex;color:#5B5B62;padding:10px;justify-content:end;' href='https://deepnote.com?utm_source=created-in-deepnote-cell&projectId=bc6357ff-4a45-421b-9726-87fe96e1ac03' target=\"_blank\">\n",
    "<img alt='Created in deepnote.com' style='display:inline;max-height:16px;margin:0px;margin-right:7.5px;' src='data:image/svg+xml;base64,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' > </img>\n",
    "Created in <span style='font-weight:600;margin-left:4px;'>Deepnote</span></a>"
   ]
  }
 ],
 "metadata": {
  "deepnote_execution_queue": [],
  "deepnote_notebook_id": "bb18d62bd5c4412c93abe157ba8bae7b",
  "deepnote_persisted_session": {
   "createdAt": "2023-12-14T19:45:11.526Z"
  },
  "kernelspec": {
   "display_name": ".venv",
   "language": "python",
   "name": "python3"
  },
  "language_info": {
   "codemirror_mode": {
    "name": "ipython",
    "version": 3
   },
   "file_extension": ".py",
   "mimetype": "text/x-python",
   "name": "python",
   "nbconvert_exporter": "python",
   "pygments_lexer": "ipython3"
  }
 },
 "nbformat": 4,
 "nbformat_minor": 0
}
