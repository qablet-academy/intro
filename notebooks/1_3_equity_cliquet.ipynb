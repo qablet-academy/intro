{
 "cells": [
  {
   "cell_type": "markdown",
   "metadata": {},
   "source": [
    "# An equity cliquet contract\n"
   ]
  },
  {
   "cell_type": "markdown",
   "metadata": {},
   "source": [
    "Pre-requisites: Notebook 1.1, 1.2\n",
    "\n",
    "In this notebook we will create and price an **accumulator clique** and in that process learn to \n",
    "\n",
    "- use a **snapper** for contracts with path dependent calculations.\n",
    "- create a timetable with `expressions`\n",
    "\n",
    "Let us start with the imports."
   ]
  },
  {
   "cell_type": "code",
   "execution_count": null,
   "metadata": {},
   "outputs": [],
   "source": [
    "from datetime import datetime\n",
    "\n",
    "import numpy as np\n",
    "import pandas as pd\n",
    "from finmc.models.heston import HestonMC\n",
    "from matplotlib import pyplot as plt\n",
    "from pyarrow import RecordBatch as rb\n",
    "from qablet.base.flags import Stats\n",
    "from qablet.base.mc import MCPricer\n",
    "from qablet_contracts.timetable import TS_EVENT_SCHEMA, py_to_ts"
   ]
  },
  {
   "cell_type": "markdown",
   "metadata": {},
   "source": [
    "## Create the contract\n",
    "\n",
    "The payoff of an accumulator depends on the returns of an asset over several time periods $T_0 < T_1 < ... T_N$. \n",
    "\n",
    "If the returns are given by\n",
    "\n",
    "$$\n",
    "r_i = \\frac{S_{T_{i+1}}-S_{T_i}}{S_{T_i}}\n",
    "$$\n",
    "\n",
    "The contract has a single payoff at $T_N$ is given by\n",
    "\n",
    "$$\n",
    "\\max \\left( 0, \\Sigma_0^{N-1} \\max(\\min(r_i, cap), floor) \\right)\n",
    "$$\n",
    "\n",
    "To calculate this payoff we will use two path dependent numbers called **snaps**.\n",
    "\n",
    " - `S_LAST` to keep track of the last known fixing of the stock\n",
    " - `A` to keep track of the accumutated return so far"
   ]
  },
  {
   "cell_type": "code",
   "execution_count": null,
   "metadata": {},
   "outputs": [],
   "source": [
    "# Accumulator Cliquet parameters\n",
    "global_floor = 0.0\n",
    "# calculate returns every six months for 3 years\n",
    "fix_dts = pd.bdate_range(\n",
    "    datetime(2021, 12, 31),\n",
    "    datetime(2024, 12, 31),\n",
    "    freq=\"2BQE\",\n",
    "    inclusive=\"both\",\n",
    ")\n",
    "local_floor = -0.03\n",
    "local_cap = 0.05\n",
    "ccy = \"USD\"\n",
    "asset = \"SPX\""
   ]
  },
  {
   "cell_type": "markdown",
   "metadata": {},
   "source": [
    "The first event is a **snapper** named `INIT` which initializes the **snaps** `S_LAST` and `A`. We will define the `INIT` a little later. A snapper event has no impact on the contract itself."
   ]
  },
  {
   "cell_type": "code",
   "execution_count": null,
   "metadata": {},
   "outputs": [],
   "source": [
    "events = [\n",
    "    {\n",
    "        \"track\": None,\n",
    "        \"time\": fix_dts[0],\n",
    "        \"op\": \"s\",\n",
    "        \"quantity\": 0,\n",
    "        \"unit\": \"INIT\",  # initialize accumulator\n",
    "    }\n",
    "]"
   ]
  },
  {
   "cell_type": "markdown",
   "metadata": {},
   "source": [
    "It is followed by a series of **snapper** events at each fixing time, which updates the accumulator `A` and the last fixing value. "
   ]
  },
  {
   "cell_type": "code",
   "execution_count": null,
   "metadata": {},
   "outputs": [],
   "source": [
    "for fix_dt in fix_dts[1:]:\n",
    "    events.append(\n",
    "        {\n",
    "            \"track\": None,\n",
    "            \"time\": fix_dt,\n",
    "            \"op\": \"s\",\n",
    "            \"quantity\": 0,\n",
    "            \"unit\": \"UPDATE\",  # update accumulator\n",
    "        }\n",
    "    )"
   ]
  },
  {
   "cell_type": "markdown",
   "metadata": {},
   "source": [
    "Then, at maturity, we apply the global floor, which is an option for the holder of the contract to receive the floor, instead of the accumulator payoff. "
   ]
  },
  {
   "cell_type": "code",
   "execution_count": null,
   "metadata": {},
   "outputs": [],
   "source": [
    "maturity = fix_dts[-1]\n",
    "\n",
    "events.append(\n",
    "    {\n",
    "        \"track\": \"\",\n",
    "        \"time\": maturity,\n",
    "        \"op\": \">\",  # global floor\n",
    "        \"quantity\": global_floor,\n",
    "        \"unit\": ccy,\n",
    "    }\n",
    ")"
   ]
  },
  {
   "cell_type": "markdown",
   "metadata": {},
   "source": [
    "Finally, the last event is a payment based on the accumulator. This is expressed by having `A` in the unit column."
   ]
  },
  {
   "cell_type": "code",
   "execution_count": null,
   "metadata": {},
   "outputs": [],
   "source": [
    "events.append(\n",
    "    {\n",
    "        \"track\": \"\",\n",
    "        \"time\": maturity,\n",
    "        \"op\": \"+\",  # pay the accumulated amount\n",
    "        \"quantity\": 1,\n",
    "        \"unit\": \"A\",\n",
    "    }\n",
    ")"
   ]
  },
  {
   "cell_type": "markdown",
   "metadata": {},
   "source": [
    "From this list we can create the events arrow table using the `RecordBatch.from_py_list` method from the `pyarrow` package."
   ]
  },
  {
   "cell_type": "code",
   "execution_count": null,
   "metadata": {},
   "outputs": [
    {
     "name": "stdout",
     "output_type": "stream",
     "text": [
      "                       time op  quantity    unit track\n",
      "0 2021-12-31 00:00:00+00:00  s       0.0    INIT   NaN\n",
      "1 2022-06-30 00:00:00+00:00  s       0.0  UPDATE   NaN\n",
      "2 2022-12-30 00:00:00+00:00  s       0.0  UPDATE   NaN\n",
      "3 2023-06-30 00:00:00+00:00  s       0.0  UPDATE   NaN\n",
      "4 2023-12-29 00:00:00+00:00  s       0.0  UPDATE   NaN\n",
      "5 2024-06-28 00:00:00+00:00  s       0.0  UPDATE   NaN\n",
      "6 2024-12-31 00:00:00+00:00  s       0.0  UPDATE   NaN\n",
      "7 2024-12-31 00:00:00+00:00  >       0.0     USD      \n",
      "8 2024-12-31 00:00:00+00:00  +       1.0       A      \n"
     ]
    }
   ],
   "source": [
    "events_table = rb.from_pylist(events, schema=TS_EVENT_SCHEMA)\n",
    "print(events_table.to_pandas())"
   ]
  },
  {
   "cell_type": "markdown",
   "metadata": {},
   "source": [
    "We are not done, because we have not defined `INIT` and `UPDATE` yet. We define a snapper using a dict of four components."
   ]
  },
  {
   "cell_type": "code",
   "execution_count": null,
   "metadata": {},
   "outputs": [],
   "source": [
    "def accumulator_init_fn(inputs):\n",
    "    [s] = inputs\n",
    "    return [0, s]  # [A, S_last]\n",
    "\n",
    "\n",
    "init = {\n",
    "    \"type\": \"snapper\",\n",
    "    \"inp\": [asset],  # what assets should go as inputs to the snapper fn\n",
    "    \"fn\": accumulator_init_fn,  # the snapper fn\n",
    "    \"out\": [\n",
    "        \"A\",\n",
    "        \"S_last\",\n",
    "    ],  # what snaps should store the output of the snapper fn\n",
    "}"
   ]
  },
  {
   "cell_type": "markdown",
   "metadata": {},
   "source": [
    "Similarly,"
   ]
  },
  {
   "cell_type": "code",
   "execution_count": null,
   "metadata": {},
   "outputs": [],
   "source": [
    "def accumulator_update_fn(inputs):\n",
    "    [s, s_last, a] = inputs\n",
    "\n",
    "    ret = s / s_last - 1.0  # ret = S / S_last - 1\n",
    "    ret = np.maximum(local_floor, ret)\n",
    "    ret = np.minimum(local_cap, ret)\n",
    "\n",
    "    return [a + ret, s]  # [A, S_last]\n",
    "\n",
    "\n",
    "update = {\n",
    "    \"type\": \"snapper\",\n",
    "    \"inp\": [\n",
    "        asset,\n",
    "        \"S_last\",\n",
    "        \"A\",\n",
    "    ],  # what assets, or previous snaps should go as inputs to the snapper fn\n",
    "    \"fn\": accumulator_update_fn,  # the snapper fn\n",
    "    \"out\": [\n",
    "        \"A\",\n",
    "        \"S_last\",\n",
    "    ],  # what snaps should store the output of the snapper fn\n",
    "}"
   ]
  },
  {
   "cell_type": "markdown",
   "metadata": {},
   "source": [
    "For more details see [Snapper API](https://qablet.github.io/qablet-contracts/specifications/snapper/)\n",
    "\n",
    "Now we have all components needed to define our timetable. Unlike previous examples, where the timetable only had `events`, this time has another component called `expressions`.\n"
   ]
  },
  {
   "cell_type": "code",
   "execution_count": null,
   "metadata": {},
   "outputs": [],
   "source": [
    "timetable = {\n",
    "    \"events\": events_table,\n",
    "    \"expressions\": {\n",
    "        \"INIT\": init,\n",
    "        \"UPDATE\": update,\n",
    "    },\n",
    "}"
   ]
  },
  {
   "cell_type": "markdown",
   "metadata": {},
   "source": [
    "## Calculate Price (Heston)"
   ]
  },
  {
   "cell_type": "markdown",
   "metadata": {},
   "source": [
    "To price this contract, we can use the `HestonMC` from the finmc package that we used to price the vanilla option contract. Recall that this model requires HESTON model parameters to be included in the dataset. However, this part is independent of the contract, so we can use the same dataset that we used for the vanilla option."
   ]
  },
  {
   "cell_type": "code",
   "execution_count": null,
   "metadata": {},
   "outputs": [
    {
     "name": "stdout",
     "output_type": "stream",
     "text": [
      "price:    0.082519\n"
     ]
    }
   ],
   "source": [
    "times = np.array([0.0, 1.0, 2.0, 5.0])\n",
    "rates = np.array([0.04, 0.04, 0.045, 0.05])\n",
    "discount_data = (\"ZERO_RATES\", np.column_stack((times, rates)))\n",
    "\n",
    "spot = 2900\n",
    "div_rate = 0.01\n",
    "fwds = spot * np.exp((rates - div_rate) * times)\n",
    "fwd_data = (\"FORWARDS\", np.column_stack((times, fwds)))\n",
    "\n",
    "heston_dataset = {\n",
    "    \"MC\": {\n",
    "        \"PATHS\": 100_000,\n",
    "        \"TIMESTEP\": 1 / 250,\n",
    "        \"SEED\": 1,\n",
    "    },\n",
    "    \"BASE\": \"USD\",\n",
    "    \"PRICING_TS\": py_to_ts(datetime(2021, 12, 31)).value,\n",
    "    \"ASSETS\": {\"USD\": discount_data, \"SPX\": fwd_data},\n",
    "    \"HESTON\": {\n",
    "        \"ASSET\": \"SPX\",\n",
    "        \"INITIAL_VAR\": 0.0654,\n",
    "        \"LONG_VAR\": 0.0707,\n",
    "        \"VOL_OF_VOL\": 0.2928,\n",
    "        \"MEANREV\": 0.6067,\n",
    "        \"CORRELATION\": -0.7571,\n",
    "    },\n",
    "}\n",
    "model = MCPricer(HestonMC)\n",
    "price, _ = model.price(timetable, heston_dataset)\n",
    "print(f\"price: {price:11.6f}\")"
   ]
  },
  {
   "cell_type": "markdown",
   "metadata": {},
   "source": [
    "## Pricing Stats\n",
    "As we saw in the vannial option notebok, we can use the `PV_VEC` flag to get the distribution of prices."
   ]
  },
  {
   "cell_type": "code",
   "execution_count": null,
   "metadata": {},
   "outputs": [
    {
     "name": "stdout",
     "output_type": "stream",
     "text": [
      "price:    0.082519\n",
      "stats: {'PV_VEC': array([0.11115008, 0.        , 0.        , ..., 0.19059449, 0.1212874 ,\n",
      "       0.19059449])}\n"
     ]
    }
   ],
   "source": [
    "heston_dataset[\"MC\"][\"FLAGS\"] = Stats.PV_VEC\n",
    "price, stats = model.price(timetable, heston_dataset)\n",
    "print(f\"price: {price:11.6f}\")\n",
    "print(f\"stats: {stats}\")"
   ]
  },
  {
   "cell_type": "markdown",
   "metadata": {},
   "source": [
    "We can use this data to get the standard deviation of the simulation."
   ]
  },
  {
   "cell_type": "code",
   "execution_count": null,
   "metadata": {},
   "outputs": [
    {
     "name": "stdout",
     "output_type": "stream",
     "text": [
      "std = 0.069465\n",
      "max = 0.259902\n",
      "min = 0.000000\n"
     ]
    }
   ],
   "source": [
    "pv_vec = stats[\"PV_VEC\"]\n",
    "print(f\"std = {pv_vec.std():.6f}\")\n",
    "print(f\"max = {pv_vec.max():.6f}\")\n",
    "print(f\"min = {pv_vec.min():.6f}\")"
   ]
  },
  {
   "cell_type": "markdown",
   "metadata": {},
   "source": [
    "We can use this data to plot the probability density."
   ]
  },
  {
   "cell_type": "code",
   "execution_count": null,
   "metadata": {},
   "outputs": [
    {
     "data": {
      "image/png": "[encoded data removed]",
      "text/plain": [
       "<Figure size 640x480 with 1 Axes>"
      ]
     },
     "metadata": {},
     "output_type": "display_data"
    }
   ],
   "source": [
    "plt.hist(pv_vec, bins=100, density=True, histtype=\"step\", log=True)\n",
    "plt.title(\"density plot\")\n",
    "plt.show()"
   ]
  },
  {
   "cell_type": "markdown",
   "metadata": {},
   "source": [
    "## Suggested Exercises and Other Reading\n",
    "\n",
    "- Create and price a Napolean Option, where the payoff at maturity is a fixed Coupon plus the minimum of the returns of each period.\n",
    "- Create and price a forward starting option.\n",
    "- See Project [qatwalk/eq](https://github.com/qatwalk/eq) for comparisons of many exotic derivatives (cliquets, forward collars, lookback options) using a number of different models."
   ]
  },
  {
   "cell_type": "markdown",
   "metadata": {},
   "source": [
    "Next: [Vanilla Swaption](1_4_vanilla_swaption.ipynb)"
   ]
  }
 ],
 "metadata": {
  "deepnote_execution_queue": [],
  "deepnote_notebook_id": "067033cc7feb4026b5538fee2ae11d8d",
  "deepnote_persisted_session": {
   "createdAt": "2023-12-14T19:45:06.891Z"
  },
  "kernelspec": {
   "display_name": ".venv",
   "language": "python",
   "name": "python3"
  },
  "language_info": {
   "codemirror_mode": {
    "name": "ipython",
    "version": 3
   },
   "file_extension": ".py",
   "mimetype": "text/x-python",
   "name": "python",
   "nbconvert_exporter": "python",
   "pygments_lexer": "ipython3"
  }
 },
 "nbformat": 4,
 "nbformat_minor": 0
}
