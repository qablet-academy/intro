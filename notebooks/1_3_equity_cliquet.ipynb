{
 "cells": [
  {
   "cell_type": "markdown",
   "metadata": {},
   "source": [
    "# An equity cliquet contract\n"
   ]
  },
  {
   "cell_type": "markdown",
   "metadata": {},
   "source": [
    "Pre-requisites: Notebook 1.1, 1.2\n",
    "\n",
    "In this notebook we will create and price an **accumulator clique** and in that process learn to \n",
    "\n",
    "- use a **snapper** for contracts with path dependent calculations.\n",
    "- create a timetable without using `timetable_from_dicts`\n",
    "\n",
    "Let us start with the imports."
   ]
  },
  {
   "cell_type": "code",
   "execution_count": null,
   "metadata": {},
   "outputs": [],
   "source": [
    "import numpy as np\n",
    "import pyarrow as pa\n",
    "from qablet_contracts.timetable import EVENT_SCHEMA\n",
    "from qablet.heston.mc import HestonMCModel\n",
    "from qablet.base.flags import Stats\n",
    "from matplotlib import pyplot as plt "
   ]
  },
  {
   "cell_type": "markdown",
   "metadata": {},
   "source": [
    "## Create the contract\n",
    "\n",
    "The payoff of an accumulator depends on the returns of an asset over several time periods $T_0 < T_1 < ... T_N$. \n",
    "\n",
    "If the returns are given by\n",
    "\n",
    "$$\n",
    "r_i = \\frac{S_{T_{i+1}}-S_{T_i}}{S_{T_i}}\n",
    "$$\n",
    "\n",
    "The contract has a single payoff at $T_N$ is given by\n",
    "\n",
    "$$\n",
    "\\max \\left( 0, \\Sigma_0^{N-1} \\max(\\min(r_i, cap), floor) \\right)\n",
    "$$\n",
    "\n",
    "To calculate this payoff we will use two path dependent numbers called **snaps**.\n",
    "\n",
    " - `S_LAST` to keep track of the last known fixing of the stock\n",
    " - `A` to keep track of the accumutated return so far"
   ]
  },
  {
   "cell_type": "code",
   "execution_count": null,
   "metadata": {},
   "outputs": [],
   "source": [
    "# Accumulator Cliquet parameters\n",
    "global_floor = 0.0\n",
    "fixings = np.linspace(0, 3, 7)  # T = 3 years, N = 6 fixings\n",
    "local_floor = -0.03\n",
    "local_cap = 0.05\n",
    "ccy = \"USD\"\n",
    "asset = \"SPX\""
   ]
  },
  {
   "cell_type": "markdown",
   "metadata": {},
   "source": [
    "The first event is a **snapper** named `INIT` which initializes the **snaps** `S_LAST` and `A`. We will define the `INIT` a little later. A snapper event has no impact on the contract itself."
   ]
  },
  {
   "cell_type": "code",
   "execution_count": null,
   "metadata": {},
   "outputs": [],
   "source": [
    "events = [\n",
    "    {\n",
    "        \"track\": None,\n",
    "        \"time\": fixings[0],\n",
    "        \"op\": \"s\",\n",
    "        \"quantity\": 0,\n",
    "        \"unit\": \"INIT\",  # initialize accumulator\n",
    "    }\n",
    "]"
   ]
  },
  {
   "cell_type": "markdown",
   "metadata": {},
   "source": [
    "It is followed by a series of **snapper** events at each fixing time, which updates the accumulator `A` and the last fixing value. "
   ]
  },
  {
   "cell_type": "code",
   "execution_count": null,
   "metadata": {},
   "outputs": [],
   "source": [
    "for fixing_time in fixings[1:]:\n",
    "    events.append(\n",
    "        {\n",
    "            \"track\": None,\n",
    "            \"time\": fixing_time,\n",
    "            \"op\": \"s\",\n",
    "            \"quantity\": 0,\n",
    "            \"unit\": \"UPDATE\",  # update accumulator\n",
    "        }\n",
    "    )"
   ]
  },
  {
   "cell_type": "markdown",
   "metadata": {},
   "source": [
    "Then, at maturity, we apply the global floor, which is an option for the holder of the contract to receive the floor, instead of the accumulator payoff. "
   ]
  },
  {
   "cell_type": "code",
   "execution_count": null,
   "metadata": {},
   "outputs": [],
   "source": [
    "maturity = fixings[-1]\n",
    "\n",
    "events.append(\n",
    "    {\n",
    "        \"track\": \"\",\n",
    "        \"time\": maturity,\n",
    "        \"op\": \">\",  # global floor\n",
    "        \"quantity\": global_floor,\n",
    "        \"unit\": ccy,\n",
    "    }\n",
    ")"
   ]
  },
  {
   "cell_type": "markdown",
   "metadata": {},
   "source": [
    "Finally, the last event is a payment based on the accumulator. This is expressed by having `A` in the unit column."
   ]
  },
  {
   "cell_type": "code",
   "execution_count": null,
   "metadata": {},
   "outputs": [],
   "source": [
    "events.append(\n",
    "    {\n",
    "        \"track\": \"\",\n",
    "        \"time\": maturity,\n",
    "        \"op\": \"+\",  # pay the accumulated amount\n",
    "        \"quantity\": 1,\n",
    "        \"unit\": \"A\",\n",
    "    }\n",
    ")"
   ]
  },
  {
   "cell_type": "markdown",
   "metadata": {},
   "source": [
    "From this list we can create the events arrow table using the `RecordBatch.from_py_list` method from the `pyarrow` package."
   ]
  },
  {
   "cell_type": "code",
   "execution_count": null,
   "metadata": {},
   "outputs": [
    {
     "name": "stdout",
     "output_type": "stream",
     "text": [
      "  track  time op  quantity    unit\n",
      "0   NaN   0.0  s       0.0    INIT\n",
      "1   NaN   0.5  s       0.0  UPDATE\n",
      "2   NaN   1.0  s       0.0  UPDATE\n",
      "3   NaN   1.5  s       0.0  UPDATE\n",
      "4   NaN   2.0  s       0.0  UPDATE\n",
      "5   NaN   2.5  s       0.0  UPDATE\n",
      "6   NaN   3.0  s       0.0  UPDATE\n",
      "7         3.0  >       0.0     USD\n",
      "8         3.0  +       1.0       A\n"
     ]
    }
   ],
   "source": [
    "events_table = pa.RecordBatch.from_pylist(events, schema=EVENT_SCHEMA)\n",
    "print(events_table.to_pandas())"
   ]
  },
  {
   "cell_type": "markdown",
   "metadata": {},
   "source": [
    "We are not done, because we have not defined `INIT` and `UPDATE` yet. We define a snapper using a dict of four components."
   ]
  },
  {
   "cell_type": "code",
   "execution_count": null,
   "metadata": {},
   "outputs": [],
   "source": [
    "def accumulator_init_fn(inputs):\n",
    "    [s] = inputs\n",
    "    return [0, s]  # [A, S_last]\n",
    "\n",
    "init = {\n",
    "    \"type\": \"snapper\",\n",
    "    \"inp\": [asset],  # what assets should go as inputs to the snapper fn\n",
    "    \"snap_fn\": accumulator_init_fn,  # the snapper fn\n",
    "    \"out\": [\"A\", \"S_last\"],  # what snaps should store the output of the snapper fn\n",
    "}"
   ]
  },
  {
   "cell_type": "markdown",
   "metadata": {},
   "source": [
    "Similarly,"
   ]
  },
  {
   "cell_type": "code",
   "execution_count": null,
   "metadata": {},
   "outputs": [],
   "source": [
    "def accumulator_update_fn(inputs):\n",
    "    [s, s_last, a] = inputs\n",
    "\n",
    "    ret = s / s_last - 1.0  # ret = S / S_last - 1\n",
    "    ret = np.maximum(local_floor, ret)\n",
    "    ret = np.minimum(local_cap, ret)\n",
    "\n",
    "    return [a + ret, s]  # [A, S_last]\n",
    "\n",
    "update = {\n",
    "    \"type\": \"snapper\",\n",
    "    \"inp\": [asset, \"S_last\", \"A\"],   # what assets, or previous snaps should go as inputs to the snapper fn\n",
    "    \"snap_fn\": accumulator_update_fn,  # the snapper fn\n",
    "    \"out\": [\"A\", \"S_last\"],  # what snaps should store the output of the snapper fn\n",
    "}"
   ]
  },
  {
   "cell_type": "markdown",
   "metadata": {},
   "source": [
    "Also see [qablet-contracts/specifications/snapper/](https://qablet.github.io/qablet-contracts/specifications/snapper/)\n",
    "Now we have all components needed to define our timetable.\n"
   ]
  },
  {
   "cell_type": "code",
   "execution_count": null,
   "metadata": {},
   "outputs": [],
   "source": [
    "\n",
    "timetable = {\n",
    "    \"events\": events_table,\n",
    "    \"expressions\": {\n",
    "        \"INIT\": init,\n",
    "        \"UPDATE\": update,\n",
    "    }\n",
    "}"
   ]
  },
  {
   "cell_type": "markdown",
   "metadata": {},
   "source": [
    "## Calculate Price (Heston)"
   ]
  },
  {
   "cell_type": "markdown",
   "metadata": {},
   "source": [
    "To price this contract, we can use the same `HestonMCModel` from the qablet library that we used to price the vanilla option contract. Recall that this model requires HESTON model parameters to be included in the dataset. However, this part is independent of the contract, so we can use the same dataset that we used for the vanilla option."
   ]
  },
  {
   "cell_type": "code",
   "execution_count": null,
   "metadata": {},
   "outputs": [
    {
     "name": "stdout",
     "output_type": "stream",
     "text": [
      "price:    0.082530\n"
     ]
    }
   ],
   "source": [
    "\n",
    "\n",
    "times = np.array([0.0, 1.0, 2.0, 5.0])\n",
    "rates = np.array([0.04, 0.04, 0.045, 0.05])\n",
    "discount_data = (\"ZERO_RATES\", np.column_stack((times, rates)))\n",
    "\n",
    "spot = 2900\n",
    "div_rate = 0.01\n",
    "fwds = spot * np.exp((rates - div_rate) * times)\n",
    "fwd_data = (\"FORWARDS\", np.column_stack((times, fwds)))\n",
    "\n",
    "heston_dataset = {\n",
    "    \"MC\": {\n",
    "        \"PATHS\": 100_000,\n",
    "        \"TIMESTEP\": 1 / 250,\n",
    "        \"SEED\": 1,\n",
    "    },\n",
    "    \"BASE\": \"USD\",\n",
    "    \"ASSETS\": {\"USD\": discount_data, \"SPX\": fwd_data},\n",
    "    \"HESTON\": {\n",
    "        \"ASSET\": \"SPX\",\n",
    "        \"INITIAL_VAR\": 0.0654,\n",
    "        \"LONG_VAR\": 0.0707,\n",
    "        \"VOL_OF_VAR\": 0.2928,\n",
    "        \"MEANREV\": 0.6067,\n",
    "        \"CORRELATION\": -0.7571,\n",
    "    }\n",
    "}\n",
    "model = HestonMCModel()\n",
    "price, _ = model.price(timetable, heston_dataset)\n",
    "print(f\"price: {price:11.6f}\")"
   ]
  },
  {
   "cell_type": "markdown",
   "metadata": {},
   "source": [
    "## Pricing Stats\n",
    "As we saw in the vannial option notebok, we can use the `PV_VEC` flag to get the distribution of prices."
   ]
  },
  {
   "cell_type": "code",
   "execution_count": null,
   "metadata": {},
   "outputs": [
    {
     "name": "stdout",
     "output_type": "stream",
     "text": [
      "price:    0.082530\n",
      "stats: {'PV_VEC': array([0.11408917, 0.        , 0.        , ..., 0.19062234, 0.12130513,\n",
      "       0.19062234])}\n"
     ]
    }
   ],
   "source": [
    "heston_dataset[\"MC\"][\"FLAGS\"] = Stats.PV_VEC\n",
    "\n",
    "model = HestonMCModel()\n",
    "price, stats = model.price(timetable, heston_dataset)\n",
    "print(f\"price: {price:11.6f}\")\n",
    "print(f\"stats: {stats}\")"
   ]
  },
  {
   "cell_type": "markdown",
   "metadata": {},
   "source": [
    "We can use this data to get the standard deviation of the simulation."
   ]
  },
  {
   "cell_type": "code",
   "execution_count": null,
   "metadata": {},
   "outputs": [
    {
     "name": "stdout",
     "output_type": "stream",
     "text": [
      "std = 0.069498\n",
      "max = 0.259940\n",
      "min = 0.000000\n"
     ]
    }
   ],
   "source": [
    "pv_vec = stats[\"PV_VEC\"]\n",
    "print(f\"std = {pv_vec.std():.6f}\")\n",
    "print(f\"max = {pv_vec.max():.6f}\")\n",
    "print(f\"min = {pv_vec.min():.6f}\")"
   ]
  },
  {
   "cell_type": "markdown",
   "metadata": {},
   "source": [
    "We can use this data to plot the probability density."
   ]
  },
  {
   "cell_type": "code",
   "execution_count": null,
   "metadata": {},
   "outputs": [
    {
     "data": {
      "image/png": "[encoded data removed]",
      "text/plain": [
       "<Figure size 640x480 with 1 Axes>"
      ]
     },
     "metadata": {},
     "output_type": "display_data"
    }
   ],
   "source": [
    "plt.hist(pv_vec, bins=100, density=True, histtype=\"step\", log=True)\n",
    "plt.title(\"density plot\") \n",
    "plt.show()"
   ]
  },
  {
   "cell_type": "markdown",
   "metadata": {},
   "source": [
    "<a style='text-decoration:none;line-height:16px;display:flex;color:#5B5B62;padding:10px;justify-content:end;' href='https://deepnote.com?utm_source=created-in-deepnote-cell&projectId=bc6357ff-4a45-421b-9726-87fe96e1ac03' target=\"_blank\">\n",
    "<img alt='Created in deepnote.com' style='display:inline;max-height:16px;margin:0px;margin-right:7.5px;' src='data:image/svg+xml;base64,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' > </img>\n",
    "Created in <span style='font-weight:600;margin-left:4px;'>Deepnote</span></a>"
   ]
  }
 ],
 "metadata": {
  "deepnote_execution_queue": [],
  "deepnote_notebook_id": "067033cc7feb4026b5538fee2ae11d8d",
  "deepnote_persisted_session": {
   "createdAt": "2023-12-14T19:45:06.891Z"
  },
  "kernelspec": {
   "display_name": ".venv",
   "language": "python",
   "name": "python3"
  },
  "language_info": {
   "codemirror_mode": {
    "name": "ipython",
    "version": 3
   },
   "file_extension": ".py",
   "mimetype": "text/x-python",
   "name": "python",
   "nbconvert_exporter": "python",
   "pygments_lexer": "ipython3"
  }
 },
 "nbformat": 4,
 "nbformat_minor": 0
}
