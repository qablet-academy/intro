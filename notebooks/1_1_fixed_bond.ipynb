{
 "cells": [
  {
   "cell_type": "markdown",
   "metadata": {},
   "source": [
    "# What is Qablet?\n",
    "A **Qablet timetable** defines a financial product using a sequence of payments, choices and conditions. A valuation model implemented with a Qablet parser can value any contract, as long as the contract can be described using a Qablet Timetable."
   ]
  },
  {
   "cell_type": "markdown",
   "metadata": {},
   "source": [
    "## A Simple Contract\n",
    "\n",
    "In this notebook we will learn to create the simplest possible financial contract as a qablet timetable, and price it with a deterministic model. We will use the following packages.\n",
    "\n",
    "- `qablet_contracts` contains utilities to create qablet timetables for financial contracts.\n",
    "- `qablet` contains a suite of models to evaluate qablet timetables.\n",
    "\n",
    "To use these packages in your local environment, you will need `pip install qablet-contracts` and `pip install qablet-basic`. For complete API documentation see [qablet.github.io/qablet-contracts](https://qablet.github.io/qablet-contracts/) and [qablet-academy.github.io/intro/](https://qablet-academy.github.io/intro/).\n",
    "\n",
    "Let us start with the imports."
   ]
  },
  {
   "cell_type": "code",
   "execution_count": null,
   "metadata": {},
   "outputs": [],
   "source": [
    "import numpy as np\n",
    "import pandas as pd\n",
    "from pyarrow import RecordBatch as rb\n",
    "from datetime import datetime\n",
    "from qablet_contracts.timetable import TS_EVENT_SCHEMA, py_to_ts\n",
    "from qablet.base.fixed import FixedModel"
   ]
  },
  {
   "cell_type": "markdown",
   "metadata": {},
   "source": [
    "## Create the contract\n",
    "\n",
    "A contract is described by a list of events. We will create our first contract using a single event. An event has five properties:\n",
    "\n",
    "- time\n",
    "- op\n",
    "- quantity\n",
    "- unit\n",
    "- track\n",
    "\n",
    "The event below is an example of a `+` **op**, which pays **quantity** 100, at **time** 1.0. In later notebooks we will learn about tracks, units, and other ops.\n"
   ]
  },
  {
   "cell_type": "code",
   "execution_count": null,
   "metadata": {},
   "outputs": [
    {
     "name": "stdout",
     "output_type": "stream",
     "text": [
      "                       time op  quantity unit track\n",
      "0 2024-12-31 00:00:00+00:00  +     100.0  USD      \n"
     ]
    }
   ],
   "source": [
    "events = [\n",
    "    {\n",
    "        \"time\": datetime(2024, 12, 31),\n",
    "        \"op\": \"+\",\n",
    "        \"quantity\": 100.0,\n",
    "        \"unit\": \"USD\",\n",
    "        \"track\": \"\",\n",
    "    },\n",
    "]\n",
    "timetable = {\"events\": rb.from_pylist(events, schema=TS_EVENT_SCHEMA)}\n",
    "print(timetable[\"events\"].to_pandas())"
   ]
  },
  {
   "cell_type": "markdown",
   "metadata": {},
   "source": [
    "The `events` component in the timetable is an [arrow recordbatch](https://arrow.apache.org/docs/format/Columnar.html#). Here we have created it using a list of dicts, but you could also create it using [pandas, polars, and other methods](https://qablet.github.io/qablet-contracts/specifications/timetable/#create-a-timetable)."
   ]
  },
  {
   "cell_type": "markdown",
   "metadata": {},
   "source": [
    "## Create a Dataset to price the contract\n",
    "For our simple contract, the following data is needed\n",
    "- BASE. The name of the currency in which the contract will be valued.\n",
    "- PRICING_TS. The timestamp (milliseconds) that we will price the contract as of.\n",
    "- ASSETS. The forward or discount curve for all assets required for valuation. We will define the asset `USD` using an array of times (years) and zero rates (fraction).\n",
    "\n",
    "`FixedModel` needs nothing else. Other models will reuire model specific parameters in the dataset, as we will see in other notebooks. For more details see [Dataset API](https://qablet-academy.github.io/intro/dataset/)"
   ]
  },
  {
   "cell_type": "code",
   "execution_count": null,
   "metadata": {},
   "outputs": [],
   "source": [
    "# 4% rate from 0 to 5 years.\n",
    "discount_data = (\"ZERO_RATES\", np.array([[5.0, 0.04]]))\n",
    "dataset = {\n",
    "    \"BASE\": \"USD\",\n",
    "    \"PRICING_TS\": py_to_ts(datetime(2023, 12, 31)).value,\n",
    "    \"ASSETS\": {\"USD\": discount_data},\n",
    "}"
   ]
  },
  {
   "cell_type": "markdown",
   "metadata": {},
   "source": [
    "## Calculate Price"
   ]
  },
  {
   "cell_type": "code",
   "execution_count": null,
   "metadata": {},
   "outputs": [
    {
     "name": "stdout",
     "output_type": "stream",
     "text": [
      "price:   96.068415\n"
     ]
    }
   ],
   "source": [
    "model = FixedModel()\n",
    "price, _ = model.price(timetable, dataset)\n",
    "print(f\"price: {price:11.6f}\")"
   ]
  },
  {
   "cell_type": "markdown",
   "metadata": {},
   "source": [
    "## Contract with multiple events\n",
    "\n",
    "A sequence of payments is represented by a sequence of `+` events on the same track. In this example we construct a three year bond, paying a 5% coupon semi-annually. "
   ]
  },
  {
   "cell_type": "code",
   "execution_count": null,
   "metadata": {},
   "outputs": [
    {
     "name": "stdout",
     "output_type": "stream",
     "text": [
      "                       time op  quantity unit track\n",
      "0 2024-06-30 00:00:00+00:00  +       2.5  USD      \n",
      "1 2024-12-31 00:00:00+00:00  +       2.5  USD      \n",
      "2 2025-06-30 00:00:00+00:00  +       2.5  USD      \n",
      "3 2025-12-31 00:00:00+00:00  +       2.5  USD      \n",
      "4 2026-06-30 00:00:00+00:00  +       2.5  USD      \n",
      "5 2026-12-31 00:00:00+00:00  +       2.5  USD      \n",
      "6 2026-12-31 00:00:00+00:00  +     100.0  USD      \n"
     ]
    }
   ],
   "source": [
    "dates = pd.bdate_range(\n",
    "    datetime(2023, 12, 31),\n",
    "    datetime(2026, 12, 31),\n",
    "    freq=\"2QE\",\n",
    "    inclusive=\"right\",\n",
    ")\n",
    "# Interest Payments\n",
    "events = [\n",
    "    {\n",
    "        \"track\": \"\",\n",
    "        \"time\": dt,\n",
    "        \"op\": \"+\",\n",
    "        \"quantity\": 5 / 2,\n",
    "        \"unit\": \"USD\",\n",
    "    }\n",
    "    for dt in dates\n",
    "]\n",
    "\n",
    "# Principal\n",
    "events.append(\n",
    "    {\n",
    "        \"track\": \"\",\n",
    "        \"time\": dates[-1],\n",
    "        \"op\": \"+\",\n",
    "        \"quantity\": 100.0,\n",
    "        \"unit\": \"USD\",\n",
    "    }\n",
    ")\n",
    "\n",
    "timetable = {\n",
    "    \"events\": rb.from_pylist(events, schema=TS_EVENT_SCHEMA),\n",
    "}\n",
    "print(timetable[\"events\"].to_pandas())"
   ]
  },
  {
   "cell_type": "markdown",
   "metadata": {},
   "source": [
    "We calculate the price as before."
   ]
  },
  {
   "cell_type": "code",
   "execution_count": null,
   "metadata": {},
   "outputs": [
    {
     "name": "stdout",
     "output_type": "stream",
     "text": [
      "price:  102.676020\n"
     ]
    }
   ],
   "source": [
    "price, _ = model.price(timetable, dataset)\n",
    "print(f\"price: {price:11.6f}\")"
   ]
  },
  {
   "cell_type": "markdown",
   "metadata": {},
   "source": [
    "## Learn more\n",
    "\n",
    "These notebooks illustrate how to **create different contracts**, and price them using models in the qablet-basic package.\n",
    "\n",
    "- [Vanilla Option](1_2_vanilla_option.ipynb)\n",
    "- [Equity Cliquet](1_3_equity_cliquet.ipynb)\n",
    "- [Vanilla Swaption](1_4_vanilla_swaption.ipynb)\n",
    "- [Bermuda Swaption](1_5_bermuda_swaption.ipynb)\n",
    "\n",
    "These notebooks illustrate how to **define your own monte-carlo model**, and use them to price qablet timetables.\n",
    "\n",
    "- [Black Scholes](2_1_custom_mc.ipynb)\n",
    "- [Two Asset Black Scholes](2_2_custom_two_asset.ipynb)\n"
   ]
  },
  {
   "cell_type": "markdown",
   "metadata": {},
   "source": [
    "Next: [Vanilla Option](1_2_vanilla_option.ipynb)"
   ]
  }
 ],
 "metadata": {
  "deepnote_execution_queue": [],
  "deepnote_notebook_id": "44cc5f90323e4433a3006d0b68068de1",
  "deepnote_persisted_session": {
   "createdAt": "2024-01-08T02:15:16.246Z"
  },
  "kernelspec": {
   "display_name": ".venv",
   "language": "python",
   "name": "python3"
  },
  "language_info": {
   "codemirror_mode": {
    "name": "ipython",
    "version": 3
   },
   "file_extension": ".py",
   "mimetype": "text/x-python",
   "name": "python",
   "nbconvert_exporter": "python",
   "pygments_lexer": "ipython3"
  }
 },
 "nbformat": 4,
 "nbformat_minor": 0
}
